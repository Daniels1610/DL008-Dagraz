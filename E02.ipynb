{
 "cells": [
  {
   "cell_type": "markdown",
   "metadata": {},
   "source": [
    "## E02 Notebook - Daniel Agraz Vallejo"
   ]
  },
  {
   "cell_type": "code",
   "execution_count": 22,
   "metadata": {},
   "outputs": [],
   "source": [
    "import tensorflow as tf\n",
    "import numpy as np\n",
    "import pandas as pd\n",
    "from sklearn import datasets\n",
    "from sklearn.linear_model import Perceptron\n",
    "from sklearn.neural_network import MLPClassifier\n",
    "from sklearn.neural_network import MLPRegressor\n",
    "from sklearn.metrics import mean_squared_error\n",
    "from sklearn.model_selection import train_test_split\n",
    "from sklearn.pipeline import make_pipeline\n",
    "from sklearn.preprocessing import StandardScaler"
   ]
  },
  {
   "cell_type": "markdown",
   "metadata": {},
   "source": [
    "#### **E2.1:** Employing Tensorflow conduct the logic operation on each of the displayed examples.\n",
    "\n",
    "<img src='imgs/E2.1Examples.png' alt='E2.1 Ejemplos'>"
   ]
  },
  {
   "cell_type": "code",
   "execution_count": 2,
   "metadata": {},
   "outputs": [],
   "source": [
    "def buffer(A:tf.Tensor) -> tf.Tensor:\n",
    "    io_description(A, B=None)\n",
    "    return A\n",
    "\n",
    "# Logical AND\n",
    "def land(A:tf.Tensor, B:tf.Tensor) -> tf.Tensor: \n",
    "    io_description(A,B)\n",
    "    return tf.logical_and(A, B)\n",
    "\n",
    "# Logical OR\n",
    "def lor(A:tf.Tensor, B:tf.Tensor) -> tf.Tensor:\n",
    "    io_description(A,B)\n",
    "    return tf.logical_or(A, B)\n",
    "\n",
    "# Logical NOT | tf.logical.not()\n",
    "\n",
    "# Logical Function \n",
    "def logic_func(A:tf.Tensor, B:tf.Tensor) -> tf.Tensor:\n",
    "    io_description(A,B)\n",
    "    return tf.logical_and(A, tf.logical_not(B))\n",
    "\n",
    "def io_description(A:tf.Tensor, B:tf.Tensor):\n",
    "    if B is None: print(f'IN: A-{A}')\n",
    "    else: print(f'IN: A-{A} | B-{B}')"
   ]
  },
  {
   "cell_type": "code",
   "execution_count": 3,
   "metadata": {},
   "outputs": [
    {
     "name": "stderr",
     "output_type": "stream",
     "text": [
      "2024-02-12 18:49:19.281365: I metal_plugin/src/device/metal_device.cc:1154] Metal device set to: Apple M1\n",
      "2024-02-12 18:49:19.281403: I metal_plugin/src/device/metal_device.cc:296] systemMemory: 8.00 GB\n",
      "2024-02-12 18:49:19.281417: I metal_plugin/src/device/metal_device.cc:313] maxCacheSize: 2.67 GB\n",
      "2024-02-12 18:49:19.281810: I tensorflow/core/common_runtime/pluggable_device/pluggable_device_factory.cc:306] Could not identify NUMA node of platform GPU ID 0, defaulting to 0. Your kernel may not have been built with NUMA support.\n",
      "2024-02-12 18:49:19.282258: I tensorflow/core/common_runtime/pluggable_device/pluggable_device_factory.cc:272] Created TensorFlow device (/job:localhost/replica:0/task:0/device:GPU:0 with 0 MB memory) -> physical PluggableDevice (device: 0, name: METAL, pci bus id: <undefined>)\n"
     ]
    }
   ],
   "source": [
    "A0 = B0 = tf.constant(False, dtype=tf.bool)\n",
    "A1 = B1 = tf.constant(True, dtype=tf.bool)\n",
    "tv0 = tf.Variable([(A0,B0),(A0,B1),(A1,B0),(A1,B1)])\n",
    "\n",
    "\n",
    "A20 = B20 = tf.constant([False,False], dtype=tf.bool)\n",
    "A21 = B21 = tf.constant([False,True], dtype=tf.bool)\n",
    "A22 = B22 = tf.constant([True,False], dtype=tf.bool)\n",
    "A23 = B23 = tf.constant([True,True], dtype=tf.bool)\n",
    "tvA = tf.Variable([A20,A21,A22,A23])\n",
    "tvB = tf.Variable([B20,B21,B22,B23])"
   ]
  },
  {
   "cell_type": "markdown",
   "metadata": {},
   "source": [
    "##### Buffer | C = A "
   ]
  },
  {
   "cell_type": "code",
   "execution_count": 4,
   "metadata": {},
   "outputs": [
    {
     "name": "stdout",
     "output_type": "stream",
     "text": [
      "\u001b[1mBuffer:\u001b[0m\n",
      "IN: A-False\n",
      "OUT: False\n",
      "\n",
      "IN: A-True\n",
      "OUT: True\n",
      "\n"
     ]
    }
   ],
   "source": [
    "print(f'\\033[1mBuffer:\\033[0m')\n",
    "print(f'OUT: {buffer(A0)}\\n')\n",
    "print(f'OUT: {buffer(A1)}\\n')"
   ]
  },
  {
   "cell_type": "markdown",
   "metadata": {},
   "source": [
    "##### Logical AND | C = A $\\land$ B"
   ]
  },
  {
   "cell_type": "code",
   "execution_count": 5,
   "metadata": {},
   "outputs": [
    {
     "name": "stdout",
     "output_type": "stream",
     "text": [
      "\u001b[1mLogical AND:\u001b[0m\n",
      "IN: A-False | B-False\n",
      "OUT: False\n",
      "\n",
      "IN: A-False | B-True\n",
      "OUT: False\n",
      "\n",
      "IN: A-True | B-False\n",
      "OUT: False\n",
      "\n",
      "IN: A-True | B-True\n",
      "OUT: True\n",
      "\n",
      "IN: A-[False False] | B-[False False]\n",
      "OUT: [False False]\n",
      "\n",
      "IN: A-[False False] | B-[False  True]\n",
      "OUT: [False  True]\n",
      "\n",
      "IN: A-[False False] | B-[ True False]\n",
      "OUT: [ True False]\n",
      "\n",
      "IN: A-[False False] | B-[ True  True]\n",
      "OUT: [ True  True]\n",
      "\n",
      "IN: A-[False  True] | B-[False False]\n",
      "OUT: [False  True]\n",
      "\n",
      "IN: A-[False  True] | B-[False  True]\n",
      "OUT: [False  True]\n",
      "\n",
      "IN: A-[False  True] | B-[ True False]\n",
      "OUT: [ True  True]\n",
      "\n",
      "IN: A-[False  True] | B-[ True  True]\n",
      "OUT: [ True  True]\n",
      "\n",
      "IN: A-[ True False] | B-[False False]\n",
      "OUT: [ True False]\n",
      "\n",
      "IN: A-[ True False] | B-[False  True]\n",
      "OUT: [ True  True]\n",
      "\n",
      "IN: A-[ True False] | B-[ True False]\n",
      "OUT: [ True False]\n",
      "\n",
      "IN: A-[ True False] | B-[ True  True]\n",
      "OUT: [ True  True]\n",
      "\n",
      "IN: A-[ True  True] | B-[False False]\n",
      "OUT: [ True  True]\n",
      "\n",
      "IN: A-[ True  True] | B-[False  True]\n",
      "OUT: [ True  True]\n",
      "\n",
      "IN: A-[ True  True] | B-[ True False]\n",
      "OUT: [ True  True]\n",
      "\n",
      "IN: A-[ True  True] | B-[ True  True]\n",
      "OUT: [ True  True]\n",
      "\n"
     ]
    }
   ],
   "source": [
    "print(f'\\033[1mLogical AND:\\033[0m')\n",
    "for bools in tv0:\n",
    "    print(f'OUT: {land(bools[0],bools[1])}\\n')\n",
    "\n",
    "for boolA in tvA:\n",
    "    for boolB in tvB:\n",
    "        print(f'OUT: {lor(boolA, boolB)}\\n')"
   ]
  },
  {
   "cell_type": "markdown",
   "metadata": {},
   "source": [
    "##### Logical OR C = A $\\lor$ B"
   ]
  },
  {
   "cell_type": "code",
   "execution_count": 6,
   "metadata": {},
   "outputs": [
    {
     "name": "stdout",
     "output_type": "stream",
     "text": [
      "\u001b[1mLogical OR:\u001b[0m\n",
      "IN: A-False | B-False\n",
      "OUT: False\n",
      "\n",
      "IN: A-False | B-True\n",
      "OUT: True\n",
      "\n",
      "IN: A-True | B-False\n",
      "OUT: True\n",
      "\n",
      "IN: A-True | B-True\n",
      "OUT: True\n",
      "\n",
      "IN: A-[False False] | B-[False False]\n",
      "OUT: [False False]\n",
      "\n",
      "IN: A-[False False] | B-[False  True]\n",
      "OUT: [False  True]\n",
      "\n",
      "IN: A-[False False] | B-[ True False]\n",
      "OUT: [ True False]\n",
      "\n",
      "IN: A-[False False] | B-[ True  True]\n",
      "OUT: [ True  True]\n",
      "\n",
      "IN: A-[False  True] | B-[False False]\n",
      "OUT: [False  True]\n",
      "\n",
      "IN: A-[False  True] | B-[False  True]\n",
      "OUT: [False  True]\n",
      "\n",
      "IN: A-[False  True] | B-[ True False]\n",
      "OUT: [ True  True]\n",
      "\n",
      "IN: A-[False  True] | B-[ True  True]\n",
      "OUT: [ True  True]\n",
      "\n",
      "IN: A-[ True False] | B-[False False]\n",
      "OUT: [ True False]\n",
      "\n",
      "IN: A-[ True False] | B-[False  True]\n",
      "OUT: [ True  True]\n",
      "\n",
      "IN: A-[ True False] | B-[ True False]\n",
      "OUT: [ True False]\n",
      "\n",
      "IN: A-[ True False] | B-[ True  True]\n",
      "OUT: [ True  True]\n",
      "\n",
      "IN: A-[ True  True] | B-[False False]\n",
      "OUT: [ True  True]\n",
      "\n",
      "IN: A-[ True  True] | B-[False  True]\n",
      "OUT: [ True  True]\n",
      "\n",
      "IN: A-[ True  True] | B-[ True False]\n",
      "OUT: [ True  True]\n",
      "\n",
      "IN: A-[ True  True] | B-[ True  True]\n",
      "OUT: [ True  True]\n",
      "\n"
     ]
    }
   ],
   "source": [
    "print(f'\\033[1mLogical OR:\\033[0m')\n",
    "for bools in tv0:\n",
    "    print(f'OUT: {lor(bools[0],bools[1])}\\n')\n",
    "\n",
    "for boolA in tvA:\n",
    "    for boolB in tvB:\n",
    "        print(f'OUT: {lor(boolA, boolB)}\\n')"
   ]
  },
  {
   "cell_type": "markdown",
   "metadata": {},
   "source": [
    "##### Logical Function #1 | C = A $\\lor\\;\\neg$ B"
   ]
  },
  {
   "cell_type": "code",
   "execution_count": null,
   "metadata": {},
   "outputs": [],
   "source": [
    "print(f'\\033[1mLogical Function:\\033[0m')\n",
    "for bools in tv0:\n",
    "    print(f'OUT: {logic_func(bools[0],bools[1])}\\n')\n",
    "\n",
    "for boolA in tvA:\n",
    "    for boolB in tvB:\n",
    "        print(f'OUT: {logic_func(boolA, boolB)}\\n')"
   ]
  },
  {
   "cell_type": "markdown",
   "metadata": {},
   "source": [
    "#### **E2.2:** Implement scikit-learn's perceptron to classify flowers from the Iris Dataset\n",
    "\n"
   ]
  },
  {
   "cell_type": "code",
   "execution_count": 4,
   "metadata": {},
   "outputs": [
    {
     "data": {
      "text/html": [
       "<div>\n",
       "<style scoped>\n",
       "    .dataframe tbody tr th:only-of-type {\n",
       "        vertical-align: middle;\n",
       "    }\n",
       "\n",
       "    .dataframe tbody tr th {\n",
       "        vertical-align: top;\n",
       "    }\n",
       "\n",
       "    .dataframe thead th {\n",
       "        text-align: right;\n",
       "    }\n",
       "</style>\n",
       "<table border=\"1\" class=\"dataframe\">\n",
       "  <thead>\n",
       "    <tr style=\"text-align: right;\">\n",
       "      <th></th>\n",
       "      <th>petal length (cm)</th>\n",
       "      <th>petal width (cm)</th>\n",
       "      <th>class label</th>\n",
       "    </tr>\n",
       "  </thead>\n",
       "  <tbody>\n",
       "    <tr>\n",
       "      <th>0</th>\n",
       "      <td>1.4</td>\n",
       "      <td>0.2</td>\n",
       "      <td>0</td>\n",
       "    </tr>\n",
       "    <tr>\n",
       "      <th>1</th>\n",
       "      <td>1.4</td>\n",
       "      <td>0.2</td>\n",
       "      <td>0</td>\n",
       "    </tr>\n",
       "    <tr>\n",
       "      <th>2</th>\n",
       "      <td>1.3</td>\n",
       "      <td>0.2</td>\n",
       "      <td>0</td>\n",
       "    </tr>\n",
       "    <tr>\n",
       "      <th>3</th>\n",
       "      <td>1.5</td>\n",
       "      <td>0.2</td>\n",
       "      <td>0</td>\n",
       "    </tr>\n",
       "    <tr>\n",
       "      <th>4</th>\n",
       "      <td>1.4</td>\n",
       "      <td>0.2</td>\n",
       "      <td>0</td>\n",
       "    </tr>\n",
       "    <tr>\n",
       "      <th>...</th>\n",
       "      <td>...</td>\n",
       "      <td>...</td>\n",
       "      <td>...</td>\n",
       "    </tr>\n",
       "    <tr>\n",
       "      <th>145</th>\n",
       "      <td>5.2</td>\n",
       "      <td>2.3</td>\n",
       "      <td>2</td>\n",
       "    </tr>\n",
       "    <tr>\n",
       "      <th>146</th>\n",
       "      <td>5.0</td>\n",
       "      <td>1.9</td>\n",
       "      <td>2</td>\n",
       "    </tr>\n",
       "    <tr>\n",
       "      <th>147</th>\n",
       "      <td>5.2</td>\n",
       "      <td>2.0</td>\n",
       "      <td>2</td>\n",
       "    </tr>\n",
       "    <tr>\n",
       "      <th>148</th>\n",
       "      <td>5.4</td>\n",
       "      <td>2.3</td>\n",
       "      <td>2</td>\n",
       "    </tr>\n",
       "    <tr>\n",
       "      <th>149</th>\n",
       "      <td>5.1</td>\n",
       "      <td>1.8</td>\n",
       "      <td>2</td>\n",
       "    </tr>\n",
       "  </tbody>\n",
       "</table>\n",
       "<p>150 rows × 3 columns</p>\n",
       "</div>"
      ],
      "text/plain": [
       "     petal length (cm)  petal width (cm)  class label\n",
       "0                  1.4               0.2            0\n",
       "1                  1.4               0.2            0\n",
       "2                  1.3               0.2            0\n",
       "3                  1.5               0.2            0\n",
       "4                  1.4               0.2            0\n",
       "..                 ...               ...          ...\n",
       "145                5.2               2.3            2\n",
       "146                5.0               1.9            2\n",
       "147                5.2               2.0            2\n",
       "148                5.4               2.3            2\n",
       "149                5.1               1.8            2\n",
       "\n",
       "[150 rows x 3 columns]"
      ]
     },
     "execution_count": 4,
     "metadata": {},
     "output_type": "execute_result"
    }
   ],
   "source": [
    "iris = datasets.load_iris()\n",
    "df_iris = pd.DataFrame(iris.data, columns=iris.feature_names)\n",
    "df_iris.insert(4, 'class label', iris.target.reshape(-1,1))\n",
    "df_iris = df_iris[['petal length (cm)', 'petal width (cm)', 'class label']]\n",
    "df_iris\n"
   ]
  },
  {
   "cell_type": "code",
   "execution_count": 7,
   "metadata": {},
   "outputs": [
    {
     "name": "stdout",
     "output_type": "stream",
     "text": [
      "1.000\n"
     ]
    }
   ],
   "source": [
    "X = iris.data[:, (2,3)]\n",
    "y = (iris.target == 0).astype(int)\n",
    "model = Perceptron(tol=1e-3, random_state=1)\n",
    "model.fit(X, y)\n",
    "print(\"%0.3f\" % model.score(X,y))"
   ]
  },
  {
   "cell_type": "code",
   "execution_count": 8,
   "metadata": {},
   "outputs": [
    {
     "data": {
      "text/plain": [
       "array([1, 0, 0])"
      ]
     },
     "execution_count": 8,
     "metadata": {},
     "output_type": "execute_result"
    }
   ],
   "source": [
    "# 1 | Iris-Setosa\n",
    "# 0 | Not Iris-Setosa\n",
    "X_test = np.array([[2.0, 0.5],\n",
    "                   [3.6, 1.1],\n",
    "                   [4.9, 1.9]])\n",
    "model.predict(X_test)"
   ]
  },
  {
   "cell_type": "code",
   "execution_count": 45,
   "metadata": {},
   "outputs": [
    {
     "data": {
      "text/plain": [
       "(2, 150)"
      ]
     },
     "execution_count": 45,
     "metadata": {},
     "output_type": "execute_result"
    }
   ],
   "source": [
    "# Scratch Implementation\n",
    "# X = iris.data[:, (2,3)]\n",
    "# y = iris.target.reshape(-1,1)\n",
    "# w = np.random.uniform(low=0.001, high=1.0, size=(150, 1))\n",
    "# b = np.random.randint(1,5, size=(1))\n",
    "\n",
    "# z = X * w + b\n",
    "\n",
    "# for i in range(1000):\n",
    "#     pass\n"
   ]
  },
  {
   "cell_type": "markdown",
   "metadata": {},
   "source": [
    "#### **E2.3 :** Implement the XOR Operator with a Multi-Layer Perceptron (MLP)"
   ]
  },
  {
   "cell_type": "code",
   "execution_count": 28,
   "metadata": {},
   "outputs": [],
   "source": [
    "def step(z:np.int32) -> np.int32:\n",
    "    return 0 if z < 0 else 1\n",
    "\n",
    "def input_x() -> tuple:\n",
    "    # Input binary values\n",
    "    while True:\n",
    "        try:\n",
    "            input_x1 = int(input(\"Enter x1 bits: \"), 2)\n",
    "            input_x2 = int(input(\"Enter x2 bits: \"), 2)\n",
    "            break\n",
    "        except ValueError:\n",
    "            print(\"Invalid bit. Input only binary values\")\n",
    "    return input_x1, input_x2\n",
    "\n",
    "def init_params() -> tuple:\n",
    "    w1 = tf.cast(tf.constant([1, 1]), tf.float32)\n",
    "    w2 = tf.cast(tf.constant([-1, 1]), tf.float32)\n",
    "    b1 = tf.constant([-1.5, -0.5])\n",
    "    b2 = tf.constant([-0.5])\n",
    "    return w1, w2, b1, b2\n",
    "\n",
    "def forward_prop(w, x, b) -> tf.float:\n",
    "    return tf.reduce_sum(tf.multiply(w,x)) + b\n"
   ]
  },
  {
   "cell_type": "code",
   "execution_count": 31,
   "metadata": {},
   "outputs": [
    {
     "name": "stdout",
     "output_type": "stream",
     "text": [
      "x1: 0\n",
      "x2: 0\n",
      "y: 0\n"
     ]
    }
   ],
   "source": [
    "x1, x2 = input_x()\n",
    "w1, w2, b1, b2 = init_params()\n",
    "z11 = forward_prop(w1, tf.cast(tf.constant([x1, x2]), tf.float32), b1[0])\n",
    "z12 = forward_prop(w1, tf.cast(tf.constant([x1, x2]), tf.float32), b1[1])\n",
    "# print(f'Z1: {z11} | Z2: {z12}')\n",
    "\n",
    "# Activation 1st Layer\n",
    "a11, a21 = step(z11), step(z12)\n",
    "# print(f'A11: {a11}, A21: {a21}')\n",
    "\n",
    "# Activation 2nd Layer\n",
    "z21 = forward_prop(w2, tf.constant([a11, a21], dtype=tf.float32), b2)\n",
    "# print(f'Z21: {z21}')\n",
    "\n",
    "y = step(z21) \n",
    "\n",
    "print(f'x1: {x1}')\n",
    "print(f'x2: {x2}')\n",
    "print(f'y: {y}')"
   ]
  },
  {
   "cell_type": "markdown",
   "metadata": {},
   "source": [
    "#### **Ejercicio 2.4**\n",
    "Implementar un perceptrón multicapa empleando el MLPClassifier de scikit-learn  \n",
    "(sklearn.neural_network.MLPClassifier) como clasificador para el problema XOR.   \n",
    "Emplear una arquitectura con 2 capas ocultas, 4 neuronas en la primer capa y  \n",
    "2 neuronas en la segunda capa."
   ]
  },
  {
   "cell_type": "code",
   "execution_count": 25,
   "metadata": {},
   "outputs": [
    {
     "name": "stdout",
     "output_type": "stream",
     "text": [
      "1.000\n"
     ]
    },
    {
     "name": "stderr",
     "output_type": "stream",
     "text": [
      "/Users/kekaz16/miniconda3/envs/tensorflow/lib/python3.11/site-packages/sklearn/neural_network/_multilayer_perceptron.py:686: ConvergenceWarning: Stochastic Optimizer: Maximum iterations (800) reached and the optimization hasn't converged yet.\n",
      "  warnings.warn(\n"
     ]
    },
    {
     "data": {
      "text/plain": [
       "array([1, 1, 0], dtype=int32)"
      ]
     },
     "execution_count": 25,
     "metadata": {},
     "output_type": "execute_result"
    }
   ],
   "source": [
    "# Input Dataset\n",
    "X = tf.constant([[0,0],\n",
    "                 [0,1],\n",
    "                 [1,0],\n",
    "                 [1,1]])\n",
    "\n",
    "y = tf.constant([0,1,1,0])\n",
    "\n",
    "# Model\n",
    "model = MLPClassifier(\n",
    "    hidden_layer_sizes= [4, 2],\n",
    "    random_state=1,\n",
    "    activation='relu',\n",
    "    solver='adam',\n",
    "    alpha=0.0001,\n",
    "    learning_rate='constant',\n",
    "    max_iter=800,\n",
    "    verbose=False)\n",
    "\n",
    "# Training\n",
    "model.fit(X, y)\n",
    "print(\"%0.3f\" % model.score(X,y))\n",
    "\n",
    "# Predict\n",
    "X_test = np.array([[0,1],\n",
    "                   [1,0],\n",
    "                   [0,0]])\n",
    "\n",
    "model.predict(X_test)"
   ]
  },
  {
   "cell_type": "markdown",
   "metadata": {},
   "source": [
    "#### **Ejercicio 2.05**\n",
    "Implementar un perceptrón multicapa empleando el MLPRegressor de scikit  \n",
    "learn (sklearn.neural_network.MLPRegressor) para la estimación del valor  \n",
    "medio de vivienda con el conjunto de datos California Housing de scikit learn.  \n",
    "Emplear una arquitectura con 3 capas ocultas, cada una con 50 neuronas y  \n",
    "evaluar el RMSE con datos de prueba."
   ]
  },
  {
   "cell_type": "code",
   "execution_count": 26,
   "metadata": {},
   "outputs": [
    {
     "name": "stdout",
     "output_type": "stream",
     "text": [
      "Validation RMSE: 0.5053326657968762\n",
      "Test RMSE: 0.5053326657968762\n"
     ]
    }
   ],
   "source": [
    "# Input Dataset\n",
    "housing = datasets.fetch_california_housing()\n",
    "X_train_full, X_test, y_train_full, y_test = train_test_split(\n",
    "    housing.data, housing.target, random_state=42)\n",
    "X_train, X_valid, y_train, y_valid = train_test_split(\n",
    "    X_train_full, y_train_full, random_state=42)\n",
    "\n",
    "# Model\n",
    "model = MLPRegressor(\n",
    "    hidden_layer_sizes=[50, 50, 50],\n",
    "    random_state=42,\n",
    "    activation='relu',\n",
    "    solver='adam',\n",
    "    alpha=0.0001,\n",
    "    learning_rate='constant',\n",
    "    max_iter=800,\n",
    "    verbose=False)\n",
    "pipeline = make_pipeline(StandardScaler(), model)\n",
    "\n",
    "# Training\n",
    "pipeline.fit(X_train, y_train)"
   ]
  },
  {
   "cell_type": "code",
   "execution_count": 28,
   "metadata": {},
   "outputs": [
    {
     "name": "stdout",
     "output_type": "stream",
     "text": [
      "Validation RMSE: 0.5053326657968762\n",
      "Test RMSE: 0.521127919557249\n"
     ]
    }
   ],
   "source": [
    "# Predict\n",
    "y_pred_valid = pipeline.predict(X_valid)\n",
    "rmse_valid = mean_squared_error(y_valid, y_pred_valid, squared=False)\n",
    "print(f'Validation RMSE: {rmse_valid}')\n",
    "\n",
    "y_pred_test = pipeline.predict(X_test)\n",
    "rmse_test = mean_squared_error(y_test, y_pred_test, squared=False)\n",
    "print(f'Test RMSE: {rmse_test}')"
   ]
  },
  {
   "cell_type": "markdown",
   "metadata": {},
   "source": [
    "#### **Ejercicio 2.06:** Implement Softmax"
   ]
  },
  {
   "cell_type": "code",
   "execution_count": 32,
   "metadata": {},
   "outputs": [
    {
     "name": "stdout",
     "output_type": "stream",
     "text": [
      "Output Probabilities: [0.02364054 0.06426166 0.1746813  0.474833   0.02364054 0.06426166\n",
      " 0.1746813 ]\n",
      "Class Output: 3\n"
     ]
    }
   ],
   "source": [
    "import numpy as np\n",
    "output = [1.0, 2.0, 3.0, 4.0, 1.0, 2.0, 3.0]\n",
    "\n",
    "def softmax(Z):\n",
    "    A = np.exp(Z) / np.sum(np.exp(Z))\n",
    "    return A\n",
    "\n",
    "probs = softmax(np.array(output))\n",
    "max_prob = np.argmax(probs)\n",
    "\n",
    "print(f'Output Probabilities: {probs}')\n",
    "print(f'Class Output: {max_prob}')"
   ]
  }
 ],
 "metadata": {
  "kernelspec": {
   "display_name": "tensorflow",
   "language": "python",
   "name": "python3"
  },
  "language_info": {
   "codemirror_mode": {
    "name": "ipython",
    "version": 3
   },
   "file_extension": ".py",
   "mimetype": "text/x-python",
   "name": "python",
   "nbconvert_exporter": "python",
   "pygments_lexer": "ipython3",
   "version": "3.1.0"
  }
 },
 "nbformat": 4,
 "nbformat_minor": 2
}
