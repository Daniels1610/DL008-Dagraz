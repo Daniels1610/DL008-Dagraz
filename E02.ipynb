{
 "cells": [
  {
   "cell_type": "markdown",
   "metadata": {},
   "source": [
    "## E02 Notebook - Daniel Agraz Vallejo"
   ]
  },
  {
   "cell_type": "code",
   "execution_count": 65,
   "metadata": {},
   "outputs": [],
   "source": [
    "import tensorflow as tf\n",
    "import keras\n",
    "import numpy as np\n",
    "import pandas as pd\n",
    "import matplotlib.pyplot as plt\n",
    "import seaborn as sns\n",
    "from sklearn import datasets\n",
    "from sklearn.linear_model import Perceptron\n",
    "from sklearn.neural_network import MLPClassifier\n",
    "from sklearn.neural_network import MLPRegressor\n",
    "from tensorflow.keras.callbacks import EarlyStopping\n",
    "from sklearn.metrics import mean_squared_error\n",
    "from sklearn.model_selection import train_test_split\n",
    "from sklearn.pipeline import make_pipeline\n",
    "from sklearn.preprocessing import StandardScaler"
   ]
  },
  {
   "cell_type": "markdown",
   "metadata": {},
   "source": [
    "#### **E2.1:** Employing Tensorflow conduct the logic operation on each of the displayed examples.\n",
    "\n",
    "<img src='imgs/E2.1Examples.png' alt='E2.1 Ejemplos'>"
   ]
  },
  {
   "cell_type": "code",
   "execution_count": 2,
   "metadata": {},
   "outputs": [],
   "source": [
    "def buffer(A:tf.Tensor) -> tf.Tensor:\n",
    "    io_description(A, B=None)\n",
    "    return A\n",
    "\n",
    "# Logical AND\n",
    "def land(A:tf.Tensor, B:tf.Tensor) -> tf.Tensor: \n",
    "    io_description(A,B)\n",
    "    return tf.logical_and(A, B)\n",
    "\n",
    "# Logical OR\n",
    "def lor(A:tf.Tensor, B:tf.Tensor) -> tf.Tensor:\n",
    "    io_description(A,B)\n",
    "    return tf.logical_or(A, B)\n",
    "\n",
    "# Logical NOT | tf.logical.not()\n",
    "\n",
    "# Logical Function \n",
    "def logic_func(A:tf.Tensor, B:tf.Tensor) -> tf.Tensor:\n",
    "    io_description(A,B)\n",
    "    return tf.logical_and(A, tf.logical_not(B))\n",
    "\n",
    "def io_description(A:tf.Tensor, B:tf.Tensor):\n",
    "    if B is None: print(f'IN: A-{A}')\n",
    "    else: print(f'IN: A-{A} | B-{B}')"
   ]
  },
  {
   "cell_type": "code",
   "execution_count": 3,
   "metadata": {},
   "outputs": [
    {
     "name": "stderr",
     "output_type": "stream",
     "text": [
      "2024-03-06 16:09:12.743124: I metal_plugin/src/device/metal_device.cc:1154] Metal device set to: Apple M1\n",
      "2024-03-06 16:09:12.743168: I metal_plugin/src/device/metal_device.cc:296] systemMemory: 8.00 GB\n",
      "2024-03-06 16:09:12.743180: I metal_plugin/src/device/metal_device.cc:313] maxCacheSize: 2.67 GB\n",
      "2024-03-06 16:09:12.743625: I tensorflow/core/common_runtime/pluggable_device/pluggable_device_factory.cc:306] Could not identify NUMA node of platform GPU ID 0, defaulting to 0. Your kernel may not have been built with NUMA support.\n",
      "2024-03-06 16:09:12.744107: I tensorflow/core/common_runtime/pluggable_device/pluggable_device_factory.cc:272] Created TensorFlow device (/job:localhost/replica:0/task:0/device:GPU:0 with 0 MB memory) -> physical PluggableDevice (device: 0, name: METAL, pci bus id: <undefined>)\n"
     ]
    }
   ],
   "source": [
    "A0 = B0 = tf.constant(False, dtype=tf.bool)\n",
    "A1 = B1 = tf.constant(True, dtype=tf.bool)\n",
    "tv0 = tf.Variable([(A0,B0),(A0,B1),(A1,B0),(A1,B1)])\n",
    "\n",
    "\n",
    "A20 = B20 = tf.constant([False,False], dtype=tf.bool)\n",
    "A21 = B21 = tf.constant([False,True], dtype=tf.bool)\n",
    "A22 = B22 = tf.constant([True,False], dtype=tf.bool)\n",
    "A23 = B23 = tf.constant([True,True], dtype=tf.bool)\n",
    "tvA = tf.Variable([A20,A21,A22,A23])\n",
    "tvB = tf.Variable([B20,B21,B22,B23])"
   ]
  },
  {
   "cell_type": "markdown",
   "metadata": {},
   "source": [
    "##### Buffer | C = A "
   ]
  },
  {
   "cell_type": "code",
   "execution_count": 4,
   "metadata": {},
   "outputs": [
    {
     "name": "stdout",
     "output_type": "stream",
     "text": [
      "\u001b[1mBuffer:\u001b[0m\n",
      "IN: A-False\n",
      "OUT: False\n",
      "\n",
      "IN: A-True\n",
      "OUT: True\n",
      "\n"
     ]
    }
   ],
   "source": [
    "print(f'\\033[1mBuffer:\\033[0m')\n",
    "print(f'OUT: {buffer(A0)}\\n')\n",
    "print(f'OUT: {buffer(A1)}\\n')"
   ]
  },
  {
   "cell_type": "markdown",
   "metadata": {},
   "source": [
    "##### Logical AND | C = A $\\land$ B"
   ]
  },
  {
   "cell_type": "code",
   "execution_count": 5,
   "metadata": {},
   "outputs": [
    {
     "name": "stdout",
     "output_type": "stream",
     "text": [
      "\u001b[1mLogical AND:\u001b[0m\n",
      "IN: A-False | B-False\n",
      "OUT: False\n",
      "\n",
      "IN: A-False | B-True\n",
      "OUT: False\n",
      "\n",
      "IN: A-True | B-False\n",
      "OUT: False\n",
      "\n",
      "IN: A-True | B-True\n",
      "OUT: True\n",
      "\n",
      "IN: A-[False False] | B-[False False]\n",
      "OUT: [False False]\n",
      "\n",
      "IN: A-[False False] | B-[False  True]\n",
      "OUT: [False  True]\n",
      "\n",
      "IN: A-[False False] | B-[ True False]\n",
      "OUT: [ True False]\n",
      "\n",
      "IN: A-[False False] | B-[ True  True]\n",
      "OUT: [ True  True]\n",
      "\n",
      "IN: A-[False  True] | B-[False False]\n",
      "OUT: [False  True]\n",
      "\n",
      "IN: A-[False  True] | B-[False  True]\n",
      "OUT: [False  True]\n",
      "\n",
      "IN: A-[False  True] | B-[ True False]\n",
      "OUT: [ True  True]\n",
      "\n",
      "IN: A-[False  True] | B-[ True  True]\n",
      "OUT: [ True  True]\n",
      "\n",
      "IN: A-[ True False] | B-[False False]\n",
      "OUT: [ True False]\n",
      "\n",
      "IN: A-[ True False] | B-[False  True]\n",
      "OUT: [ True  True]\n",
      "\n",
      "IN: A-[ True False] | B-[ True False]\n",
      "OUT: [ True False]\n",
      "\n",
      "IN: A-[ True False] | B-[ True  True]\n",
      "OUT: [ True  True]\n",
      "\n",
      "IN: A-[ True  True] | B-[False False]\n",
      "OUT: [ True  True]\n",
      "\n",
      "IN: A-[ True  True] | B-[False  True]\n",
      "OUT: [ True  True]\n",
      "\n",
      "IN: A-[ True  True] | B-[ True False]\n",
      "OUT: [ True  True]\n",
      "\n",
      "IN: A-[ True  True] | B-[ True  True]\n",
      "OUT: [ True  True]\n",
      "\n"
     ]
    }
   ],
   "source": [
    "print(f'\\033[1mLogical AND:\\033[0m')\n",
    "for bools in tv0:\n",
    "    print(f'OUT: {land(bools[0],bools[1])}\\n')\n",
    "\n",
    "for boolA in tvA:\n",
    "    for boolB in tvB:\n",
    "        print(f'OUT: {lor(boolA, boolB)}\\n')"
   ]
  },
  {
   "cell_type": "markdown",
   "metadata": {},
   "source": [
    "##### Logical OR C = A $\\lor$ B"
   ]
  },
  {
   "cell_type": "code",
   "execution_count": 6,
   "metadata": {},
   "outputs": [
    {
     "name": "stdout",
     "output_type": "stream",
     "text": [
      "\u001b[1mLogical OR:\u001b[0m\n",
      "IN: A-False | B-False\n",
      "OUT: False\n",
      "\n",
      "IN: A-False | B-True\n",
      "OUT: True\n",
      "\n",
      "IN: A-True | B-False\n",
      "OUT: True\n",
      "\n",
      "IN: A-True | B-True\n",
      "OUT: True\n",
      "\n",
      "IN: A-[False False] | B-[False False]\n",
      "OUT: [False False]\n",
      "\n",
      "IN: A-[False False] | B-[False  True]\n",
      "OUT: [False  True]\n",
      "\n",
      "IN: A-[False False] | B-[ True False]\n",
      "OUT: [ True False]\n",
      "\n",
      "IN: A-[False False] | B-[ True  True]\n",
      "OUT: [ True  True]\n",
      "\n",
      "IN: A-[False  True] | B-[False False]\n",
      "OUT: [False  True]\n",
      "\n",
      "IN: A-[False  True] | B-[False  True]\n",
      "OUT: [False  True]\n",
      "\n",
      "IN: A-[False  True] | B-[ True False]\n",
      "OUT: [ True  True]\n",
      "\n",
      "IN: A-[False  True] | B-[ True  True]\n",
      "OUT: [ True  True]\n",
      "\n",
      "IN: A-[ True False] | B-[False False]\n",
      "OUT: [ True False]\n",
      "\n",
      "IN: A-[ True False] | B-[False  True]\n",
      "OUT: [ True  True]\n",
      "\n",
      "IN: A-[ True False] | B-[ True False]\n",
      "OUT: [ True False]\n",
      "\n",
      "IN: A-[ True False] | B-[ True  True]\n",
      "OUT: [ True  True]\n",
      "\n",
      "IN: A-[ True  True] | B-[False False]\n",
      "OUT: [ True  True]\n",
      "\n",
      "IN: A-[ True  True] | B-[False  True]\n",
      "OUT: [ True  True]\n",
      "\n",
      "IN: A-[ True  True] | B-[ True False]\n",
      "OUT: [ True  True]\n",
      "\n",
      "IN: A-[ True  True] | B-[ True  True]\n",
      "OUT: [ True  True]\n",
      "\n"
     ]
    }
   ],
   "source": [
    "print(f'\\033[1mLogical OR:\\033[0m')\n",
    "for bools in tv0:\n",
    "    print(f'OUT: {lor(bools[0],bools[1])}\\n')\n",
    "\n",
    "for boolA in tvA:\n",
    "    for boolB in tvB:\n",
    "        print(f'OUT: {lor(boolA, boolB)}\\n')"
   ]
  },
  {
   "cell_type": "markdown",
   "metadata": {},
   "source": [
    "##### Logical Function #1 | C = A $\\lor\\;\\neg$ B"
   ]
  },
  {
   "cell_type": "code",
   "execution_count": 7,
   "metadata": {},
   "outputs": [
    {
     "name": "stdout",
     "output_type": "stream",
     "text": [
      "\u001b[1mLogical Function:\u001b[0m\n",
      "IN: A-False | B-False\n",
      "OUT: False\n",
      "\n",
      "IN: A-False | B-True\n",
      "OUT: False\n",
      "\n",
      "IN: A-True | B-False\n",
      "OUT: True\n",
      "\n",
      "IN: A-True | B-True\n",
      "OUT: False\n",
      "\n",
      "IN: A-[False False] | B-[False False]\n",
      "OUT: [False False]\n",
      "\n",
      "IN: A-[False False] | B-[False  True]\n",
      "OUT: [False False]\n",
      "\n",
      "IN: A-[False False] | B-[ True False]\n",
      "OUT: [False False]\n",
      "\n",
      "IN: A-[False False] | B-[ True  True]\n",
      "OUT: [False False]\n",
      "\n",
      "IN: A-[False  True] | B-[False False]\n",
      "OUT: [False  True]\n",
      "\n",
      "IN: A-[False  True] | B-[False  True]\n",
      "OUT: [False False]\n",
      "\n",
      "IN: A-[False  True] | B-[ True False]\n",
      "OUT: [False  True]\n",
      "\n",
      "IN: A-[False  True] | B-[ True  True]\n",
      "OUT: [False False]\n",
      "\n",
      "IN: A-[ True False] | B-[False False]\n",
      "OUT: [ True False]\n",
      "\n",
      "IN: A-[ True False] | B-[False  True]\n",
      "OUT: [ True False]\n",
      "\n",
      "IN: A-[ True False] | B-[ True False]\n",
      "OUT: [False False]\n",
      "\n",
      "IN: A-[ True False] | B-[ True  True]\n",
      "OUT: [False False]\n",
      "\n",
      "IN: A-[ True  True] | B-[False False]\n",
      "OUT: [ True  True]\n",
      "\n",
      "IN: A-[ True  True] | B-[False  True]\n",
      "OUT: [ True False]\n",
      "\n",
      "IN: A-[ True  True] | B-[ True False]\n",
      "OUT: [False  True]\n",
      "\n",
      "IN: A-[ True  True] | B-[ True  True]\n",
      "OUT: [False False]\n",
      "\n"
     ]
    }
   ],
   "source": [
    "print(f'\\033[1mLogical Function:\\033[0m')\n",
    "for bools in tv0:\n",
    "    print(f'OUT: {logic_func(bools[0],bools[1])}\\n')\n",
    "\n",
    "for boolA in tvA:\n",
    "    for boolB in tvB:\n",
    "        print(f'OUT: {logic_func(boolA, boolB)}\\n')"
   ]
  },
  {
   "cell_type": "markdown",
   "metadata": {},
   "source": [
    "#### **E2.2:** Implement scikit-learn's perceptron to classify flowers from the Iris Dataset\n",
    "\n"
   ]
  },
  {
   "cell_type": "code",
   "execution_count": 8,
   "metadata": {},
   "outputs": [
    {
     "data": {
      "text/html": [
       "<div>\n",
       "<style scoped>\n",
       "    .dataframe tbody tr th:only-of-type {\n",
       "        vertical-align: middle;\n",
       "    }\n",
       "\n",
       "    .dataframe tbody tr th {\n",
       "        vertical-align: top;\n",
       "    }\n",
       "\n",
       "    .dataframe thead th {\n",
       "        text-align: right;\n",
       "    }\n",
       "</style>\n",
       "<table border=\"1\" class=\"dataframe\">\n",
       "  <thead>\n",
       "    <tr style=\"text-align: right;\">\n",
       "      <th></th>\n",
       "      <th>petal length (cm)</th>\n",
       "      <th>petal width (cm)</th>\n",
       "      <th>class label</th>\n",
       "    </tr>\n",
       "  </thead>\n",
       "  <tbody>\n",
       "    <tr>\n",
       "      <th>0</th>\n",
       "      <td>1.4</td>\n",
       "      <td>0.2</td>\n",
       "      <td>0</td>\n",
       "    </tr>\n",
       "    <tr>\n",
       "      <th>1</th>\n",
       "      <td>1.4</td>\n",
       "      <td>0.2</td>\n",
       "      <td>0</td>\n",
       "    </tr>\n",
       "    <tr>\n",
       "      <th>2</th>\n",
       "      <td>1.3</td>\n",
       "      <td>0.2</td>\n",
       "      <td>0</td>\n",
       "    </tr>\n",
       "    <tr>\n",
       "      <th>3</th>\n",
       "      <td>1.5</td>\n",
       "      <td>0.2</td>\n",
       "      <td>0</td>\n",
       "    </tr>\n",
       "    <tr>\n",
       "      <th>4</th>\n",
       "      <td>1.4</td>\n",
       "      <td>0.2</td>\n",
       "      <td>0</td>\n",
       "    </tr>\n",
       "    <tr>\n",
       "      <th>...</th>\n",
       "      <td>...</td>\n",
       "      <td>...</td>\n",
       "      <td>...</td>\n",
       "    </tr>\n",
       "    <tr>\n",
       "      <th>145</th>\n",
       "      <td>5.2</td>\n",
       "      <td>2.3</td>\n",
       "      <td>2</td>\n",
       "    </tr>\n",
       "    <tr>\n",
       "      <th>146</th>\n",
       "      <td>5.0</td>\n",
       "      <td>1.9</td>\n",
       "      <td>2</td>\n",
       "    </tr>\n",
       "    <tr>\n",
       "      <th>147</th>\n",
       "      <td>5.2</td>\n",
       "      <td>2.0</td>\n",
       "      <td>2</td>\n",
       "    </tr>\n",
       "    <tr>\n",
       "      <th>148</th>\n",
       "      <td>5.4</td>\n",
       "      <td>2.3</td>\n",
       "      <td>2</td>\n",
       "    </tr>\n",
       "    <tr>\n",
       "      <th>149</th>\n",
       "      <td>5.1</td>\n",
       "      <td>1.8</td>\n",
       "      <td>2</td>\n",
       "    </tr>\n",
       "  </tbody>\n",
       "</table>\n",
       "<p>150 rows × 3 columns</p>\n",
       "</div>"
      ],
      "text/plain": [
       "     petal length (cm)  petal width (cm)  class label\n",
       "0                  1.4               0.2            0\n",
       "1                  1.4               0.2            0\n",
       "2                  1.3               0.2            0\n",
       "3                  1.5               0.2            0\n",
       "4                  1.4               0.2            0\n",
       "..                 ...               ...          ...\n",
       "145                5.2               2.3            2\n",
       "146                5.0               1.9            2\n",
       "147                5.2               2.0            2\n",
       "148                5.4               2.3            2\n",
       "149                5.1               1.8            2\n",
       "\n",
       "[150 rows x 3 columns]"
      ]
     },
     "execution_count": 8,
     "metadata": {},
     "output_type": "execute_result"
    }
   ],
   "source": [
    "iris = datasets.load_iris()\n",
    "df_iris = pd.DataFrame(iris.data, columns=iris.feature_names)\n",
    "df_iris.insert(4, 'class label', iris.target.reshape(-1,1))\n",
    "df_iris = df_iris[['petal length (cm)', 'petal width (cm)', 'class label']]\n",
    "df_iris\n"
   ]
  },
  {
   "cell_type": "code",
   "execution_count": 9,
   "metadata": {},
   "outputs": [
    {
     "name": "stdout",
     "output_type": "stream",
     "text": [
      "1.000\n"
     ]
    }
   ],
   "source": [
    "X = iris.data[:, (2,3)]\n",
    "y = (iris.target == 0).astype(int)\n",
    "model = Perceptron(tol=1e-3, random_state=1)\n",
    "model.fit(X, y)\n",
    "print(\"%0.3f\" % model.score(X,y))"
   ]
  },
  {
   "cell_type": "code",
   "execution_count": 10,
   "metadata": {},
   "outputs": [
    {
     "data": {
      "text/plain": [
       "array([1, 0, 0])"
      ]
     },
     "execution_count": 10,
     "metadata": {},
     "output_type": "execute_result"
    }
   ],
   "source": [
    "# 1 | Iris-Setosa\n",
    "# 0 | Not Iris-Setosa\n",
    "X_test = np.array([[2.0, 0.5],\n",
    "                   [3.6, 1.1],\n",
    "                   [4.9, 1.9]])\n",
    "model.predict(X_test)"
   ]
  },
  {
   "cell_type": "code",
   "execution_count": 11,
   "metadata": {},
   "outputs": [],
   "source": [
    "# Scratch Implementation\n",
    "# X = iris.data[:, (2,3)]\n",
    "# y = iris.target.reshape(-1,1)\n",
    "# w = np.random.uniform(low=0.001, high=1.0, size=(150, 1))\n",
    "# b = np.random.randint(1,5, size=(1))\n",
    "\n",
    "# z = X * w + b\n",
    "\n",
    "# for i in range(1000):\n",
    "#     pass\n"
   ]
  },
  {
   "cell_type": "markdown",
   "metadata": {},
   "source": [
    "#### **E2.3 :** Implement the XOR Operator with a Multi-Layer Perceptron (MLP)"
   ]
  },
  {
   "cell_type": "code",
   "execution_count": 12,
   "metadata": {},
   "outputs": [],
   "source": [
    "def step(z:np.int32) -> np.int32:\n",
    "    return 0 if z < 0 else 1\n",
    "\n",
    "def input_x() -> tuple:\n",
    "    # Input binary values\n",
    "    while True:\n",
    "        try:\n",
    "            input_x1 = int(input(\"Enter x1 bits: \"), 2)\n",
    "            input_x2 = int(input(\"Enter x2 bits: \"), 2)\n",
    "            break\n",
    "        except ValueError:\n",
    "            print(\"Invalid bit. Input only binary values\")\n",
    "    return input_x1, input_x2\n",
    "\n",
    "def init_params() -> tuple:\n",
    "    w1 = tf.cast(tf.constant([1, 1]), tf.float32)\n",
    "    w2 = tf.cast(tf.constant([-1, 1]), tf.float32)\n",
    "    b1 = tf.constant([-1.5, -0.5])\n",
    "    b2 = tf.constant([-0.5])\n",
    "    return w1, w2, b1, b2\n",
    "\n",
    "def forward_prop(w, x, b) -> tf.float32:\n",
    "    return tf.reduce_sum(tf.multiply(w,x)) + b\n"
   ]
  },
  {
   "cell_type": "code",
   "execution_count": 13,
   "metadata": {},
   "outputs": [
    {
     "name": "stdout",
     "output_type": "stream",
     "text": [
      "x1: 0\n",
      "x2: 1\n",
      "y: 1\n"
     ]
    }
   ],
   "source": [
    "x1, x2 = input_x()\n",
    "w1, w2, b1, b2 = init_params()\n",
    "z11 = forward_prop(w1, tf.cast(tf.constant([x1, x2]), tf.float32), b1[0])\n",
    "z12 = forward_prop(w1, tf.cast(tf.constant([x1, x2]), tf.float32), b1[1])\n",
    "# print(f'Z1: {z11} | Z2: {z12}')\n",
    "\n",
    "# Activation 1st Layer\n",
    "a11, a21 = step(z11), step(z12)\n",
    "# print(f'A11: {a11}, A21: {a21}')\n",
    "\n",
    "# Activation 2nd Layer\n",
    "z21 = forward_prop(w2, tf.constant([a11, a21], dtype=tf.float32), b2)\n",
    "# print(f'Z21: {z21}')\n",
    "\n",
    "y = step(z21) \n",
    "\n",
    "print(f'x1: {x1}')\n",
    "print(f'x2: {x2}')\n",
    "print(f'y: {y}')"
   ]
  },
  {
   "cell_type": "markdown",
   "metadata": {},
   "source": [
    "#### **Ejercicio 2.4**\n",
    "Implementar un perceptrón multicapa empleando el MLPClassifier de scikit-learn  \n",
    "(sklearn.neural_network.MLPClassifier) como clasificador para el problema XOR.   \n",
    "Emplear una arquitectura con 2 capas ocultas, 4 neuronas en la primer capa y  \n",
    "2 neuronas en la segunda capa."
   ]
  },
  {
   "cell_type": "code",
   "execution_count": 14,
   "metadata": {},
   "outputs": [
    {
     "name": "stdout",
     "output_type": "stream",
     "text": [
      "1.000\n"
     ]
    },
    {
     "name": "stderr",
     "output_type": "stream",
     "text": [
      "/Users/kekaz16/miniconda3/envs/tensorflow/lib/python3.11/site-packages/sklearn/neural_network/_multilayer_perceptron.py:686: ConvergenceWarning: Stochastic Optimizer: Maximum iterations (800) reached and the optimization hasn't converged yet.\n",
      "  warnings.warn(\n"
     ]
    },
    {
     "data": {
      "text/plain": [
       "array([1, 1, 0], dtype=int32)"
      ]
     },
     "execution_count": 14,
     "metadata": {},
     "output_type": "execute_result"
    }
   ],
   "source": [
    "# Input Dataset\n",
    "X = tf.constant([[0,0],\n",
    "                 [0,1],\n",
    "                 [1,0],\n",
    "                 [1,1]])\n",
    "\n",
    "y = tf.constant([0,1,1,0])\n",
    "\n",
    "# Model\n",
    "model = MLPClassifier(\n",
    "    hidden_layer_sizes= [4, 2],\n",
    "    random_state=1,\n",
    "    activation='relu',\n",
    "    solver='adam',\n",
    "    alpha=0.0001,\n",
    "    learning_rate='constant',\n",
    "    max_iter=800,\n",
    "    verbose=False)\n",
    "\n",
    "# Training\n",
    "model.fit(X, y)\n",
    "print(\"%0.3f\" % model.score(X,y))\n",
    "\n",
    "# Predict\n",
    "X_test = np.array([[0,1],\n",
    "                   [1,0],\n",
    "                   [0,0]])\n",
    "\n",
    "model.predict(X_test)"
   ]
  },
  {
   "cell_type": "markdown",
   "metadata": {},
   "source": [
    "#### **Ejercicio 2.05**\n",
    "Implementar un perceptrón multicapa empleando el MLPRegressor de scikit  \n",
    "learn (sklearn.neural_network.MLPRegressor) para la estimación del valor  \n",
    "medio de vivienda con el conjunto de datos California Housing de scikit learn.  \n",
    "Emplear una arquitectura con 3 capas ocultas, cada una con 50 neuronas y  \n",
    "evaluar el RMSE con datos de prueba."
   ]
  },
  {
   "cell_type": "code",
   "execution_count": 15,
   "metadata": {},
   "outputs": [
    {
     "data": {
      "text/html": [
       "<style>#sk-container-id-1 {color: black;background-color: white;}#sk-container-id-1 pre{padding: 0;}#sk-container-id-1 div.sk-toggleable {background-color: white;}#sk-container-id-1 label.sk-toggleable__label {cursor: pointer;display: block;width: 100%;margin-bottom: 0;padding: 0.3em;box-sizing: border-box;text-align: center;}#sk-container-id-1 label.sk-toggleable__label-arrow:before {content: \"▸\";float: left;margin-right: 0.25em;color: #696969;}#sk-container-id-1 label.sk-toggleable__label-arrow:hover:before {color: black;}#sk-container-id-1 div.sk-estimator:hover label.sk-toggleable__label-arrow:before {color: black;}#sk-container-id-1 div.sk-toggleable__content {max-height: 0;max-width: 0;overflow: hidden;text-align: left;background-color: #f0f8ff;}#sk-container-id-1 div.sk-toggleable__content pre {margin: 0.2em;color: black;border-radius: 0.25em;background-color: #f0f8ff;}#sk-container-id-1 input.sk-toggleable__control:checked~div.sk-toggleable__content {max-height: 200px;max-width: 100%;overflow: auto;}#sk-container-id-1 input.sk-toggleable__control:checked~label.sk-toggleable__label-arrow:before {content: \"▾\";}#sk-container-id-1 div.sk-estimator input.sk-toggleable__control:checked~label.sk-toggleable__label {background-color: #d4ebff;}#sk-container-id-1 div.sk-label input.sk-toggleable__control:checked~label.sk-toggleable__label {background-color: #d4ebff;}#sk-container-id-1 input.sk-hidden--visually {border: 0;clip: rect(1px 1px 1px 1px);clip: rect(1px, 1px, 1px, 1px);height: 1px;margin: -1px;overflow: hidden;padding: 0;position: absolute;width: 1px;}#sk-container-id-1 div.sk-estimator {font-family: monospace;background-color: #f0f8ff;border: 1px dotted black;border-radius: 0.25em;box-sizing: border-box;margin-bottom: 0.5em;}#sk-container-id-1 div.sk-estimator:hover {background-color: #d4ebff;}#sk-container-id-1 div.sk-parallel-item::after {content: \"\";width: 100%;border-bottom: 1px solid gray;flex-grow: 1;}#sk-container-id-1 div.sk-label:hover label.sk-toggleable__label {background-color: #d4ebff;}#sk-container-id-1 div.sk-serial::before {content: \"\";position: absolute;border-left: 1px solid gray;box-sizing: border-box;top: 0;bottom: 0;left: 50%;z-index: 0;}#sk-container-id-1 div.sk-serial {display: flex;flex-direction: column;align-items: center;background-color: white;padding-right: 0.2em;padding-left: 0.2em;position: relative;}#sk-container-id-1 div.sk-item {position: relative;z-index: 1;}#sk-container-id-1 div.sk-parallel {display: flex;align-items: stretch;justify-content: center;background-color: white;position: relative;}#sk-container-id-1 div.sk-item::before, #sk-container-id-1 div.sk-parallel-item::before {content: \"\";position: absolute;border-left: 1px solid gray;box-sizing: border-box;top: 0;bottom: 0;left: 50%;z-index: -1;}#sk-container-id-1 div.sk-parallel-item {display: flex;flex-direction: column;z-index: 1;position: relative;background-color: white;}#sk-container-id-1 div.sk-parallel-item:first-child::after {align-self: flex-end;width: 50%;}#sk-container-id-1 div.sk-parallel-item:last-child::after {align-self: flex-start;width: 50%;}#sk-container-id-1 div.sk-parallel-item:only-child::after {width: 0;}#sk-container-id-1 div.sk-dashed-wrapped {border: 1px dashed gray;margin: 0 0.4em 0.5em 0.4em;box-sizing: border-box;padding-bottom: 0.4em;background-color: white;}#sk-container-id-1 div.sk-label label {font-family: monospace;font-weight: bold;display: inline-block;line-height: 1.2em;}#sk-container-id-1 div.sk-label-container {text-align: center;}#sk-container-id-1 div.sk-container {/* jupyter's `normalize.less` sets `[hidden] { display: none; }` but bootstrap.min.css set `[hidden] { display: none !important; }` so we also need the `!important` here to be able to override the default hidden behavior on the sphinx rendered scikit-learn.org. See: https://github.com/scikit-learn/scikit-learn/issues/21755 */display: inline-block !important;position: relative;}#sk-container-id-1 div.sk-text-repr-fallback {display: none;}</style><div id=\"sk-container-id-1\" class=\"sk-top-container\"><div class=\"sk-text-repr-fallback\"><pre>Pipeline(steps=[(&#x27;standardscaler&#x27;, StandardScaler()),\n",
       "                (&#x27;mlpregressor&#x27;,\n",
       "                 MLPRegressor(hidden_layer_sizes=[50, 50, 50], max_iter=800,\n",
       "                              random_state=42))])</pre><b>In a Jupyter environment, please rerun this cell to show the HTML representation or trust the notebook. <br />On GitHub, the HTML representation is unable to render, please try loading this page with nbviewer.org.</b></div><div class=\"sk-container\" hidden><div class=\"sk-item sk-dashed-wrapped\"><div class=\"sk-label-container\"><div class=\"sk-label sk-toggleable\"><input class=\"sk-toggleable__control sk-hidden--visually\" id=\"sk-estimator-id-1\" type=\"checkbox\" ><label for=\"sk-estimator-id-1\" class=\"sk-toggleable__label sk-toggleable__label-arrow\">Pipeline</label><div class=\"sk-toggleable__content\"><pre>Pipeline(steps=[(&#x27;standardscaler&#x27;, StandardScaler()),\n",
       "                (&#x27;mlpregressor&#x27;,\n",
       "                 MLPRegressor(hidden_layer_sizes=[50, 50, 50], max_iter=800,\n",
       "                              random_state=42))])</pre></div></div></div><div class=\"sk-serial\"><div class=\"sk-item\"><div class=\"sk-estimator sk-toggleable\"><input class=\"sk-toggleable__control sk-hidden--visually\" id=\"sk-estimator-id-2\" type=\"checkbox\" ><label for=\"sk-estimator-id-2\" class=\"sk-toggleable__label sk-toggleable__label-arrow\">StandardScaler</label><div class=\"sk-toggleable__content\"><pre>StandardScaler()</pre></div></div></div><div class=\"sk-item\"><div class=\"sk-estimator sk-toggleable\"><input class=\"sk-toggleable__control sk-hidden--visually\" id=\"sk-estimator-id-3\" type=\"checkbox\" ><label for=\"sk-estimator-id-3\" class=\"sk-toggleable__label sk-toggleable__label-arrow\">MLPRegressor</label><div class=\"sk-toggleable__content\"><pre>MLPRegressor(hidden_layer_sizes=[50, 50, 50], max_iter=800, random_state=42)</pre></div></div></div></div></div></div></div>"
      ],
      "text/plain": [
       "Pipeline(steps=[('standardscaler', StandardScaler()),\n",
       "                ('mlpregressor',\n",
       "                 MLPRegressor(hidden_layer_sizes=[50, 50, 50], max_iter=800,\n",
       "                              random_state=42))])"
      ]
     },
     "execution_count": 15,
     "metadata": {},
     "output_type": "execute_result"
    }
   ],
   "source": [
    "# Input Dataset\n",
    "housing = datasets.fetch_california_housing()\n",
    "X_train_full, X_test, y_train_full, y_test = train_test_split(\n",
    "    housing.data, housing.target, random_state=42)\n",
    "X_train, X_valid, y_train, y_valid = train_test_split(\n",
    "    X_train_full, y_train_full, random_state=42)\n",
    "\n",
    "# Model\n",
    "model = MLPRegressor(\n",
    "    hidden_layer_sizes=[50, 50, 50],\n",
    "    random_state=42,\n",
    "    activation='relu',\n",
    "    solver='adam',\n",
    "    alpha=0.0001,\n",
    "    learning_rate='constant',\n",
    "    max_iter=800,\n",
    "    verbose=False)\n",
    "pipeline = make_pipeline(StandardScaler(), model)\n",
    "\n",
    "# Training\n",
    "pipeline.fit(X_train, y_train)"
   ]
  },
  {
   "cell_type": "code",
   "execution_count": 16,
   "metadata": {},
   "outputs": [
    {
     "name": "stdout",
     "output_type": "stream",
     "text": [
      "Validation RMSE: 0.5053326657968762\n",
      "Test RMSE: 0.521127919557249\n"
     ]
    }
   ],
   "source": [
    "# Predict\n",
    "y_pred_valid = pipeline.predict(X_valid)\n",
    "rmse_valid = mean_squared_error(y_valid, y_pred_valid, squared=False)\n",
    "print(f'Validation RMSE: {rmse_valid}')\n",
    "\n",
    "y_pred_test = pipeline.predict(X_test)\n",
    "rmse_test = mean_squared_error(y_test, y_pred_test, squared=False)\n",
    "print(f'Test RMSE: {rmse_test}')"
   ]
  },
  {
   "cell_type": "markdown",
   "metadata": {},
   "source": [
    "#### **Ejercicio 2.06:** Implement Softmax"
   ]
  },
  {
   "cell_type": "code",
   "execution_count": 17,
   "metadata": {},
   "outputs": [
    {
     "name": "stdout",
     "output_type": "stream",
     "text": [
      "Output Probabilities: [0.02364054 0.06426166 0.1746813  0.474833   0.02364054 0.06426166\n",
      " 0.1746813 ]\n",
      "Class Output: 3\n"
     ]
    }
   ],
   "source": [
    "import numpy as np\n",
    "output = [1.0, 2.0, 3.0, 4.0, 1.0, 2.0, 3.0]\n",
    "\n",
    "def softmax(Z):\n",
    "    A = np.exp(Z) / np.sum(np.exp(Z))\n",
    "    return A\n",
    "\n",
    "probs = softmax(np.array(output))\n",
    "max_prob = np.argmax(probs)\n",
    "\n",
    "print(f'Output Probabilities: {probs}')\n",
    "print(f'Class Output: {max_prob}')"
   ]
  },
  {
   "cell_type": "markdown",
   "metadata": {},
   "source": [
    "#### **Ejercicio 2.07:** Verify your Keras installed version"
   ]
  },
  {
   "cell_type": "code",
   "execution_count": 18,
   "metadata": {},
   "outputs": [
    {
     "name": "stdout",
     "output_type": "stream",
     "text": [
      "2.15.0\n"
     ]
    }
   ],
   "source": [
    "print(keras.__version__)"
   ]
  },
  {
   "cell_type": "markdown",
   "metadata": {},
   "source": [
    "## Phases to build an Image Classifier \n",
    "#### **1) Load Dataset**"
   ]
  },
  {
   "cell_type": "code",
   "execution_count": 3,
   "metadata": {},
   "outputs": [],
   "source": [
    "fashion_mnist = tf.keras.datasets.fashion_mnist\n",
    "(X_train_full, y_train_full), (X_test, y_test) = fashion_mnist.load_data()\n",
    "y_train_full = y_train_full.reshape(-1,1); y_test = y_test.reshape(-1,1) "
   ]
  },
  {
   "cell_type": "code",
   "execution_count": 4,
   "metadata": {},
   "outputs": [
    {
     "name": "stdout",
     "output_type": "stream",
     "text": [
      "\n",
      "X_train_full: (60000, 28, 28)\n",
      "X_test: (10000, 28, 28)\n",
      "y_train_full: (60000, 1)\n",
      "y_test: (10000, 1) \n",
      "\n"
     ]
    }
   ],
   "source": [
    "print(f\"\"\"\n",
    "X_train_full: {X_train_full.shape}\n",
    "X_test: {X_test.shape}\n",
    "y_train_full: {y_train_full.shape}\n",
    "y_test: {y_test.shape} \n",
    "\"\"\")"
   ]
  },
  {
   "cell_type": "code",
   "execution_count": 5,
   "metadata": {},
   "outputs": [
    {
     "data": {
      "text/plain": [
       "(28, 28)"
      ]
     },
     "execution_count": 5,
     "metadata": {},
     "output_type": "execute_result"
    }
   ],
   "source": [
    "X_train_full[0,:,:].shape"
   ]
  },
  {
   "cell_type": "code",
   "execution_count": 6,
   "metadata": {},
   "outputs": [
    {
     "data": {
      "text/plain": [
       "dtype('uint8')"
      ]
     },
     "execution_count": 6,
     "metadata": {},
     "output_type": "execute_result"
    }
   ],
   "source": [
    "X_train_full.dtype"
   ]
  },
  {
   "cell_type": "code",
   "execution_count": 7,
   "metadata": {},
   "outputs": [
    {
     "name": "stdout",
     "output_type": "stream",
     "text": [
      "\n",
      "X_valid: (5000, 28, 28)\n",
      "X_train: (55000, 28, 28)\n",
      "y_valid: (5000, 1)\n",
      "y_train: (55000, 1) \n",
      "\n"
     ]
    }
   ],
   "source": [
    "# Divide pixels by 255, to normalize values between 0 and 1\n",
    "X_valid, X_train = X_train_full[:5000] / 255, X_train_full[5000:] / 255\n",
    "y_valid, y_train = y_train_full[:5000].reshape((-1,1)), y_train_full[5000:].reshape((-1,1))\n",
    "X_test = X_test / 255\n",
    "print(f\"\"\"\n",
    "X_valid: {X_valid.shape}\n",
    "X_train: {X_train.shape}\n",
    "y_valid: {y_valid.shape}\n",
    "y_train: {y_train.shape} \n",
    "\"\"\")"
   ]
  },
  {
   "cell_type": "code",
   "execution_count": 8,
   "metadata": {},
   "outputs": [
    {
     "data": {
      "image/png": "[encoded data removed]",
      "text/plain": [
       "<Figure size 640x480 with 1 Axes>"
      ]
     },
     "metadata": {},
     "output_type": "display_data"
    }
   ],
   "source": [
    "plt.imshow(X_train[0], cmap=\"binary\")\n",
    "plt.axis('off')\n",
    "plt.show()"
   ]
  },
  {
   "cell_type": "code",
   "execution_count": 9,
   "metadata": {},
   "outputs": [
    {
     "data": {
      "text/plain": [
       "array([[4],\n",
       "       [0],\n",
       "       [7],\n",
       "       ...,\n",
       "       [3],\n",
       "       [0],\n",
       "       [5]], dtype=uint8)"
      ]
     },
     "execution_count": 9,
     "metadata": {},
     "output_type": "execute_result"
    }
   ],
   "source": [
    "y_train"
   ]
  },
  {
   "cell_type": "code",
   "execution_count": 10,
   "metadata": {},
   "outputs": [],
   "source": [
    "class_names = {\n",
    "    0 : \"T-shirt/top\",\n",
    "    1 : \"Trouser\",\n",
    "    2 : \"Pullover\",\n",
    "    3 : \"Dress\", \n",
    "    4 : \"Coat\",\n",
    "    5 : \"Sandal\",\n",
    "    6 : \"Shirt\",\n",
    "    7 : \"Sneaker\",\n",
    "    8 : \"Bag\",\n",
    "    9 : \"Ankle Boot\"\n",
    "}"
   ]
  },
  {
   "cell_type": "code",
   "execution_count": 11,
   "metadata": {},
   "outputs": [
    {
     "data": {
      "text/plain": [
       "'Coat'"
      ]
     },
     "execution_count": 11,
     "metadata": {},
     "output_type": "execute_result"
    }
   ],
   "source": [
    "y_train = y_train.flatten()\n",
    "class_names[y_train[0]]"
   ]
  },
  {
   "cell_type": "code",
   "execution_count": 12,
   "metadata": {},
   "outputs": [
    {
     "data": {
      "text/plain": [
       "(5000, 28, 28)"
      ]
     },
     "execution_count": 12,
     "metadata": {},
     "output_type": "execute_result"
    }
   ],
   "source": [
    "X_valid.shape"
   ]
  },
  {
   "cell_type": "code",
   "execution_count": 13,
   "metadata": {},
   "outputs": [
    {
     "data": {
      "text/plain": [
       "(10000, 28, 28)"
      ]
     },
     "execution_count": 13,
     "metadata": {},
     "output_type": "execute_result"
    }
   ],
   "source": [
    "X_test.shape"
   ]
  },
  {
   "cell_type": "markdown",
   "metadata": {},
   "source": [
    "#### **2) Model Creation**"
   ]
  },
  {
   "cell_type": "markdown",
   "metadata": {},
   "source": [
    "Esta arquitectura consiste en un perceptrón multicapa (MLP) para clasificación con dos capas ocultas:"
   ]
  },
  {
   "cell_type": "code",
   "execution_count": 14,
   "metadata": {},
   "outputs": [
    {
     "name": "stderr",
     "output_type": "stream",
     "text": [
      "2024-03-06 16:19:47.226582: I metal_plugin/src/device/metal_device.cc:1154] Metal device set to: Apple M1\n",
      "2024-03-06 16:19:47.226646: I metal_plugin/src/device/metal_device.cc:296] systemMemory: 8.00 GB\n",
      "2024-03-06 16:19:47.226669: I metal_plugin/src/device/metal_device.cc:313] maxCacheSize: 2.67 GB\n",
      "2024-03-06 16:19:47.226754: I tensorflow/core/common_runtime/pluggable_device/pluggable_device_factory.cc:306] Could not identify NUMA node of platform GPU ID 0, defaulting to 0. Your kernel may not have been built with NUMA support.\n",
      "2024-03-06 16:19:47.226822: I tensorflow/core/common_runtime/pluggable_device/pluggable_device_factory.cc:272] Created TensorFlow device (/job:localhost/replica:0/task:0/device:GPU:0 with 0 MB memory) -> physical PluggableDevice (device: 0, name: METAL, pci bus id: <undefined>)\n"
     ]
    }
   ],
   "source": [
    "# Set seed for result reproductibility\n",
    "tf.random.set_seed(42)\n",
    "model = tf.keras.Sequential()\n",
    "model.add(tf.keras.layers.InputLayer(input_shape=[28,28]))\n",
    "model.add(tf.keras.layers.Flatten())\n",
    "model.add(tf.keras.layers.Dense(300, activation=\"relu\"))\n",
    "model.add(tf.keras.layers.Dense(100, activation=\"relu\"))\n",
    "model.add(tf.keras.layers.Dense(10, activation=\"softmax\"))"
   ]
  },
  {
   "cell_type": "markdown",
   "metadata": {},
   "source": [
    "En lugar de agregar las capas una por una como lo acabamos   \n",
    "de hacer se puede pasar una **lista de capas** al crear el  \n",
    "modelo secuencial:"
   ]
  },
  {
   "cell_type": "code",
   "execution_count": 31,
   "metadata": {},
   "outputs": [],
   "source": [
    "tf.keras.backend.clear_session()\n",
    "tf.random.set_seed(42)\n",
    "model = tf.keras.Sequential([\n",
    "    tf.keras.layers.Flatten(input_shape=[28,28]),   # Transforms a 2D vector a 1D feature array\n",
    "    tf.keras.layers.Dense(300, activation=\"relu\"),\n",
    "    tf.keras.layers.Dense(100, activation=\"relu\"),\n",
    "    tf.keras.layers.Dense(10, activation=\"softmax\")\n",
    "])"
   ]
  },
  {
   "cell_type": "markdown",
   "metadata": {},
   "source": [
    "Se puede obtener la lista de capas del modelo, identificadas por nombre o índice:"
   ]
  },
  {
   "cell_type": "code",
   "execution_count": 15,
   "metadata": {},
   "outputs": [
    {
     "data": {
      "text/plain": [
       "[<keras.src.layers.reshaping.flatten.Flatten at 0x176b57e50>,\n",
       " <keras.src.layers.core.dense.Dense at 0x177358b50>,\n",
       " <keras.src.layers.core.dense.Dense at 0x1763c8d50>,\n",
       " <keras.src.layers.core.dense.Dense at 0x177336790>]"
      ]
     },
     "execution_count": 15,
     "metadata": {},
     "output_type": "execute_result"
    }
   ],
   "source": [
    "model.layers"
   ]
  },
  {
   "cell_type": "markdown",
   "metadata": {},
   "source": [
    "El método `summary()` del modelo muestra todas las capas del modelo, incluido el nombre de cada capa, su forma de salida y su número de parámetros."
   ]
  },
  {
   "cell_type": "code",
   "execution_count": 16,
   "metadata": {},
   "outputs": [
    {
     "name": "stdout",
     "output_type": "stream",
     "text": [
      "Model: \"sequential\"\n",
      "_________________________________________________________________\n",
      " Layer (type)                Output Shape              Param #   \n",
      "=================================================================\n",
      " flatten (Flatten)           (None, 784)               0         \n",
      "                                                                 \n",
      " dense (Dense)               (None, 300)               235500    \n",
      "                                                                 \n",
      " dense_1 (Dense)             (None, 100)               30100     \n",
      "                                                                 \n",
      " dense_2 (Dense)             (None, 10)                1010      \n",
      "                                                                 \n",
      "=================================================================\n",
      "Total params: 266610 (1.02 MB)\n",
      "Trainable params: 266610 (1.02 MB)\n",
      "Non-trainable params: 0 (0.00 Byte)\n",
      "_________________________________________________________________\n"
     ]
    }
   ],
   "source": [
    "model.summary()"
   ]
  },
  {
   "cell_type": "markdown",
   "metadata": {},
   "source": [
    "- Se debe tener en cuenta que las capas densas (Dense) suelen tener muchos parámetros.  \n",
    "\n",
    "- Por ejemplo, la primera capa oculta tiene $74 \\times 300$ pesos de conexión, más $300$ términos de sesgo, lo que suma $235,500$ parámetros.  \n",
    "\n",
    "- Esto le da al modelo mucha flexibilidad para adaptarse a los datos de entrenamiento, pero también significa que el modelo corre el riesgo de sobreajuste, especialmente cuando no tiene muchos datos de entrenamiento\n",
    "\n",
    "- Google te pone el almacenamiento que ocupan los pesos"
   ]
  },
  {
   "cell_type": "code",
   "execution_count": 17,
   "metadata": {},
   "outputs": [
    {
     "name": "stdout",
     "output_type": "stream",
     "text": [
      "<class 'keras.src.engine.sequential.Sequential'>\n"
     ]
    }
   ],
   "source": [
    "print(type(model))"
   ]
  },
  {
   "cell_type": "markdown",
   "metadata": {},
   "source": [
    "Normalmente, los pesos se inicializan de forma aleatoria.\n",
    "\n",
    "**¿Qué pasa si inicializas los pesos en 0?**  \n",
    "La red se vuelve simétrica y todas las neuronas se ven como si fueran una sola"
   ]
  },
  {
   "cell_type": "code",
   "execution_count": 18,
   "metadata": {},
   "outputs": [
    {
     "data": {
      "text/plain": [
       "'dense'"
      ]
     },
     "execution_count": 18,
     "metadata": {},
     "output_type": "execute_result"
    }
   ],
   "source": [
    "hidden1 = model.layers[1]\n",
    "hidden1.name"
   ]
  },
  {
   "cell_type": "code",
   "execution_count": 19,
   "metadata": {},
   "outputs": [
    {
     "data": {
      "text/plain": [
       "True"
      ]
     },
     "execution_count": 19,
     "metadata": {},
     "output_type": "execute_result"
    }
   ],
   "source": [
    "model.get_layer(hidden1.name) is hidden1"
   ]
  },
  {
   "cell_type": "code",
   "execution_count": 20,
   "metadata": {},
   "outputs": [
    {
     "data": {
      "text/plain": [
       "array([[-0.01927553,  0.02735475,  0.00166248, ..., -0.0364512 ,\n",
       "         0.00080583, -0.04249576],\n",
       "       [ 0.0393626 ,  0.04342858, -0.07315279, ..., -0.06365193,\n",
       "         0.03360859,  0.03008849],\n",
       "       [ 0.06861782, -0.05128516,  0.05731674, ..., -0.04018447,\n",
       "        -0.04937582, -0.05459518],\n",
       "       ...,\n",
       "       [ 0.01949046,  0.05308992,  0.00695311, ...,  0.02904744,\n",
       "         0.02425971,  0.05038133],\n",
       "       [ 0.04037397, -0.0686842 , -0.02653367, ..., -0.02044458,\n",
       "         0.00955243,  0.00764608],\n",
       "       [ 0.04208927,  0.03339045,  0.01031657, ..., -0.0662481 ,\n",
       "        -0.01656121, -0.04156039]], dtype=float32)"
      ]
     },
     "execution_count": 20,
     "metadata": {},
     "output_type": "execute_result"
    }
   ],
   "source": [
    "# get_weights() returns the layer's weights\n",
    "weights, biases = hidden1.get_weights()\n",
    "weights"
   ]
  },
  {
   "cell_type": "code",
   "execution_count": 21,
   "metadata": {},
   "outputs": [
    {
     "data": {
      "text/plain": [
       "(784, 300)"
      ]
     },
     "execution_count": 21,
     "metadata": {},
     "output_type": "execute_result"
    }
   ],
   "source": [
    "weights.shape"
   ]
  },
  {
   "cell_type": "markdown",
   "metadata": {},
   "source": [
    "Se puede observar que la capa densa (Dense) incializó la matriz de pesos de conexión $\\;\\left(784 \\times300 \\right)$"
   ]
  },
  {
   "cell_type": "markdown",
   "metadata": {},
   "source": [
    "#### **3) Compile Model**"
   ]
  },
  {
   "cell_type": "markdown",
   "metadata": {},
   "source": [
    "Después de crear el modelo, debemos llamar al método compile() para especificar la función de pérdida y el optimizador que se utilizará. Opcionalmente, se puede especificar una lista de métricas adicionales para ser calculadas durante el entrenamiento y la evaluación:"
   ]
  },
  {
   "cell_type": "code",
   "execution_count": 22,
   "metadata": {},
   "outputs": [],
   "source": [
    "model.compile(loss=\"sparse_categorical_crossentropy\",\n",
    "              optimizer=\"sgd\",\n",
    "              metrics=[\"accuracy\"])"
   ]
  },
  {
   "cell_type": "markdown",
   "metadata": {},
   "source": [
    "- La **precisión (accuracy)** de un modelo generalmente se determiina después de que los parámetros del modelo se aprenden, se fijan y ya no se lleva a cabo el aprendizaje.  \n",
    "\n",
    "- Luego, las muestras de prueba se envían al modelo y se registra el número de errores que comete el modelo, después de la comparación con los objetivos verdaderos. Entonces se calcula el porcentaje de clasificación errónea.\n",
    "\n",
    "- Por ejemplo, si el número de muestras de prueba es $10,000$ y el modelo clasifica $9,816$ de ellas correctamente, entonces la precisión del modelo $98.16%$"
   ]
  },
  {
   "cell_type": "markdown",
   "metadata": {},
   "source": [
    "- Cuanto menor sea la pérdida (loss), mejor será un modelo (a menos que el modelo se haya ajustado demasiado a los datos de entrenamiento)"
   ]
  },
  {
   "cell_type": "markdown",
   "metadata": {},
   "source": [
    "Después de crear el modelo, debemos llamar al método `compile()` para especificar la función de pérdida y el optimizador que se utilizará. Opcionalmente, se puede especificar una lista de métricas adicioanles para ser calcualdas durante el netreamiento y la evaluación."
   ]
  },
  {
   "cell_type": "markdown",
   "metadata": {},
   "source": [
    "¿Cuando utilizar el ID, cuando el nombre completo?\n",
    "Cuando se utiliza el optimizador SGD, es importante ajustar la tasa de aprendizaje.\n",
    "SGD = 0.01 (Default).\n",
    "\n",
    "- Así que generalmente se emplea `optimizer=tf.keras.optimizers.SGD(learning_rate=__???__)` para establecer la tasa de aprendizaje, en lugar de `optimizer='sgd'`, que por defecto tiene una tasa de aprendizaje de 0.01"
   ]
  },
  {
   "cell_type": "markdown",
   "metadata": {},
   "source": [
    "#### **4) Training and Model Assessment**\n",
    "Ahora el modelo está listo para ser entrenado. Para eso simplemente necesitamos llamar a su método fit()"
   ]
  },
  {
   "cell_type": "code",
   "execution_count": 23,
   "metadata": {},
   "outputs": [
    {
     "name": "stdout",
     "output_type": "stream",
     "text": [
      "Epoch 1/30\n",
      "   1/1719 [..............................] - ETA: 8:23 - loss: 2.6063 - accuracy: 0.0625"
     ]
    },
    {
     "name": "stderr",
     "output_type": "stream",
     "text": [
      "2024-03-06 16:20:16.489483: I tensorflow/core/grappler/optimizers/custom_graph_optimizer_registry.cc:117] Plugin optimizer for device_type GPU is enabled.\n"
     ]
    },
    {
     "name": "stdout",
     "output_type": "stream",
     "text": [
      "1719/1719 [==============================] - 10s 6ms/step - loss: 0.7281 - accuracy: 0.7518 - val_loss: 0.5424 - val_accuracy: 0.8122\n",
      "Epoch 2/30\n",
      "1719/1719 [==============================] - 10s 6ms/step - loss: 0.5123 - accuracy: 0.8208 - val_loss: 0.4693 - val_accuracy: 0.8406\n",
      "Epoch 3/30\n",
      "1719/1719 [==============================] - 10s 6ms/step - loss: 0.4749 - accuracy: 0.8336 - val_loss: 0.5906 - val_accuracy: 0.7808\n",
      "Epoch 4/30\n",
      "1719/1719 [==============================] - 10s 6ms/step - loss: 0.4570 - accuracy: 0.8403 - val_loss: 0.4444 - val_accuracy: 0.8460\n",
      "Epoch 5/30\n",
      "1719/1719 [==============================] - 10s 6ms/step - loss: 0.4475 - accuracy: 0.8442 - val_loss: 0.4408 - val_accuracy: 0.8496\n",
      "Epoch 6/30\n",
      "1719/1719 [==============================] - 10s 6ms/step - loss: 0.4378 - accuracy: 0.8480 - val_loss: 0.4367 - val_accuracy: 0.8510\n",
      "Epoch 7/30\n",
      "1719/1719 [==============================] - 10s 6ms/step - loss: 0.4342 - accuracy: 0.8485 - val_loss: 0.4348 - val_accuracy: 0.8546\n",
      "Epoch 8/30\n",
      "1719/1719 [==============================] - 10s 6ms/step - loss: 0.4326 - accuracy: 0.8485 - val_loss: 0.4925 - val_accuracy: 0.8272\n",
      "Epoch 9/30\n",
      "1719/1719 [==============================] - 10s 6ms/step - loss: 0.4323 - accuracy: 0.8515 - val_loss: 0.4605 - val_accuracy: 0.8402\n",
      "Epoch 10/30\n",
      "1719/1719 [==============================] - 10s 6ms/step - loss: 0.4352 - accuracy: 0.8488 - val_loss: 0.4806 - val_accuracy: 0.8370\n",
      "Epoch 11/30\n",
      "1719/1719 [==============================] - 10s 6ms/step - loss: 0.4432 - accuracy: 0.8475 - val_loss: 0.4742 - val_accuracy: 0.8486\n"
     ]
    }
   ],
   "source": [
    "early_stop = EarlyStopping(monitor='loss', patience = 2)\n",
    "\n",
    "history = model.fit(X_train, y_train, epochs=30,\n",
    "                    validation_data=(X_valid, y_valid),\n",
    "                    callbacks = [early_stop])"
   ]
  },
  {
   "cell_type": "markdown",
   "metadata": {},
   "source": [
    "Ahora, la red neuronal está entrenada. "
   ]
  },
  {
   "cell_type": "markdown",
   "metadata": {},
   "source": [
    "El tamaño estandar de los lotes es 32, por los bits de la computadora.\n",
    "Keras es potente y muy rápido, pero sino sabemos que estamos haciendo puede ser una caja negra.\n",
    "\n",
    "- El Descenso de Gradiente por Mini Lotes: Es una variación del algoritmo\n",
    "\n",
    "Por cada batch, reajusto pesos.\n",
    "Repito 30 por epochs (épocas)\n",
    "Cada época trabaja con 32 imágenes (1 batch)"
   ]
  },
  {
   "cell_type": "markdown",
   "metadata": {},
   "source": [
    "- El método `fit()` devuelve un objeto **history** que contiene los parámetros de entrenamiento "
   ]
  },
  {
   "cell_type": "code",
   "execution_count": 24,
   "metadata": {},
   "outputs": [
    {
     "data": {
      "text/plain": [
       "{'verbose': 1, 'epochs': 30, 'steps': 1719}"
      ]
     },
     "execution_count": 24,
     "metadata": {},
     "output_type": "execute_result"
    }
   ],
   "source": [
    "history.params"
   ]
  },
  {
   "cell_type": "code",
   "execution_count": 25,
   "metadata": {},
   "outputs": [
    {
     "name": "stdout",
     "output_type": "stream",
     "text": [
      "[0, 1, 2, 3, 4, 5, 6, 7, 8, 9, 10]\n"
     ]
    }
   ],
   "source": [
    "print(history.epoch)"
   ]
  },
  {
   "cell_type": "code",
   "execution_count": 26,
   "metadata": {},
   "outputs": [
    {
     "data": {
      "text/plain": [
       "dict_keys(['loss', 'accuracy', 'val_loss', 'val_accuracy'])"
      ]
     },
     "execution_count": 26,
     "metadata": {},
     "output_type": "execute_result"
    }
   ],
   "source": [
    "history.history.keys()"
   ]
  },
  {
   "cell_type": "markdown",
   "metadata": {},
   "source": [
    "#### **E2.08: Plot Learning Curves** \n",
    "- Emplear el diccionario (`history.history`) que contiene la pérdida y la precisión que se calcularon al final de cada época en el conjunto de entrenamiento y en el conjunto de validación para obtener las curvas de aprendizaje.  \n",
    "\n",
    "- Utilizar un *data frame* de Pandas a través del método `DataFrame().plot()` para graficar las curvas de aprendizaje.  "
   ]
  },
  {
   "cell_type": "code",
   "execution_count": 27,
   "metadata": {},
   "outputs": [
    {
     "data": {
      "text/html": [
       "<div>\n",
       "<style scoped>\n",
       "    .dataframe tbody tr th:only-of-type {\n",
       "        vertical-align: middle;\n",
       "    }\n",
       "\n",
       "    .dataframe tbody tr th {\n",
       "        vertical-align: top;\n",
       "    }\n",
       "\n",
       "    .dataframe thead th {\n",
       "        text-align: right;\n",
       "    }\n",
       "</style>\n",
       "<table border=\"1\" class=\"dataframe\">\n",
       "  <thead>\n",
       "    <tr style=\"text-align: right;\">\n",
       "      <th></th>\n",
       "      <th>loss</th>\n",
       "      <th>accuracy</th>\n",
       "      <th>val_loss</th>\n",
       "      <th>val_accuracy</th>\n",
       "    </tr>\n",
       "  </thead>\n",
       "  <tbody>\n",
       "    <tr>\n",
       "      <th>0</th>\n",
       "      <td>0.728074</td>\n",
       "      <td>0.751764</td>\n",
       "      <td>0.542353</td>\n",
       "      <td>0.8122</td>\n",
       "    </tr>\n",
       "    <tr>\n",
       "      <th>1</th>\n",
       "      <td>0.512281</td>\n",
       "      <td>0.820836</td>\n",
       "      <td>0.469289</td>\n",
       "      <td>0.8406</td>\n",
       "    </tr>\n",
       "    <tr>\n",
       "      <th>2</th>\n",
       "      <td>0.474864</td>\n",
       "      <td>0.833564</td>\n",
       "      <td>0.590556</td>\n",
       "      <td>0.7808</td>\n",
       "    </tr>\n",
       "    <tr>\n",
       "      <th>3</th>\n",
       "      <td>0.456969</td>\n",
       "      <td>0.840309</td>\n",
       "      <td>0.444442</td>\n",
       "      <td>0.8460</td>\n",
       "    </tr>\n",
       "    <tr>\n",
       "      <th>4</th>\n",
       "      <td>0.447493</td>\n",
       "      <td>0.844182</td>\n",
       "      <td>0.440804</td>\n",
       "      <td>0.8496</td>\n",
       "    </tr>\n",
       "    <tr>\n",
       "      <th>5</th>\n",
       "      <td>0.437813</td>\n",
       "      <td>0.848018</td>\n",
       "      <td>0.436690</td>\n",
       "      <td>0.8510</td>\n",
       "    </tr>\n",
       "    <tr>\n",
       "      <th>6</th>\n",
       "      <td>0.434221</td>\n",
       "      <td>0.848491</td>\n",
       "      <td>0.434804</td>\n",
       "      <td>0.8546</td>\n",
       "    </tr>\n",
       "    <tr>\n",
       "      <th>7</th>\n",
       "      <td>0.432644</td>\n",
       "      <td>0.848491</td>\n",
       "      <td>0.492476</td>\n",
       "      <td>0.8272</td>\n",
       "    </tr>\n",
       "    <tr>\n",
       "      <th>8</th>\n",
       "      <td>0.432267</td>\n",
       "      <td>0.851545</td>\n",
       "      <td>0.460540</td>\n",
       "      <td>0.8402</td>\n",
       "    </tr>\n",
       "    <tr>\n",
       "      <th>9</th>\n",
       "      <td>0.435150</td>\n",
       "      <td>0.848782</td>\n",
       "      <td>0.480551</td>\n",
       "      <td>0.8370</td>\n",
       "    </tr>\n",
       "    <tr>\n",
       "      <th>10</th>\n",
       "      <td>0.443240</td>\n",
       "      <td>0.847527</td>\n",
       "      <td>0.474173</td>\n",
       "      <td>0.8486</td>\n",
       "    </tr>\n",
       "  </tbody>\n",
       "</table>\n",
       "</div>"
      ],
      "text/plain": [
       "        loss  accuracy  val_loss  val_accuracy\n",
       "0   0.728074  0.751764  0.542353        0.8122\n",
       "1   0.512281  0.820836  0.469289        0.8406\n",
       "2   0.474864  0.833564  0.590556        0.7808\n",
       "3   0.456969  0.840309  0.444442        0.8460\n",
       "4   0.447493  0.844182  0.440804        0.8496\n",
       "5   0.437813  0.848018  0.436690        0.8510\n",
       "6   0.434221  0.848491  0.434804        0.8546\n",
       "7   0.432644  0.848491  0.492476        0.8272\n",
       "8   0.432267  0.851545  0.460540        0.8402\n",
       "9   0.435150  0.848782  0.480551        0.8370\n",
       "10  0.443240  0.847527  0.474173        0.8486"
      ]
     },
     "execution_count": 27,
     "metadata": {},
     "output_type": "execute_result"
    }
   ],
   "source": [
    "learning_curves = pd.DataFrame(history.history)\n",
    "learning_curves"
   ]
  },
  {
   "cell_type": "code",
   "execution_count": 28,
   "metadata": {},
   "outputs": [
    {
     "data": {
      "text/plain": [
       "<Axes: >"
      ]
     },
     "execution_count": 28,
     "metadata": {},
     "output_type": "execute_result"
    },
    {
     "data": {
      "image/png": "[encoded data removed]",
      "text/plain": [
       "<Figure size 640x480 with 1 Axes>"
      ]
     },
     "metadata": {},
     "output_type": "display_data"
    }
   ],
   "source": [
    "learning_curves.plot()"
   ]
  },
  {
   "cell_type": "code",
   "execution_count": 29,
   "metadata": {},
   "outputs": [
    {
     "name": "stdout",
     "output_type": "stream",
     "text": [
      "313/313 [==============================] - 2s 5ms/step - loss: 0.4967 - accuracy: 0.8341\n"
     ]
    },
    {
     "data": {
      "text/plain": [
       "[0.49670174717903137, 0.8341000080108643]"
      ]
     },
     "execution_count": 29,
     "metadata": {},
     "output_type": "execute_result"
    }
   ],
   "source": [
    "model.evaluate(X_test, y_test)"
   ]
  },
  {
   "cell_type": "code",
   "execution_count": 30,
   "metadata": {},
   "outputs": [
    {
     "name": "stdout",
     "output_type": "stream",
     "text": [
      "1/1 [==============================] - 0s 452ms/step\n"
     ]
    },
    {
     "data": {
      "text/plain": [
       "array([[0.  , 0.  , 0.  , 0.  , 0.  , 0.1 , 0.  , 0.07, 0.01, 0.82],\n",
       "       [0.  , 0.  , 0.96, 0.  , 0.01, 0.  , 0.03, 0.  , 0.  , 0.  ],\n",
       "       [0.  , 1.  , 0.  , 0.  , 0.  , 0.  , 0.  , 0.  , 0.  , 0.  ]],\n",
       "      dtype=float32)"
      ]
     },
     "execution_count": 30,
     "metadata": {},
     "output_type": "execute_result"
    }
   ],
   "source": [
    "X_new = X_test[:3]\n",
    "y_proba = model.predict(X_new)\n",
    "y_proba.round(2)"
   ]
  },
  {
   "cell_type": "code",
   "execution_count": 31,
   "metadata": {},
   "outputs": [
    {
     "name": "stdout",
     "output_type": "stream",
     "text": [
      "1/1 [==============================] - 0s 19ms/step\n"
     ]
    },
    {
     "data": {
      "text/plain": [
       "array([9, 2, 1])"
      ]
     },
     "execution_count": 31,
     "metadata": {},
     "output_type": "execute_result"
    }
   ],
   "source": [
    "y_pred = np.argmax(model.predict(X_new), axis=1)\n",
    "y_pred"
   ]
  },
  {
   "cell_type": "code",
   "execution_count": 42,
   "metadata": {},
   "outputs": [
    {
     "data": {
      "text/plain": [
       "array(['Ankle Boot', 'Pullover', 'Trouser'], dtype='<U11')"
      ]
     },
     "execution_count": 42,
     "metadata": {},
     "output_type": "execute_result"
    }
   ],
   "source": [
    "np.array(list(class_names.values()))[y_pred]"
   ]
  },
  {
   "cell_type": "markdown",
   "metadata": {},
   "source": [
    "#### **E2.09:** Visualize predictions\n",
    "- Los resultados anteriores muestran que el clasificador basado en una red neuroanl profunda clasificó las tres imágenes correctamente.  \n",
    "  \n",
    "- Utilizar Matploblib para imprimir las imágenes con el objetivo de visualizar de forma gráfico los resultados, cada imágen deberá desplegar su clase (etiqueta) correspondiente, la predicción y su probabilidad."
   ]
  },
  {
   "cell_type": "code",
   "execution_count": 53,
   "metadata": {},
   "outputs": [
    {
     "data": {
      "text/plain": [
       "array([0.  , 0.  , 0.  , 0.  , 0.  , 0.1 , 0.  , 0.07, 0.01, 0.82],\n",
       "      dtype=float32)"
      ]
     },
     "execution_count": 53,
     "metadata": {},
     "output_type": "execute_result"
    }
   ],
   "source": []
  },
  {
   "cell_type": "code",
   "execution_count": 64,
   "metadata": {},
   "outputs": [
    {
     "name": "stdout",
     "output_type": "stream",
     "text": [
      "Probability: 0.8199999928474426\n",
      "Predicted: Ankle Boot\n",
      "Real Value: Ankle Boot\n"
     ]
    },
    {
     "data": {
      "image/png": "[encoded data removed]",
      "text/plain": [
       "<Figure size 1000x1000 with 1 Axes>"
      ]
     },
     "metadata": {},
     "output_type": "display_data"
    },
    {
     "name": "stdout",
     "output_type": "stream",
     "text": [
      "Probability: 0.9599999785423279\n",
      "Predicted: Pullover\n",
      "Real Value: Pullover\n"
     ]
    },
    {
     "data": {
      "image/png": "[encoded data removed]",
      "text/plain": [
       "<Figure size 640x480 with 1 Axes>"
      ]
     },
     "metadata": {},
     "output_type": "display_data"
    },
    {
     "name": "stdout",
     "output_type": "stream",
     "text": [
      "Probability: 1.0\n",
      "Predicted: Trouser\n",
      "Real Value: Trouser\n"
     ]
    },
    {
     "data": {
      "image/png": "[encoded data removed]",
      "text/plain": [
       "<Figure size 640x480 with 1 Axes>"
      ]
     },
     "metadata": {},
     "output_type": "display_data"
    }
   ],
   "source": [
    "fig = plt.figure(figsize=(10,10))\n",
    "rows = 1; cols = 3\n",
    "\n",
    "for i in range(len(y_pred)):\n",
    "    fig.add_subplot(rows, cols, i+1)\n",
    "    print(f\"Probability: {np.max(y_proba.round(2)[i,:])}\")\n",
    "    print(f\"Predicted: {class_names[y_pred[i]]}\")\n",
    "    print(f\"Real Value: {class_names[y_test[i][0]]}\")\n",
    "    plt.imshow(X_test[i], cmap=\"viridis\")\n",
    "    plt.show()\n",
    "    "
   ]
  },
  {
   "cell_type": "markdown",
   "metadata": {},
   "source": [
    "#### **E2.10:** Normalize Dataset for Regression\n",
    "1. Cargar el conjunto de datos California Housing empleando `fetch_california_housing()` de ScikitLearn, el cual contiene 20,640 muestras con 8 características.\n",
    "\n",
    "2. Dividir el conjunto de datos, en un conjunto de entrenamiento (75%) y un conjunto de prueba (25%) empleando `train_test_split()`.\n",
    "\n",
    "3. Dividir el conjunto de entrenamiento, en un conjunto de entrenamiento (75%) y un conjunto de validación (25%).\n",
    "\n",
    "4. Escalar todas las características utilizando `StandardScaler()` para estandarizar el conjunto de datos(distribución estándar)."
   ]
  },
  {
   "cell_type": "code",
   "execution_count": 106,
   "metadata": {},
   "outputs": [],
   "source": [
    "housing = datasets.fetch_california_housing()\n",
    "X_train_full, X_test, y_train_full, y_test = train_test_split(\n",
    "    housing.data, housing.target, train_size=0.75, test_size=0.25, random_state=42)\n",
    "X_train, X_valid, y_train, y_valid = train_test_split(\n",
    "    X_train_full, y_train_full, train_size=0.75, test_size=0.25, random_state=42)"
   ]
  },
  {
   "cell_type": "code",
   "execution_count": 108,
   "metadata": {},
   "outputs": [
    {
     "name": "stdout",
     "output_type": "stream",
     "text": [
      "(15480, 8)\n",
      "(5160, 8)\n"
     ]
    }
   ],
   "source": [
    "print(X_train_full.shape)\n",
    "print(X_test.shape)"
   ]
  },
  {
   "cell_type": "code",
   "execution_count": 109,
   "metadata": {},
   "outputs": [
    {
     "name": "stdout",
     "output_type": "stream",
     "text": [
      "(11610, 8)\n",
      "(3870, 8)\n"
     ]
    }
   ],
   "source": [
    "print(X_train.shape)\n",
    "print(X_valid.shape)"
   ]
  },
  {
   "cell_type": "code",
   "execution_count": 104,
   "metadata": {},
   "outputs": [
    {
     "data": {
      "text/html": [
       "<style>#sk-container-id-3 {color: black;background-color: white;}#sk-container-id-3 pre{padding: 0;}#sk-container-id-3 div.sk-toggleable {background-color: white;}#sk-container-id-3 label.sk-toggleable__label {cursor: pointer;display: block;width: 100%;margin-bottom: 0;padding: 0.3em;box-sizing: border-box;text-align: center;}#sk-container-id-3 label.sk-toggleable__label-arrow:before {content: \"▸\";float: left;margin-right: 0.25em;color: #696969;}#sk-container-id-3 label.sk-toggleable__label-arrow:hover:before {color: black;}#sk-container-id-3 div.sk-estimator:hover label.sk-toggleable__label-arrow:before {color: black;}#sk-container-id-3 div.sk-toggleable__content {max-height: 0;max-width: 0;overflow: hidden;text-align: left;background-color: #f0f8ff;}#sk-container-id-3 div.sk-toggleable__content pre {margin: 0.2em;color: black;border-radius: 0.25em;background-color: #f0f8ff;}#sk-container-id-3 input.sk-toggleable__control:checked~div.sk-toggleable__content {max-height: 200px;max-width: 100%;overflow: auto;}#sk-container-id-3 input.sk-toggleable__control:checked~label.sk-toggleable__label-arrow:before {content: \"▾\";}#sk-container-id-3 div.sk-estimator input.sk-toggleable__control:checked~label.sk-toggleable__label {background-color: #d4ebff;}#sk-container-id-3 div.sk-label input.sk-toggleable__control:checked~label.sk-toggleable__label {background-color: #d4ebff;}#sk-container-id-3 input.sk-hidden--visually {border: 0;clip: rect(1px 1px 1px 1px);clip: rect(1px, 1px, 1px, 1px);height: 1px;margin: -1px;overflow: hidden;padding: 0;position: absolute;width: 1px;}#sk-container-id-3 div.sk-estimator {font-family: monospace;background-color: #f0f8ff;border: 1px dotted black;border-radius: 0.25em;box-sizing: border-box;margin-bottom: 0.5em;}#sk-container-id-3 div.sk-estimator:hover {background-color: #d4ebff;}#sk-container-id-3 div.sk-parallel-item::after {content: \"\";width: 100%;border-bottom: 1px solid gray;flex-grow: 1;}#sk-container-id-3 div.sk-label:hover label.sk-toggleable__label {background-color: #d4ebff;}#sk-container-id-3 div.sk-serial::before {content: \"\";position: absolute;border-left: 1px solid gray;box-sizing: border-box;top: 0;bottom: 0;left: 50%;z-index: 0;}#sk-container-id-3 div.sk-serial {display: flex;flex-direction: column;align-items: center;background-color: white;padding-right: 0.2em;padding-left: 0.2em;position: relative;}#sk-container-id-3 div.sk-item {position: relative;z-index: 1;}#sk-container-id-3 div.sk-parallel {display: flex;align-items: stretch;justify-content: center;background-color: white;position: relative;}#sk-container-id-3 div.sk-item::before, #sk-container-id-3 div.sk-parallel-item::before {content: \"\";position: absolute;border-left: 1px solid gray;box-sizing: border-box;top: 0;bottom: 0;left: 50%;z-index: -1;}#sk-container-id-3 div.sk-parallel-item {display: flex;flex-direction: column;z-index: 1;position: relative;background-color: white;}#sk-container-id-3 div.sk-parallel-item:first-child::after {align-self: flex-end;width: 50%;}#sk-container-id-3 div.sk-parallel-item:last-child::after {align-self: flex-start;width: 50%;}#sk-container-id-3 div.sk-parallel-item:only-child::after {width: 0;}#sk-container-id-3 div.sk-dashed-wrapped {border: 1px dashed gray;margin: 0 0.4em 0.5em 0.4em;box-sizing: border-box;padding-bottom: 0.4em;background-color: white;}#sk-container-id-3 div.sk-label label {font-family: monospace;font-weight: bold;display: inline-block;line-height: 1.2em;}#sk-container-id-3 div.sk-label-container {text-align: center;}#sk-container-id-3 div.sk-container {/* jupyter's `normalize.less` sets `[hidden] { display: none; }` but bootstrap.min.css set `[hidden] { display: none !important; }` so we also need the `!important` here to be able to override the default hidden behavior on the sphinx rendered scikit-learn.org. See: https://github.com/scikit-learn/scikit-learn/issues/21755 */display: inline-block !important;position: relative;}#sk-container-id-3 div.sk-text-repr-fallback {display: none;}</style><div id=\"sk-container-id-3\" class=\"sk-top-container\"><div class=\"sk-text-repr-fallback\"><pre>StandardScaler()</pre><b>In a Jupyter environment, please rerun this cell to show the HTML representation or trust the notebook. <br />On GitHub, the HTML representation is unable to render, please try loading this page with nbviewer.org.</b></div><div class=\"sk-container\" hidden><div class=\"sk-item\"><div class=\"sk-estimator sk-toggleable\"><input class=\"sk-toggleable__control sk-hidden--visually\" id=\"sk-estimator-id-3\" type=\"checkbox\" checked><label for=\"sk-estimator-id-3\" class=\"sk-toggleable__label sk-toggleable__label-arrow\">StandardScaler</label><div class=\"sk-toggleable__content\"><pre>StandardScaler()</pre></div></div></div></div></div>"
      ],
      "text/plain": [
       "StandardScaler()"
      ]
     },
     "execution_count": 104,
     "metadata": {},
     "output_type": "execute_result"
    }
   ],
   "source": [
    "scaler = StandardScaler(); \n",
    "scaler.fit(X_train, y_train)"
   ]
  },
  {
   "cell_type": "code",
   "execution_count": 105,
   "metadata": {},
   "outputs": [],
   "source": [
    "X_train_scaled = scaler.transform(X_train, y_train)"
   ]
  },
  {
   "cell_type": "code",
   "execution_count": 112,
   "metadata": {},
   "outputs": [
    {
     "data": {
      "text/html": [
       "<div>\n",
       "<style scoped>\n",
       "    .dataframe tbody tr th:only-of-type {\n",
       "        vertical-align: middle;\n",
       "    }\n",
       "\n",
       "    .dataframe tbody tr th {\n",
       "        vertical-align: top;\n",
       "    }\n",
       "\n",
       "    .dataframe thead th {\n",
       "        text-align: right;\n",
       "    }\n",
       "</style>\n",
       "<table border=\"1\" class=\"dataframe\">\n",
       "  <thead>\n",
       "    <tr style=\"text-align: right;\">\n",
       "      <th></th>\n",
       "      <th>Intercept</th>\n",
       "      <th>MedInc</th>\n",
       "      <th>HouseAge</th>\n",
       "      <th>AveRooms</th>\n",
       "      <th>AveBedrms</th>\n",
       "      <th>Population</th>\n",
       "      <th>AveOccup</th>\n",
       "      <th>Latitude</th>\n",
       "      <th>Longitude</th>\n",
       "    </tr>\n",
       "  </thead>\n",
       "  <tbody>\n",
       "    <tr>\n",
       "      <th>0</th>\n",
       "      <td>1</td>\n",
       "      <td>8.3252</td>\n",
       "      <td>41.0</td>\n",
       "      <td>6.984127</td>\n",
       "      <td>1.023810</td>\n",
       "      <td>322.0</td>\n",
       "      <td>2.555556</td>\n",
       "      <td>37.88</td>\n",
       "      <td>-122.23</td>\n",
       "    </tr>\n",
       "    <tr>\n",
       "      <th>1</th>\n",
       "      <td>1</td>\n",
       "      <td>8.3014</td>\n",
       "      <td>21.0</td>\n",
       "      <td>6.238137</td>\n",
       "      <td>0.971880</td>\n",
       "      <td>2401.0</td>\n",
       "      <td>2.109842</td>\n",
       "      <td>37.86</td>\n",
       "      <td>-122.22</td>\n",
       "    </tr>\n",
       "    <tr>\n",
       "      <th>2</th>\n",
       "      <td>1</td>\n",
       "      <td>7.2574</td>\n",
       "      <td>52.0</td>\n",
       "      <td>8.288136</td>\n",
       "      <td>1.073446</td>\n",
       "      <td>496.0</td>\n",
       "      <td>2.802260</td>\n",
       "      <td>37.85</td>\n",
       "      <td>-122.24</td>\n",
       "    </tr>\n",
       "    <tr>\n",
       "      <th>3</th>\n",
       "      <td>1</td>\n",
       "      <td>5.6431</td>\n",
       "      <td>52.0</td>\n",
       "      <td>5.817352</td>\n",
       "      <td>1.073059</td>\n",
       "      <td>558.0</td>\n",
       "      <td>2.547945</td>\n",
       "      <td>37.85</td>\n",
       "      <td>-122.25</td>\n",
       "    </tr>\n",
       "    <tr>\n",
       "      <th>4</th>\n",
       "      <td>1</td>\n",
       "      <td>3.8462</td>\n",
       "      <td>52.0</td>\n",
       "      <td>6.281853</td>\n",
       "      <td>1.081081</td>\n",
       "      <td>565.0</td>\n",
       "      <td>2.181467</td>\n",
       "      <td>37.85</td>\n",
       "      <td>-122.25</td>\n",
       "    </tr>\n",
       "    <tr>\n",
       "      <th>...</th>\n",
       "      <td>...</td>\n",
       "      <td>...</td>\n",
       "      <td>...</td>\n",
       "      <td>...</td>\n",
       "      <td>...</td>\n",
       "      <td>...</td>\n",
       "      <td>...</td>\n",
       "      <td>...</td>\n",
       "      <td>...</td>\n",
       "    </tr>\n",
       "    <tr>\n",
       "      <th>20635</th>\n",
       "      <td>1</td>\n",
       "      <td>1.5603</td>\n",
       "      <td>25.0</td>\n",
       "      <td>5.045455</td>\n",
       "      <td>1.133333</td>\n",
       "      <td>845.0</td>\n",
       "      <td>2.560606</td>\n",
       "      <td>39.48</td>\n",
       "      <td>-121.09</td>\n",
       "    </tr>\n",
       "    <tr>\n",
       "      <th>20636</th>\n",
       "      <td>1</td>\n",
       "      <td>2.5568</td>\n",
       "      <td>18.0</td>\n",
       "      <td>6.114035</td>\n",
       "      <td>1.315789</td>\n",
       "      <td>356.0</td>\n",
       "      <td>3.122807</td>\n",
       "      <td>39.49</td>\n",
       "      <td>-121.21</td>\n",
       "    </tr>\n",
       "    <tr>\n",
       "      <th>20637</th>\n",
       "      <td>1</td>\n",
       "      <td>1.7000</td>\n",
       "      <td>17.0</td>\n",
       "      <td>5.205543</td>\n",
       "      <td>1.120092</td>\n",
       "      <td>1007.0</td>\n",
       "      <td>2.325635</td>\n",
       "      <td>39.43</td>\n",
       "      <td>-121.22</td>\n",
       "    </tr>\n",
       "    <tr>\n",
       "      <th>20638</th>\n",
       "      <td>1</td>\n",
       "      <td>1.8672</td>\n",
       "      <td>18.0</td>\n",
       "      <td>5.329513</td>\n",
       "      <td>1.171920</td>\n",
       "      <td>741.0</td>\n",
       "      <td>2.123209</td>\n",
       "      <td>39.43</td>\n",
       "      <td>-121.32</td>\n",
       "    </tr>\n",
       "    <tr>\n",
       "      <th>20639</th>\n",
       "      <td>1</td>\n",
       "      <td>2.3886</td>\n",
       "      <td>16.0</td>\n",
       "      <td>5.254717</td>\n",
       "      <td>1.162264</td>\n",
       "      <td>1387.0</td>\n",
       "      <td>2.616981</td>\n",
       "      <td>39.37</td>\n",
       "      <td>-121.24</td>\n",
       "    </tr>\n",
       "  </tbody>\n",
       "</table>\n",
       "<p>20640 rows × 9 columns</p>\n",
       "</div>"
      ],
      "text/plain": [
       "       Intercept  MedInc  HouseAge  AveRooms  AveBedrms  Population  AveOccup  \\\n",
       "0              1  8.3252      41.0  6.984127   1.023810       322.0  2.555556   \n",
       "1              1  8.3014      21.0  6.238137   0.971880      2401.0  2.109842   \n",
       "2              1  7.2574      52.0  8.288136   1.073446       496.0  2.802260   \n",
       "3              1  5.6431      52.0  5.817352   1.073059       558.0  2.547945   \n",
       "4              1  3.8462      52.0  6.281853   1.081081       565.0  2.181467   \n",
       "...          ...     ...       ...       ...        ...         ...       ...   \n",
       "20635          1  1.5603      25.0  5.045455   1.133333       845.0  2.560606   \n",
       "20636          1  2.5568      18.0  6.114035   1.315789       356.0  3.122807   \n",
       "20637          1  1.7000      17.0  5.205543   1.120092      1007.0  2.325635   \n",
       "20638          1  1.8672      18.0  5.329513   1.171920       741.0  2.123209   \n",
       "20639          1  2.3886      16.0  5.254717   1.162264      1387.0  2.616981   \n",
       "\n",
       "       Latitude  Longitude  \n",
       "0         37.88    -122.23  \n",
       "1         37.86    -122.22  \n",
       "2         37.85    -122.24  \n",
       "3         37.85    -122.25  \n",
       "4         37.85    -122.25  \n",
       "...         ...        ...  \n",
       "20635     39.48    -121.09  \n",
       "20636     39.49    -121.21  \n",
       "20637     39.43    -121.22  \n",
       "20638     39.43    -121.32  \n",
       "20639     39.37    -121.24  \n",
       "\n",
       "[20640 rows x 9 columns]"
      ]
     },
     "execution_count": 112,
     "metadata": {},
     "output_type": "execute_result"
    }
   ],
   "source": [
    "df_features = pd.DataFrame(housing.data, columns=housing.feature_names)\n",
    "df_target = pd.DataFrame(housing.target, columns=housing.target_names)\n",
    "df_features.insert(0, 'Intercept', 1)\n",
    "\n",
    "df_features"
   ]
  }
 ],
 "metadata": {
  "kernelspec": {
   "display_name": "tensorflow",
   "language": "python",
   "name": "python3"
  },
  "language_info": {
   "codemirror_mode": {
    "name": "ipython",
    "version": 3
   },
   "file_extension": ".py",
   "mimetype": "text/x-python",
   "name": "python",
   "nbconvert_exporter": "python",
   "pygments_lexer": "ipython3",
   "version": "3.11.7"
  }
 },
 "nbformat": 4,
 "nbformat_minor": 2
}
