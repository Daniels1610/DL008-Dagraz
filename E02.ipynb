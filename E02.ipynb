{
 "cells": [
  {
   "cell_type": "markdown",
   "metadata": {},
   "source": [
    "## E02 Notebook - Daniel Agraz Vallejo"
   ]
  },
  {
   "cell_type": "code",
   "execution_count": 26,
   "metadata": {},
   "outputs": [],
   "source": [
    "import tensorflow as tf\n",
    "import keras\n",
    "import numpy as np\n",
    "import pandas as pd\n",
    "import matplotlib.pyplot as plt\n",
    "import seaborn as sns\n",
    "from sklearn import datasets\n",
    "from sklearn.linear_model import Perceptron\n",
    "from sklearn.neural_network import MLPClassifier\n",
    "from sklearn.neural_network import MLPRegressor\n",
    "from tensorflow.keras.callbacks import EarlyStopping\n",
    "from tensorflow.keras.models import Sequential, save_model, load_model\n",
    "from sklearn.metrics import mean_squared_error\n",
    "from sklearn.model_selection import train_test_split\n",
    "from sklearn.pipeline import make_pipeline\n",
    "from sklearn.preprocessing import StandardScaler"
   ]
  },
  {
   "cell_type": "markdown",
   "metadata": {},
   "source": [
    "#### **E2.1:** Employing Tensorflow conduct the logic operation on each of the displayed examples.\n",
    "\n",
    "<img src='imgs/E2.1Examples.png' alt='E2.1 Ejemplos'>"
   ]
  },
  {
   "cell_type": "code",
   "execution_count": null,
   "metadata": {},
   "outputs": [],
   "source": [
    "def buffer(A:tf.Tensor) -> tf.Tensor:\n",
    "    io_description(A, B=None)\n",
    "    return A\n",
    "\n",
    "# Logical AND\n",
    "def land(A:tf.Tensor, B:tf.Tensor) -> tf.Tensor: \n",
    "    io_description(A,B)\n",
    "    return tf.logical_and(A, B)\n",
    "\n",
    "# Logical OR\n",
    "def lor(A:tf.Tensor, B:tf.Tensor) -> tf.Tensor:\n",
    "    io_description(A,B)\n",
    "    return tf.logical_or(A, B)\n",
    "\n",
    "# Logical NOT | tf.logical.not()\n",
    "\n",
    "# Logical Function \n",
    "def logic_func(A:tf.Tensor, B:tf.Tensor) -> tf.Tensor:\n",
    "    io_description(A,B)\n",
    "    return tf.logical_and(A, tf.logical_not(B))\n",
    "\n",
    "def io_description(A:tf.Tensor, B:tf.Tensor):\n",
    "    if B is None: print(f'IN: A-{A}')\n",
    "    else: print(f'IN: A-{A} | B-{B}')"
   ]
  },
  {
   "cell_type": "code",
   "execution_count": null,
   "metadata": {},
   "outputs": [],
   "source": [
    "A0 = B0 = tf.constant(False, dtype=tf.bool)\n",
    "A1 = B1 = tf.constant(True, dtype=tf.bool)\n",
    "tv0 = tf.Variable([(A0,B0),(A0,B1),(A1,B0),(A1,B1)])\n",
    "\n",
    "\n",
    "A20 = B20 = tf.constant([False,False], dtype=tf.bool)\n",
    "A21 = B21 = tf.constant([False,True], dtype=tf.bool)\n",
    "A22 = B22 = tf.constant([True,False], dtype=tf.bool)\n",
    "A23 = B23 = tf.constant([True,True], dtype=tf.bool)\n",
    "tvA = tf.Variable([A20,A21,A22,A23])\n",
    "tvB = tf.Variable([B20,B21,B22,B23])"
   ]
  },
  {
   "cell_type": "markdown",
   "metadata": {},
   "source": [
    "##### Buffer | C = A "
   ]
  },
  {
   "cell_type": "code",
   "execution_count": null,
   "metadata": {},
   "outputs": [],
   "source": [
    "print(f'\\033[1mBuffer:\\033[0m')\n",
    "print(f'OUT: {buffer(A0)}\\n')\n",
    "print(f'OUT: {buffer(A1)}\\n')"
   ]
  },
  {
   "cell_type": "markdown",
   "metadata": {},
   "source": [
    "##### Logical AND | C = A $\\land$ B"
   ]
  },
  {
   "cell_type": "code",
   "execution_count": null,
   "metadata": {},
   "outputs": [],
   "source": [
    "print(f'\\033[1mLogical AND:\\033[0m')\n",
    "for bools in tv0:\n",
    "    print(f'OUT: {land(bools[0],bools[1])}\\n')\n",
    "\n",
    "for boolA in tvA:\n",
    "    for boolB in tvB:\n",
    "        print(f'OUT: {lor(boolA, boolB)}\\n')"
   ]
  },
  {
   "cell_type": "markdown",
   "metadata": {},
   "source": [
    "##### Logical OR C = A $\\lor$ B"
   ]
  },
  {
   "cell_type": "code",
   "execution_count": null,
   "metadata": {},
   "outputs": [],
   "source": [
    "print(f'\\033[1mLogical OR:\\033[0m')\n",
    "for bools in tv0:\n",
    "    print(f'OUT: {lor(bools[0],bools[1])}\\n')\n",
    "\n",
    "for boolA in tvA:\n",
    "    for boolB in tvB:\n",
    "        print(f'OUT: {lor(boolA, boolB)}\\n')"
   ]
  },
  {
   "cell_type": "markdown",
   "metadata": {},
   "source": [
    "##### Logical Function #1 | C = A $\\lor\\;\\neg$ B"
   ]
  },
  {
   "cell_type": "code",
   "execution_count": null,
   "metadata": {},
   "outputs": [],
   "source": [
    "print(f'\\033[1mLogical Function:\\033[0m')\n",
    "for bools in tv0:\n",
    "    print(f'OUT: {logic_func(bools[0],bools[1])}\\n')\n",
    "\n",
    "for boolA in tvA:\n",
    "    for boolB in tvB:\n",
    "        print(f'OUT: {logic_func(boolA, boolB)}\\n')"
   ]
  },
  {
   "cell_type": "markdown",
   "metadata": {},
   "source": [
    "#### **E2.2:** Implement scikit-learn's perceptron to classify flowers from the Iris Dataset\n",
    "\n"
   ]
  },
  {
   "cell_type": "code",
   "execution_count": null,
   "metadata": {},
   "outputs": [],
   "source": [
    "iris = datasets.load_iris()\n",
    "df_iris = pd.DataFrame(iris.data, columns=iris.feature_names)\n",
    "df_iris.insert(4, 'class label', iris.target.reshape(-1,1))\n",
    "df_iris = df_iris[['petal length (cm)', 'petal width (cm)', 'class label']]\n",
    "df_iris\n"
   ]
  },
  {
   "cell_type": "code",
   "execution_count": null,
   "metadata": {},
   "outputs": [],
   "source": [
    "X = iris.data[:, (2,3)]\n",
    "y = (iris.target == 0).astype(int)\n",
    "model = Perceptron(tol=1e-3, random_state=1)\n",
    "model.fit(X, y)\n",
    "print(\"%0.3f\" % model.score(X,y))"
   ]
  },
  {
   "cell_type": "code",
   "execution_count": null,
   "metadata": {},
   "outputs": [],
   "source": [
    "# 1 | Iris-Setosa\n",
    "# 0 | Not Iris-Setosa\n",
    "X_test = np.array([[2.0, 0.5],\n",
    "                   [3.6, 1.1],\n",
    "                   [4.9, 1.9]])\n",
    "model.predict(X_test)"
   ]
  },
  {
   "cell_type": "code",
   "execution_count": null,
   "metadata": {},
   "outputs": [],
   "source": [
    "# Scratch Implementation\n",
    "# X = iris.data[:, (2,3)]\n",
    "# y = iris.target.reshape(-1,1)\n",
    "# w = np.random.uniform(low=0.001, high=1.0, size=(150, 1))\n",
    "# b = np.random.randint(1,5, size=(1))\n",
    "\n",
    "# z = X * w + b\n",
    "\n",
    "# for i in range(1000):\n",
    "#     pass\n"
   ]
  },
  {
   "cell_type": "markdown",
   "metadata": {},
   "source": [
    "#### **E2.3 :** Implement the XOR Operator with a Multi-Layer Perceptron (MLP)"
   ]
  },
  {
   "cell_type": "code",
   "execution_count": null,
   "metadata": {},
   "outputs": [],
   "source": [
    "def step(z:np.int32) -> np.int32:\n",
    "    return 0 if z < 0 else 1\n",
    "\n",
    "def input_x() -> tuple:\n",
    "    # Input binary values\n",
    "    while True:\n",
    "        try:\n",
    "            input_x1 = int(input(\"Enter x1 bits: \"), 2)\n",
    "            input_x2 = int(input(\"Enter x2 bits: \"), 2)\n",
    "            break\n",
    "        except ValueError:\n",
    "            print(\"Invalid bit. Input only binary values\")\n",
    "    return input_x1, input_x2\n",
    "\n",
    "def init_params() -> tuple:\n",
    "    w1 = tf.cast(tf.constant([1, 1]), tf.float32)\n",
    "    w2 = tf.cast(tf.constant([-1, 1]), tf.float32)\n",
    "    b1 = tf.constant([-1.5, -0.5])\n",
    "    b2 = tf.constant([-0.5])\n",
    "    return w1, w2, b1, b2\n",
    "\n",
    "def forward_prop(w, x, b) -> tf.float32:\n",
    "    return tf.reduce_sum(tf.multiply(w,x)) + b\n"
   ]
  },
  {
   "cell_type": "code",
   "execution_count": null,
   "metadata": {},
   "outputs": [],
   "source": [
    "x1, x2 = input_x()\n",
    "w1, w2, b1, b2 = init_params()\n",
    "z11 = forward_prop(w1, tf.cast(tf.constant([x1, x2]), tf.float32), b1[0])\n",
    "z12 = forward_prop(w1, tf.cast(tf.constant([x1, x2]), tf.float32), b1[1])\n",
    "# print(f'Z1: {z11} | Z2: {z12}')\n",
    "\n",
    "# Activation 1st Layer\n",
    "a11, a21 = step(z11), step(z12)\n",
    "# print(f'A11: {a11}, A21: {a21}')\n",
    "\n",
    "# Activation 2nd Layer\n",
    "z21 = forward_prop(w2, tf.constant([a11, a21], dtype=tf.float32), b2)\n",
    "# print(f'Z21: {z21}')\n",
    "\n",
    "y = step(z21) \n",
    "\n",
    "print(f'x1: {x1}')\n",
    "print(f'x2: {x2}')\n",
    "print(f'y: {y}')"
   ]
  },
  {
   "cell_type": "markdown",
   "metadata": {},
   "source": [
    "#### **E2.4:** Implement MLP Classifier\n",
    "Implementar un perceptrón multicapa empleando el MLPClassifier de scikit-learn  \n",
    "(sklearn.neural_network.MLPClassifier) como clasificador para el problema XOR.   \n",
    "Emplear una arquitectura con 2 capas ocultas, 4 neuronas en la primer capa y  \n",
    "2 neuronas en la segunda capa."
   ]
  },
  {
   "cell_type": "code",
   "execution_count": null,
   "metadata": {},
   "outputs": [],
   "source": [
    "# Input Dataset\n",
    "X = tf.constant([[0,0],\n",
    "                 [0,1],\n",
    "                 [1,0],\n",
    "                 [1,1]])\n",
    "\n",
    "y = tf.constant([0,1,1,0])\n",
    "\n",
    "# Model\n",
    "model = MLPClassifier(\n",
    "    hidden_layer_sizes= [4, 2],\n",
    "    random_state=1,\n",
    "    activation='relu',\n",
    "    solver='adam',\n",
    "    alpha=0.0001,\n",
    "    learning_rate='constant',\n",
    "    max_iter=800,\n",
    "    verbose=False)\n",
    "\n",
    "# Training\n",
    "model.fit(X, y)\n",
    "print(\"%0.3f\" % model.score(X,y))\n",
    "\n",
    "# Predict\n",
    "X_test = np.array([[0,1],\n",
    "                   [1,0],\n",
    "                   [0,0]])\n",
    "\n",
    "model.predict(X_test)"
   ]
  },
  {
   "cell_type": "markdown",
   "metadata": {},
   "source": [
    "#### **E2.5:** Implement MLP Regressor\n",
    "Implementar un perceptrón multicapa empleando el MLPRegressor de scikit  \n",
    "learn (sklearn.neural_network.MLPRegressor) para la estimación del valor  \n",
    "medio de vivienda con el conjunto de datos California Housing de scikit learn.  \n",
    "Emplear una arquitectura con 3 capas ocultas, cada una con 50 neuronas y  \n",
    "evaluar el RMSE con datos de prueba."
   ]
  },
  {
   "cell_type": "code",
   "execution_count": null,
   "metadata": {},
   "outputs": [],
   "source": [
    "# Input Dataset\n",
    "housing = datasets.fetch_california_housing()\n",
    "X_train_full, X_test, y_train_full, y_test = train_test_split(\n",
    "    housing.data, housing.target, random_state=42)\n",
    "X_train, X_valid, y_train, y_valid = train_test_split(\n",
    "    X_train_full, y_train_full, random_state=42)\n",
    "\n",
    "# Model\n",
    "model = MLPRegressor(\n",
    "    hidden_layer_sizes=[50, 50, 50],\n",
    "    random_state=42,\n",
    "    activation='relu',\n",
    "    solver='adam',\n",
    "    alpha=0.0001,\n",
    "    learning_rate='constant',\n",
    "    max_iter=800,\n",
    "    verbose=False)\n",
    "pipeline = make_pipeline(StandardScaler(), model)\n",
    "\n",
    "# Training\n",
    "pipeline.fit(X_train, y_train)"
   ]
  },
  {
   "cell_type": "code",
   "execution_count": null,
   "metadata": {},
   "outputs": [],
   "source": [
    "# Predict\n",
    "y_pred_valid = pipeline.predict(X_valid)\n",
    "rmse_valid = mean_squared_error(y_valid, y_pred_valid, squared=False)\n",
    "print(f'Validation RMSE: {rmse_valid}')\n",
    "\n",
    "y_pred_test = pipeline.predict(X_test)\n",
    "rmse_test = mean_squared_error(y_test, y_pred_test, squared=False)\n",
    "print(f'Test RMSE: {rmse_test}')"
   ]
  },
  {
   "cell_type": "markdown",
   "metadata": {},
   "source": [
    "#### **E2.6:** Implement Softmax"
   ]
  },
  {
   "cell_type": "code",
   "execution_count": null,
   "metadata": {},
   "outputs": [],
   "source": [
    "import numpy as np\n",
    "output = [1.0, 2.0, 3.0, 4.0, 1.0, 2.0, 3.0]\n",
    "\n",
    "def softmax(Z):\n",
    "    A = np.exp(Z) / np.sum(np.exp(Z))\n",
    "    return A\n",
    "\n",
    "probs = softmax(np.array(output))\n",
    "max_prob = np.argmax(probs)\n",
    "\n",
    "print(f'Output Probabilities: {probs}')\n",
    "print(f'Class Output: {max_prob}')"
   ]
  },
  {
   "cell_type": "markdown",
   "metadata": {},
   "source": [
    "#### **E2.7:** Verify your Keras installed version"
   ]
  },
  {
   "cell_type": "code",
   "execution_count": null,
   "metadata": {},
   "outputs": [],
   "source": [
    "print(keras.__version__)"
   ]
  },
  {
   "cell_type": "markdown",
   "metadata": {},
   "source": [
    "## Phases to build an Image Classifier \n"
   ]
  },
  {
   "cell_type": "markdown",
   "metadata": {},
   "source": [
    "#### **1) Load Dataset**"
   ]
  },
  {
   "cell_type": "code",
   "execution_count": null,
   "metadata": {},
   "outputs": [],
   "source": [
    "fashion_mnist = tf.keras.datasets.fashion_mnist\n",
    "(X_train_full, y_train_full), (X_test, y_test) = fashion_mnist.load_data()\n",
    "y_train_full = y_train_full.reshape(-1,1); y_test = y_test.reshape(-1,1) "
   ]
  },
  {
   "cell_type": "code",
   "execution_count": null,
   "metadata": {},
   "outputs": [],
   "source": [
    "print(f\"\"\"\n",
    "X_train_full: {X_train_full.shape}\n",
    "X_test: {X_test.shape}\n",
    "y_train_full: {y_train_full.shape}\n",
    "y_test: {y_test.shape} \n",
    "\"\"\")"
   ]
  },
  {
   "cell_type": "code",
   "execution_count": null,
   "metadata": {},
   "outputs": [],
   "source": [
    "X_train_full[0,:,:].shape"
   ]
  },
  {
   "cell_type": "code",
   "execution_count": null,
   "metadata": {},
   "outputs": [],
   "source": [
    "X_train_full.dtype"
   ]
  },
  {
   "cell_type": "code",
   "execution_count": null,
   "metadata": {},
   "outputs": [],
   "source": [
    "# Divide pixels by 255, to normalize values between 0 and 1\n",
    "X_valid, X_train = X_train_full[:5000] / 255, X_train_full[5000:] / 255\n",
    "y_valid, y_train = y_train_full[:5000].reshape((-1,1)), y_train_full[5000:].reshape((-1,1))\n",
    "X_test = X_test / 255\n",
    "print(f\"\"\"\n",
    "X_valid: {X_valid.shape}\n",
    "X_train: {X_train.shape}\n",
    "y_valid: {y_valid.shape}\n",
    "y_train: {y_train.shape} \n",
    "\"\"\")"
   ]
  },
  {
   "cell_type": "code",
   "execution_count": null,
   "metadata": {},
   "outputs": [],
   "source": [
    "plt.imshow(X_train[0], cmap=\"binary\")\n",
    "plt.axis('off')\n",
    "plt.show()"
   ]
  },
  {
   "cell_type": "code",
   "execution_count": null,
   "metadata": {},
   "outputs": [],
   "source": [
    "y_train"
   ]
  },
  {
   "cell_type": "code",
   "execution_count": null,
   "metadata": {},
   "outputs": [],
   "source": [
    "class_names = {\n",
    "    0 : \"T-shirt/top\",\n",
    "    1 : \"Trouser\",\n",
    "    2 : \"Pullover\",\n",
    "    3 : \"Dress\", \n",
    "    4 : \"Coat\",\n",
    "    5 : \"Sandal\",\n",
    "    6 : \"Shirt\",\n",
    "    7 : \"Sneaker\",\n",
    "    8 : \"Bag\",\n",
    "    9 : \"Ankle Boot\"\n",
    "}"
   ]
  },
  {
   "cell_type": "code",
   "execution_count": null,
   "metadata": {},
   "outputs": [],
   "source": [
    "y_train = y_train.flatten()\n",
    "class_names[y_train[0]]"
   ]
  },
  {
   "cell_type": "code",
   "execution_count": null,
   "metadata": {},
   "outputs": [],
   "source": [
    "X_valid.shape"
   ]
  },
  {
   "cell_type": "code",
   "execution_count": null,
   "metadata": {},
   "outputs": [],
   "source": [
    "X_test.shape"
   ]
  },
  {
   "cell_type": "markdown",
   "metadata": {},
   "source": [
    "#### **2) Model Creation**"
   ]
  },
  {
   "cell_type": "markdown",
   "metadata": {},
   "source": [
    "Esta arquitectura consiste en un perceptrón multicapa (MLP) para clasificación con dos capas ocultas:"
   ]
  },
  {
   "cell_type": "code",
   "execution_count": null,
   "metadata": {},
   "outputs": [],
   "source": [
    "# Set seed for result reproductibility\n",
    "tf.random.set_seed(42)\n",
    "model = tf.keras.Sequential()\n",
    "model.add(tf.keras.layers.InputLayer(input_shape=[28,28]))\n",
    "model.add(tf.keras.layers.Flatten())\n",
    "model.add(tf.keras.layers.Dense(300, activation=\"relu\"))\n",
    "model.add(tf.keras.layers.Dense(100, activation=\"relu\"))\n",
    "model.add(tf.keras.layers.Dense(10, activation=\"softmax\"))"
   ]
  },
  {
   "cell_type": "markdown",
   "metadata": {},
   "source": [
    "En lugar de agregar las capas una por una como lo acabamos   \n",
    "de hacer se puede pasar una **lista de capas** al crear el  \n",
    "modelo secuencial:"
   ]
  },
  {
   "cell_type": "code",
   "execution_count": null,
   "metadata": {},
   "outputs": [],
   "source": [
    "tf.keras.backend.clear_session()\n",
    "tf.random.set_seed(42)\n",
    "model = tf.keras.Sequential([\n",
    "    tf.keras.layers.Flatten(input_shape=[28,28]),   # Transforms a 2D vector a 1D feature array\n",
    "    tf.keras.layers.Dense(300, activation=\"relu\"),\n",
    "    tf.keras.layers.Dense(100, activation=\"relu\"),\n",
    "    tf.keras.layers.Dense(10, activation=\"softmax\")\n",
    "])"
   ]
  },
  {
   "cell_type": "markdown",
   "metadata": {},
   "source": [
    "Se puede obtener la lista de capas del modelo, identificadas por nombre o índice:"
   ]
  },
  {
   "cell_type": "code",
   "execution_count": null,
   "metadata": {},
   "outputs": [],
   "source": [
    "model.layers"
   ]
  },
  {
   "cell_type": "markdown",
   "metadata": {},
   "source": [
    "El método `summary()` del modelo muestra todas las capas del modelo, incluido el nombre de cada capa, su forma de salida y su número de parámetros."
   ]
  },
  {
   "cell_type": "code",
   "execution_count": null,
   "metadata": {},
   "outputs": [],
   "source": [
    "model.summary()"
   ]
  },
  {
   "cell_type": "markdown",
   "metadata": {},
   "source": [
    "- Se debe tener en cuenta que las capas densas (Dense) suelen tener muchos parámetros.  \n",
    "\n",
    "- Por ejemplo, la primera capa oculta tiene $74 \\times 300$ pesos de conexión, más $300$ términos de sesgo, lo que suma $235,500$ parámetros.  \n",
    "\n",
    "- Esto le da al modelo mucha flexibilidad para adaptarse a los datos de entrenamiento, pero también significa que el modelo corre el riesgo de sobreajuste, especialmente cuando no tiene muchos datos de entrenamiento\n",
    "\n",
    "- Google te pone el almacenamiento que ocupan los pesos"
   ]
  },
  {
   "cell_type": "code",
   "execution_count": null,
   "metadata": {},
   "outputs": [],
   "source": [
    "print(type(model))"
   ]
  },
  {
   "cell_type": "markdown",
   "metadata": {},
   "source": [
    "Normalmente, los pesos se inicializan de forma aleatoria.\n",
    "\n",
    "**¿Qué pasa si inicializas los pesos en 0?**  \n",
    "La red se vuelve simétrica y todas las neuronas se ven como si fueran una sola"
   ]
  },
  {
   "cell_type": "code",
   "execution_count": null,
   "metadata": {},
   "outputs": [],
   "source": [
    "hidden1 = model.layers[1]\n",
    "hidden1.name"
   ]
  },
  {
   "cell_type": "code",
   "execution_count": null,
   "metadata": {},
   "outputs": [],
   "source": [
    "model.get_layer(hidden1.name) is hidden1"
   ]
  },
  {
   "cell_type": "code",
   "execution_count": null,
   "metadata": {},
   "outputs": [],
   "source": [
    "# get_weights() returns the layer's weights\n",
    "weights, biases = hidden1.get_weights()\n",
    "weights"
   ]
  },
  {
   "cell_type": "code",
   "execution_count": null,
   "metadata": {},
   "outputs": [],
   "source": [
    "weights.shape"
   ]
  },
  {
   "cell_type": "markdown",
   "metadata": {},
   "source": [
    "Se puede observar que la capa densa (Dense) incializó la matriz de pesos de conexión $\\;\\left(784 \\times300 \\right)$"
   ]
  },
  {
   "cell_type": "markdown",
   "metadata": {},
   "source": [
    "#### **3) Compile Model**"
   ]
  },
  {
   "cell_type": "markdown",
   "metadata": {},
   "source": [
    "Después de crear el modelo, debemos llamar al método compile() para especificar la función de pérdida y el optimizador que se utilizará. Opcionalmente, se puede especificar una lista de métricas adicionales para ser calculadas durante el entrenamiento y la evaluación:"
   ]
  },
  {
   "cell_type": "code",
   "execution_count": null,
   "metadata": {},
   "outputs": [],
   "source": [
    "model.compile(loss=\"sparse_categorical_crossentropy\",\n",
    "              optimizer=\"sgd\",\n",
    "              metrics=[\"accuracy\"])"
   ]
  },
  {
   "cell_type": "markdown",
   "metadata": {},
   "source": [
    "- La **precisión (accuracy)** de un modelo generalmente se determiina después de que los parámetros del modelo se aprenden, se fijan y ya no se lleva a cabo el aprendizaje.  \n",
    "\n",
    "- Luego, las muestras de prueba se envían al modelo y se registra el número de errores que comete el modelo, después de la comparación con los objetivos verdaderos. Entonces se calcula el porcentaje de clasificación errónea.\n",
    "\n",
    "- Por ejemplo, si el número de muestras de prueba es $10,000$ y el modelo clasifica $9,816$ de ellas correctamente, entonces la precisión del modelo $98.16%$"
   ]
  },
  {
   "cell_type": "markdown",
   "metadata": {},
   "source": [
    "- Cuanto menor sea la pérdida (loss), mejor será un modelo (a menos que el modelo se haya ajustado demasiado a los datos de entrenamiento)"
   ]
  },
  {
   "cell_type": "markdown",
   "metadata": {},
   "source": [
    "Después de crear el modelo, debemos llamar al método `compile()` para especificar la función de pérdida y el optimizador que se utilizará. Opcionalmente, se puede especificar una lista de métricas adicioanles para ser calcualdas durante el netreamiento y la evaluación."
   ]
  },
  {
   "cell_type": "markdown",
   "metadata": {},
   "source": [
    "¿Cuando utilizar el ID, cuando el nombre completo?\n",
    "Cuando se utiliza el optimizador SGD, es importante ajustar la tasa de aprendizaje.\n",
    "SGD = 0.01 (Default).\n",
    "\n",
    "- Así que generalmente se emplea `optimizer=tf.keras.optimizers.SGD(learning_rate=__???__)` para establecer la tasa de aprendizaje, en lugar de `optimizer='sgd'`, que por defecto tiene una tasa de aprendizaje de 0.01"
   ]
  },
  {
   "cell_type": "markdown",
   "metadata": {},
   "source": [
    "#### **4) Training and Model Assessment**\n",
    "Ahora el modelo está listo para ser entrenado. Para eso simplemente necesitamos llamar a su método fit()"
   ]
  },
  {
   "cell_type": "code",
   "execution_count": null,
   "metadata": {},
   "outputs": [],
   "source": [
    "early_stop = EarlyStopping(monitor='loss', patience = 2)\n",
    "\n",
    "history = model.fit(X_train, y_train, epochs=30,\n",
    "                    validation_data=(X_valid, y_valid),\n",
    "                    callbacks = [early_stop])"
   ]
  },
  {
   "cell_type": "markdown",
   "metadata": {},
   "source": [
    "Ahora, la red neuronal está entrenada. "
   ]
  },
  {
   "cell_type": "markdown",
   "metadata": {},
   "source": [
    "El tamaño estandar de los lotes es 32, por los bits de la computadora.\n",
    "Keras es potente y muy rápido, pero sino sabemos que estamos haciendo puede ser una caja negra.\n",
    "\n",
    "- El Descenso de Gradiente por Mini Lotes: Es una variación del algoritmo\n",
    "\n",
    "Por cada batch, reajusto pesos.\n",
    "Repito 30 por epochs (épocas)\n",
    "Cada época trabaja con 32 imágenes (1 batch)"
   ]
  },
  {
   "cell_type": "markdown",
   "metadata": {},
   "source": [
    "- El método `fit()` devuelve un objeto **history** que contiene los parámetros de entrenamiento "
   ]
  },
  {
   "cell_type": "code",
   "execution_count": null,
   "metadata": {},
   "outputs": [],
   "source": [
    "history.params"
   ]
  },
  {
   "cell_type": "code",
   "execution_count": null,
   "metadata": {},
   "outputs": [],
   "source": [
    "print(history.epoch)"
   ]
  },
  {
   "cell_type": "code",
   "execution_count": null,
   "metadata": {},
   "outputs": [],
   "source": [
    "history.history.keys()"
   ]
  },
  {
   "cell_type": "markdown",
   "metadata": {},
   "source": [
    "#### **E2.8: Plot Learning Curves** \n",
    "- Emplear el diccionario (`history.history`) que contiene la pérdida y la precisión que se calcularon al final de cada época en el conjunto de entrenamiento y en el conjunto de validación para obtener las curvas de aprendizaje.  \n",
    "\n",
    "- Utilizar un *data frame* de Pandas a través del método `DataFrame().plot()` para graficar las curvas de aprendizaje.  "
   ]
  },
  {
   "cell_type": "code",
   "execution_count": null,
   "metadata": {},
   "outputs": [],
   "source": [
    "learning_curves = pd.DataFrame(history.history)\n",
    "learning_curves"
   ]
  },
  {
   "cell_type": "code",
   "execution_count": null,
   "metadata": {},
   "outputs": [],
   "source": [
    "learning_curves.plot()"
   ]
  },
  {
   "cell_type": "code",
   "execution_count": null,
   "metadata": {},
   "outputs": [],
   "source": [
    "model.evaluate(X_test, y_test)"
   ]
  },
  {
   "cell_type": "code",
   "execution_count": null,
   "metadata": {},
   "outputs": [],
   "source": [
    "X_new = X_test[:3]\n",
    "y_proba = model.predict(X_new)\n",
    "y_proba.round(2)"
   ]
  },
  {
   "cell_type": "code",
   "execution_count": null,
   "metadata": {},
   "outputs": [],
   "source": [
    "y_pred = np.argmax(model.predict(X_new), axis=1)\n",
    "y_pred"
   ]
  },
  {
   "cell_type": "code",
   "execution_count": null,
   "metadata": {},
   "outputs": [],
   "source": [
    "np.array(list(class_names.values()))[y_pred]"
   ]
  },
  {
   "cell_type": "markdown",
   "metadata": {},
   "source": [
    "#### **E2.9:** Visualize predictions\n",
    "- Los resultados anteriores muestran que el clasificador basado en una red neuroanl profunda clasificó las tres imágenes correctamente.  \n",
    "  \n",
    "- Utilizar Matploblib para imprimir las imágenes con el objetivo de visualizar de forma gráfico los resultados, cada imágen deberá desplegar su clase (etiqueta) correspondiente, la predicción y su probabilidad."
   ]
  },
  {
   "cell_type": "code",
   "execution_count": null,
   "metadata": {},
   "outputs": [],
   "source": []
  },
  {
   "cell_type": "code",
   "execution_count": null,
   "metadata": {},
   "outputs": [],
   "source": [
    "fig = plt.figure(figsize=(10,10))\n",
    "rows = 1; cols = 3\n",
    "\n",
    "for i in range(len(y_pred)):\n",
    "    fig.add_subplot(rows, cols, i+1)\n",
    "    print(f\"Probability: {np.max(y_proba.round(2)[i,:])}\")\n",
    "    print(f\"Predicted: {class_names[y_pred[i]]}\")\n",
    "    print(f\"Real Value: {class_names[y_test[i][0]]}\")\n",
    "    plt.imshow(X_test[i], cmap=\"viridis\")\n",
    "    plt.show()\n",
    "    "
   ]
  },
  {
   "cell_type": "markdown",
   "metadata": {},
   "source": [
    "#### **E2.10:** Normalize Dataset for Regression\n",
    "1. Cargar el conjunto de datos California Housing empleando `fetch_california_housing()` de ScikitLearn, el cual contiene 20,640 muestras con 8 características.\n",
    "\n",
    "2. Dividir el conjunto de datos, en un conjunto de entrenamiento (75%) y un conjunto de prueba (25%) empleando `train_test_split()`.\n",
    "\n",
    "3. Dividir el conjunto de entrenamiento, en un conjunto de entrenamiento (75%) y un conjunto de validación (25%).\n",
    "\n",
    "4. Escalar todas las características utilizando `StandardScaler()` para estandarizar el conjunto de datos(distribución estándar)."
   ]
  },
  {
   "cell_type": "code",
   "execution_count": 30,
   "metadata": {},
   "outputs": [],
   "source": [
    "housing = datasets.fetch_california_housing()\n",
    "X_train_full, X_test, y_train_full, y_test = train_test_split(\n",
    "    housing.data, housing.target, train_size=0.75, test_size=0.25, random_state=42)\n",
    "X_train, X_valid, y_train, y_valid = train_test_split(\n",
    "    X_train_full, y_train_full, train_size=0.75, test_size=0.25, random_state=42)"
   ]
  },
  {
   "cell_type": "code",
   "execution_count": 20,
   "metadata": {},
   "outputs": [
    {
     "name": "stdout",
     "output_type": "stream",
     "text": [
      "(15480, 8)\n",
      "(5160, 8)\n"
     ]
    }
   ],
   "source": [
    "print(X_train_full.shape)\n",
    "print(X_test.shape)"
   ]
  },
  {
   "cell_type": "code",
   "execution_count": 21,
   "metadata": {},
   "outputs": [
    {
     "name": "stdout",
     "output_type": "stream",
     "text": [
      "(11610, 8)\n",
      "(3870, 8)\n"
     ]
    }
   ],
   "source": [
    "print(X_train.shape)\n",
    "print(X_valid.shape)"
   ]
  },
  {
   "cell_type": "code",
   "execution_count": 31,
   "metadata": {},
   "outputs": [
    {
     "data": {
      "text/plain": [
       "(11610, 1)"
      ]
     },
     "execution_count": 31,
     "metadata": {},
     "output_type": "execute_result"
    }
   ],
   "source": [
    "y_train = np.reshape(y_train, newshape=(-1,1))\n",
    "y_train.shape"
   ]
  },
  {
   "cell_type": "code",
   "execution_count": 32,
   "metadata": {},
   "outputs": [],
   "source": [
    "scaler = StandardScaler(); \n",
    "X_train_scaled = scaler.fit_transform(X_train)\n",
    "X_valid_scaled = scaler.transform(X_valid)\n",
    "X_test_scaled = scaler.transform(X_test)"
   ]
  },
  {
   "cell_type": "code",
   "execution_count": 23,
   "metadata": {},
   "outputs": [
    {
     "data": {
      "text/plain": [
       "(8,)"
      ]
     },
     "execution_count": 23,
     "metadata": {},
     "output_type": "execute_result"
    }
   ],
   "source": [
    "X_train.shape[1:]"
   ]
  },
  {
   "cell_type": "markdown",
   "metadata": {},
   "source": [
    "#### **E2.11: Regression Model for California Housing**\n",
    "1. Utilizar el modelo secuencial `tf.keras.models.Sequential()` para implementtar la red neuronal profunda para regresión en el conjunto de datos California Housing.\n",
    "\n",
    "2. Implemenmtar las fases de construcción del modelo, compilación, entrenamiento y evaluación.\n",
    "  \n",
    "3. Graficar las curvas de la funciónde pérdida (mean_squared_error), considerando la información de la pérdida que se calculó al fial de cada época en el conunto de entrenamiento y en el conjunto de validación.\n",
    "  \n",
    "4. Realizar la evaluación de su modelo empleando el método evaluate()  \n",
    "\n",
    "5. Utilizar el método predict() del modelo para hacer predicciones en nuevas instancias."
   ]
  },
  {
   "cell_type": "code",
   "execution_count": 33,
   "metadata": {},
   "outputs": [
    {
     "data": {
      "text/html": [
       "<div>\n",
       "<style scoped>\n",
       "    .dataframe tbody tr th:only-of-type {\n",
       "        vertical-align: middle;\n",
       "    }\n",
       "\n",
       "    .dataframe tbody tr th {\n",
       "        vertical-align: top;\n",
       "    }\n",
       "\n",
       "    .dataframe thead th {\n",
       "        text-align: right;\n",
       "    }\n",
       "</style>\n",
       "<table border=\"1\" class=\"dataframe\">\n",
       "  <thead>\n",
       "    <tr style=\"text-align: right;\">\n",
       "      <th></th>\n",
       "      <th>Intercept</th>\n",
       "      <th>MedInc</th>\n",
       "      <th>HouseAge</th>\n",
       "      <th>AveRooms</th>\n",
       "      <th>AveBedrms</th>\n",
       "      <th>Population</th>\n",
       "      <th>AveOccup</th>\n",
       "      <th>Latitude</th>\n",
       "      <th>Longitude</th>\n",
       "    </tr>\n",
       "  </thead>\n",
       "  <tbody>\n",
       "    <tr>\n",
       "      <th>0</th>\n",
       "      <td>1</td>\n",
       "      <td>8.3252</td>\n",
       "      <td>41.0</td>\n",
       "      <td>6.984127</td>\n",
       "      <td>1.023810</td>\n",
       "      <td>322.0</td>\n",
       "      <td>2.555556</td>\n",
       "      <td>37.88</td>\n",
       "      <td>-122.23</td>\n",
       "    </tr>\n",
       "    <tr>\n",
       "      <th>1</th>\n",
       "      <td>1</td>\n",
       "      <td>8.3014</td>\n",
       "      <td>21.0</td>\n",
       "      <td>6.238137</td>\n",
       "      <td>0.971880</td>\n",
       "      <td>2401.0</td>\n",
       "      <td>2.109842</td>\n",
       "      <td>37.86</td>\n",
       "      <td>-122.22</td>\n",
       "    </tr>\n",
       "    <tr>\n",
       "      <th>2</th>\n",
       "      <td>1</td>\n",
       "      <td>7.2574</td>\n",
       "      <td>52.0</td>\n",
       "      <td>8.288136</td>\n",
       "      <td>1.073446</td>\n",
       "      <td>496.0</td>\n",
       "      <td>2.802260</td>\n",
       "      <td>37.85</td>\n",
       "      <td>-122.24</td>\n",
       "    </tr>\n",
       "    <tr>\n",
       "      <th>3</th>\n",
       "      <td>1</td>\n",
       "      <td>5.6431</td>\n",
       "      <td>52.0</td>\n",
       "      <td>5.817352</td>\n",
       "      <td>1.073059</td>\n",
       "      <td>558.0</td>\n",
       "      <td>2.547945</td>\n",
       "      <td>37.85</td>\n",
       "      <td>-122.25</td>\n",
       "    </tr>\n",
       "    <tr>\n",
       "      <th>4</th>\n",
       "      <td>1</td>\n",
       "      <td>3.8462</td>\n",
       "      <td>52.0</td>\n",
       "      <td>6.281853</td>\n",
       "      <td>1.081081</td>\n",
       "      <td>565.0</td>\n",
       "      <td>2.181467</td>\n",
       "      <td>37.85</td>\n",
       "      <td>-122.25</td>\n",
       "    </tr>\n",
       "    <tr>\n",
       "      <th>...</th>\n",
       "      <td>...</td>\n",
       "      <td>...</td>\n",
       "      <td>...</td>\n",
       "      <td>...</td>\n",
       "      <td>...</td>\n",
       "      <td>...</td>\n",
       "      <td>...</td>\n",
       "      <td>...</td>\n",
       "      <td>...</td>\n",
       "    </tr>\n",
       "    <tr>\n",
       "      <th>20635</th>\n",
       "      <td>1</td>\n",
       "      <td>1.5603</td>\n",
       "      <td>25.0</td>\n",
       "      <td>5.045455</td>\n",
       "      <td>1.133333</td>\n",
       "      <td>845.0</td>\n",
       "      <td>2.560606</td>\n",
       "      <td>39.48</td>\n",
       "      <td>-121.09</td>\n",
       "    </tr>\n",
       "    <tr>\n",
       "      <th>20636</th>\n",
       "      <td>1</td>\n",
       "      <td>2.5568</td>\n",
       "      <td>18.0</td>\n",
       "      <td>6.114035</td>\n",
       "      <td>1.315789</td>\n",
       "      <td>356.0</td>\n",
       "      <td>3.122807</td>\n",
       "      <td>39.49</td>\n",
       "      <td>-121.21</td>\n",
       "    </tr>\n",
       "    <tr>\n",
       "      <th>20637</th>\n",
       "      <td>1</td>\n",
       "      <td>1.7000</td>\n",
       "      <td>17.0</td>\n",
       "      <td>5.205543</td>\n",
       "      <td>1.120092</td>\n",
       "      <td>1007.0</td>\n",
       "      <td>2.325635</td>\n",
       "      <td>39.43</td>\n",
       "      <td>-121.22</td>\n",
       "    </tr>\n",
       "    <tr>\n",
       "      <th>20638</th>\n",
       "      <td>1</td>\n",
       "      <td>1.8672</td>\n",
       "      <td>18.0</td>\n",
       "      <td>5.329513</td>\n",
       "      <td>1.171920</td>\n",
       "      <td>741.0</td>\n",
       "      <td>2.123209</td>\n",
       "      <td>39.43</td>\n",
       "      <td>-121.32</td>\n",
       "    </tr>\n",
       "    <tr>\n",
       "      <th>20639</th>\n",
       "      <td>1</td>\n",
       "      <td>2.3886</td>\n",
       "      <td>16.0</td>\n",
       "      <td>5.254717</td>\n",
       "      <td>1.162264</td>\n",
       "      <td>1387.0</td>\n",
       "      <td>2.616981</td>\n",
       "      <td>39.37</td>\n",
       "      <td>-121.24</td>\n",
       "    </tr>\n",
       "  </tbody>\n",
       "</table>\n",
       "<p>20640 rows × 9 columns</p>\n",
       "</div>"
      ],
      "text/plain": [
       "       Intercept  MedInc  HouseAge  AveRooms  AveBedrms  Population  AveOccup  \\\n",
       "0              1  8.3252      41.0  6.984127   1.023810       322.0  2.555556   \n",
       "1              1  8.3014      21.0  6.238137   0.971880      2401.0  2.109842   \n",
       "2              1  7.2574      52.0  8.288136   1.073446       496.0  2.802260   \n",
       "3              1  5.6431      52.0  5.817352   1.073059       558.0  2.547945   \n",
       "4              1  3.8462      52.0  6.281853   1.081081       565.0  2.181467   \n",
       "...          ...     ...       ...       ...        ...         ...       ...   \n",
       "20635          1  1.5603      25.0  5.045455   1.133333       845.0  2.560606   \n",
       "20636          1  2.5568      18.0  6.114035   1.315789       356.0  3.122807   \n",
       "20637          1  1.7000      17.0  5.205543   1.120092      1007.0  2.325635   \n",
       "20638          1  1.8672      18.0  5.329513   1.171920       741.0  2.123209   \n",
       "20639          1  2.3886      16.0  5.254717   1.162264      1387.0  2.616981   \n",
       "\n",
       "       Latitude  Longitude  \n",
       "0         37.88    -122.23  \n",
       "1         37.86    -122.22  \n",
       "2         37.85    -122.24  \n",
       "3         37.85    -122.25  \n",
       "4         37.85    -122.25  \n",
       "...         ...        ...  \n",
       "20635     39.48    -121.09  \n",
       "20636     39.49    -121.21  \n",
       "20637     39.43    -121.22  \n",
       "20638     39.43    -121.32  \n",
       "20639     39.37    -121.24  \n",
       "\n",
       "[20640 rows x 9 columns]"
      ]
     },
     "execution_count": 33,
     "metadata": {},
     "output_type": "execute_result"
    }
   ],
   "source": [
    "df_features = pd.DataFrame(housing.data, columns=housing.feature_names)\n",
    "df_target = pd.DataFrame(housing.target, columns=housing.target_names)\n",
    "df_features.insert(0, 'Intercept', 1)\n",
    "\n",
    "df_features"
   ]
  },
  {
   "cell_type": "code",
   "execution_count": 34,
   "metadata": {},
   "outputs": [],
   "source": [
    "tf.keras.backend.clear_session()"
   ]
  },
  {
   "cell_type": "code",
   "execution_count": 20,
   "metadata": {},
   "outputs": [],
   "source": [
    "model = keras.models.Sequential([\n",
    "    keras.layers.Dense(30, activation='relu', input_shape=X_train.shape[1:]),\n",
    "    keras.layers.Dense(1)\n",
    "])\n",
    "model.compile(loss='mean_squared_error', optimizer='sgd')"
   ]
  },
  {
   "cell_type": "code",
   "execution_count": 21,
   "metadata": {},
   "outputs": [
    {
     "name": "stdout",
     "output_type": "stream",
     "text": [
      "Model: \"sequential\"\n",
      "_________________________________________________________________\n",
      " Layer (type)                Output Shape              Param #   \n",
      "=================================================================\n",
      " dense (Dense)               (None, 30)                270       \n",
      "                                                                 \n",
      " dense_1 (Dense)             (None, 1)                 31        \n",
      "                                                                 \n",
      "=================================================================\n",
      "Total params: 301 (1.18 KB)\n",
      "Trainable params: 301 (1.18 KB)\n",
      "Non-trainable params: 0 (0.00 Byte)\n",
      "_________________________________________________________________\n"
     ]
    }
   ],
   "source": [
    "model.summary()"
   ]
  },
  {
   "cell_type": "code",
   "execution_count": 22,
   "metadata": {},
   "outputs": [],
   "source": [
    "model.compile(loss='mean_squared_error', \n",
    "              optimizer='adam')"
   ]
  },
  {
   "cell_type": "code",
   "execution_count": 23,
   "metadata": {},
   "outputs": [
    {
     "name": "stdout",
     "output_type": "stream",
     "text": [
      "Epoch 1/20\n",
      "363/363 [==============================] - 2s 6ms/step - loss: 2.0681 - val_loss: 29.5290\n",
      "Epoch 2/20\n",
      "363/363 [==============================] - 2s 5ms/step - loss: 0.8537 - val_loss: 28.1899\n",
      "Epoch 3/20\n",
      "363/363 [==============================] - 2s 5ms/step - loss: 0.8641 - val_loss: 23.2479\n",
      "Epoch 4/20\n",
      "363/363 [==============================] - 2s 5ms/step - loss: 0.7108 - val_loss: 38.2180\n",
      "Epoch 5/20\n",
      "363/363 [==============================] - 2s 5ms/step - loss: 0.7937 - val_loss: 36.4835\n",
      "Epoch 6/20\n",
      "363/363 [==============================] - 2s 5ms/step - loss: 0.8632 - val_loss: 20.6384\n",
      "Epoch 7/20\n",
      "363/363 [==============================] - 2s 5ms/step - loss: 0.7918 - val_loss: 13.6448\n",
      "Epoch 8/20\n",
      "363/363 [==============================] - 2s 5ms/step - loss: 0.7051 - val_loss: 22.1192\n",
      "Epoch 9/20\n",
      "363/363 [==============================] - 2s 5ms/step - loss: 0.7585 - val_loss: 8.3318\n",
      "Epoch 10/20\n",
      "363/363 [==============================] - 2s 5ms/step - loss: 0.6508 - val_loss: 10.7814\n",
      "Epoch 11/20\n",
      "363/363 [==============================] - 2s 5ms/step - loss: 0.6677 - val_loss: 4.8273\n",
      "Epoch 12/20\n",
      "363/363 [==============================] - 2s 5ms/step - loss: 0.6078 - val_loss: 3.3992\n",
      "Epoch 13/20\n",
      "363/363 [==============================] - 2s 5ms/step - loss: 0.5947 - val_loss: 2.0732\n",
      "Epoch 14/20\n",
      "363/363 [==============================] - 2s 5ms/step - loss: 0.6164 - val_loss: 0.4937\n",
      "Epoch 15/20\n",
      "363/363 [==============================] - 2s 5ms/step - loss: 0.5652 - val_loss: 0.6350\n",
      "Epoch 16/20\n",
      "363/363 [==============================] - 2s 5ms/step - loss: 0.5807 - val_loss: 1.0681\n",
      "Epoch 17/20\n",
      "363/363 [==============================] - 2s 5ms/step - loss: 0.5664 - val_loss: 1.7997\n",
      "Epoch 18/20\n",
      "363/363 [==============================] - 2s 6ms/step - loss: 0.5658 - val_loss: 2.6875\n",
      "Epoch 19/20\n",
      "363/363 [==============================] - 2s 5ms/step - loss: 0.5638 - val_loss: 2.9346\n",
      "Epoch 20/20\n",
      "363/363 [==============================] - 2s 5ms/step - loss: 0.5531 - val_loss: 0.7979\n"
     ]
    }
   ],
   "source": [
    "history = model.fit(X_train_scaled, y_train, epochs=20,\n",
    "                    validation_data=(X_valid_scaled, y_valid))"
   ]
  },
  {
   "cell_type": "code",
   "execution_count": 24,
   "metadata": {},
   "outputs": [
    {
     "data": {
      "text/html": [
       "<div>\n",
       "<style scoped>\n",
       "    .dataframe tbody tr th:only-of-type {\n",
       "        vertical-align: middle;\n",
       "    }\n",
       "\n",
       "    .dataframe tbody tr th {\n",
       "        vertical-align: top;\n",
       "    }\n",
       "\n",
       "    .dataframe thead th {\n",
       "        text-align: right;\n",
       "    }\n",
       "</style>\n",
       "<table border=\"1\" class=\"dataframe\">\n",
       "  <thead>\n",
       "    <tr style=\"text-align: right;\">\n",
       "      <th></th>\n",
       "      <th>loss</th>\n",
       "      <th>val_loss</th>\n",
       "    </tr>\n",
       "  </thead>\n",
       "  <tbody>\n",
       "    <tr>\n",
       "      <th>0</th>\n",
       "      <td>2.068096</td>\n",
       "      <td>29.529005</td>\n",
       "    </tr>\n",
       "    <tr>\n",
       "      <th>1</th>\n",
       "      <td>0.853662</td>\n",
       "      <td>28.189859</td>\n",
       "    </tr>\n",
       "    <tr>\n",
       "      <th>2</th>\n",
       "      <td>0.864117</td>\n",
       "      <td>23.247894</td>\n",
       "    </tr>\n",
       "    <tr>\n",
       "      <th>3</th>\n",
       "      <td>0.710817</td>\n",
       "      <td>38.218029</td>\n",
       "    </tr>\n",
       "    <tr>\n",
       "      <th>4</th>\n",
       "      <td>0.793692</td>\n",
       "      <td>36.483463</td>\n",
       "    </tr>\n",
       "    <tr>\n",
       "      <th>5</th>\n",
       "      <td>0.863225</td>\n",
       "      <td>20.638391</td>\n",
       "    </tr>\n",
       "    <tr>\n",
       "      <th>6</th>\n",
       "      <td>0.791812</td>\n",
       "      <td>13.644838</td>\n",
       "    </tr>\n",
       "    <tr>\n",
       "      <th>7</th>\n",
       "      <td>0.705058</td>\n",
       "      <td>22.119240</td>\n",
       "    </tr>\n",
       "    <tr>\n",
       "      <th>8</th>\n",
       "      <td>0.758499</td>\n",
       "      <td>8.331774</td>\n",
       "    </tr>\n",
       "    <tr>\n",
       "      <th>9</th>\n",
       "      <td>0.650849</td>\n",
       "      <td>10.781373</td>\n",
       "    </tr>\n",
       "    <tr>\n",
       "      <th>10</th>\n",
       "      <td>0.667667</td>\n",
       "      <td>4.827285</td>\n",
       "    </tr>\n",
       "    <tr>\n",
       "      <th>11</th>\n",
       "      <td>0.607813</td>\n",
       "      <td>3.399247</td>\n",
       "    </tr>\n",
       "    <tr>\n",
       "      <th>12</th>\n",
       "      <td>0.594748</td>\n",
       "      <td>2.073167</td>\n",
       "    </tr>\n",
       "    <tr>\n",
       "      <th>13</th>\n",
       "      <td>0.616406</td>\n",
       "      <td>0.493705</td>\n",
       "    </tr>\n",
       "    <tr>\n",
       "      <th>14</th>\n",
       "      <td>0.565233</td>\n",
       "      <td>0.635032</td>\n",
       "    </tr>\n",
       "    <tr>\n",
       "      <th>15</th>\n",
       "      <td>0.580669</td>\n",
       "      <td>1.068106</td>\n",
       "    </tr>\n",
       "    <tr>\n",
       "      <th>16</th>\n",
       "      <td>0.566420</td>\n",
       "      <td>1.799682</td>\n",
       "    </tr>\n",
       "    <tr>\n",
       "      <th>17</th>\n",
       "      <td>0.565791</td>\n",
       "      <td>2.687465</td>\n",
       "    </tr>\n",
       "    <tr>\n",
       "      <th>18</th>\n",
       "      <td>0.563823</td>\n",
       "      <td>2.934550</td>\n",
       "    </tr>\n",
       "    <tr>\n",
       "      <th>19</th>\n",
       "      <td>0.553063</td>\n",
       "      <td>0.797852</td>\n",
       "    </tr>\n",
       "  </tbody>\n",
       "</table>\n",
       "</div>"
      ],
      "text/plain": [
       "        loss   val_loss\n",
       "0   2.068096  29.529005\n",
       "1   0.853662  28.189859\n",
       "2   0.864117  23.247894\n",
       "3   0.710817  38.218029\n",
       "4   0.793692  36.483463\n",
       "5   0.863225  20.638391\n",
       "6   0.791812  13.644838\n",
       "7   0.705058  22.119240\n",
       "8   0.758499   8.331774\n",
       "9   0.650849  10.781373\n",
       "10  0.667667   4.827285\n",
       "11  0.607813   3.399247\n",
       "12  0.594748   2.073167\n",
       "13  0.616406   0.493705\n",
       "14  0.565233   0.635032\n",
       "15  0.580669   1.068106\n",
       "16  0.566420   1.799682\n",
       "17  0.565791   2.687465\n",
       "18  0.563823   2.934550\n",
       "19  0.553063   0.797852"
      ]
     },
     "execution_count": 24,
     "metadata": {},
     "output_type": "execute_result"
    }
   ],
   "source": [
    "learning_curves = pd.DataFrame(history.history)\n",
    "learning_curves"
   ]
  },
  {
   "cell_type": "code",
   "execution_count": 25,
   "metadata": {},
   "outputs": [
    {
     "data": {
      "text/plain": [
       "<Axes: >"
      ]
     },
     "execution_count": 25,
     "metadata": {},
     "output_type": "execute_result"
    },
    {
     "data": {
      "image/png": "[encoded data removed]",
      "text/plain": [
       "<Figure size 640x480 with 1 Axes>"
      ]
     },
     "metadata": {},
     "output_type": "display_data"
    }
   ],
   "source": [
    "learning_curves.plot()"
   ]
  },
  {
   "cell_type": "code",
   "execution_count": null,
   "metadata": {},
   "outputs": [],
   "source": [
    "X_test_scaled = scaler.transform(X_test)\n",
    "model.evaluate(X_test_scaled, y_test)"
   ]
  },
  {
   "cell_type": "code",
   "execution_count": null,
   "metadata": {},
   "outputs": [],
   "source": [
    "X_new = X_test[:3]\n",
    "y_proba = model.predict(X_new)\n",
    "y_proba.round(2)"
   ]
  },
  {
   "cell_type": "markdown",
   "metadata": {},
   "source": [
    "#### **E2.12: Save model to H5 extension**  \n",
    "- Keras utiliza el formato HDF5 para guardar tanto la arquitectura del modelo (incluidos los hiperparámetros de cada capa) como los valores de todos los parámetros del modelo para cada capa (por ejemplo, pesos de conexión y sesgos). También guarda el optimizador (incluidos sus hiperparámetros y cualquier estado que pueda tener)  \n",
    "  \n",
    "- Por lo general, se tendrá un script que entrena un modelo y lo guarda, y uno o más scripts (o servicios web) que cargan el modelo y l outilizan para hacer predicciones.\n",
    "\n",
    "1. Para la red neuronal profunda para regresión que se realizó para en el conjunto de datos California Housing, guardar el modelo empleando `model.save(\"my_keras_mode.h5\")`.  \n",
    "\n",
    "2. Cargar el modelo que se guardo mediante\n",
    "\t`keras.models.load_model(\"my_keras_model.h5\")` y realizar algunas predicciones"
   ]
  },
  {
   "cell_type": "code",
   "execution_count": 27,
   "metadata": {},
   "outputs": [
    {
     "name": "stderr",
     "output_type": "stream",
     "text": [
      "/var/folders/fd/8p6y3p9d67l9ms3hzwcf97vm0000gn/T/ipykernel_56770/412872426.py:1: UserWarning: You are saving your model as an HDF5 file via `model.save()`. This file format is considered legacy. We recommend using instead the native Keras format, e.g. `model.save('my_model.keras')`.\n",
      "  save_model(model, \"ModelCA.h5\")\n"
     ]
    }
   ],
   "source": [
    "save_model(model, \"ModelCA.h5\")"
   ]
  },
  {
   "cell_type": "markdown",
   "metadata": {},
   "source": [
    "#### **Ejercicio 2.13:** Adjust Hyperparameters\n",
    "- Mejorar la implementación realizada en el Ejercicio 2.10 mediante el ajuste de los HYP para obtener un mejor valor en la función pde pérdida que esta dado por el MSE.  \n",
    "  \n",
    "- Cambiar la cantidad de capas ocultas, la cantidad den uronas por capa, el itpo de funcion de activación a utilizar en cada capa."
   ]
  },
  {
   "cell_type": "code",
   "execution_count": 67,
   "metadata": {},
   "outputs": [
    {
     "name": "stderr",
     "output_type": "stream",
     "text": [
      "WARNING:absl:At this time, the v2.11+ optimizer `tf.keras.optimizers.Adam` runs slowly on M1/M2 Macs, please use the legacy Keras optimizer instead, located at `tf.keras.optimizers.legacy.Adam`.\n",
      "WARNING:absl:`lr` is deprecated in Keras optimizer, please use `learning_rate` or use the legacy optimizer, e.g.,tf.keras.optimizers.legacy.Adam.\n"
     ]
    }
   ],
   "source": [
    "tf.keras.backend.clear_session()\n",
    "model = keras.models.Sequential([\n",
    "    keras.layers.Dense(50, activation='LeakyReLU', input_shape=X_train.shape[1:]),\n",
    "    keras.layers.Dense(100, activation='LeakyReLU', input_shape=X_train.shape[1:]),\n",
    "    keras.layers.Dense(150, activation='tanh', input_shape=X_train.shape[1:]),\n",
    "    keras.layers.Dense(200, activation='tanh', input_shape=X_train.shape[1:]),\n",
    "    keras.layers.Dense(1)\n",
    "])\n",
    "\n",
    "model.compile(loss='mean_squared_error',\n",
    "              optimizer=keras.optimizers.Adam(lr=0.001))"
   ]
  },
  {
   "cell_type": "code",
   "execution_count": 68,
   "metadata": {},
   "outputs": [
    {
     "name": "stdout",
     "output_type": "stream",
     "text": [
      "Epoch 1/70\n",
      "  7/182 [>.............................] - ETA: 1s - loss: 2.9039  "
     ]
    },
    {
     "name": "stderr",
     "output_type": "stream",
     "text": [
      "2024-03-13 17:31:13.361143: E tensorflow/core/grappler/optimizers/meta_optimizer.cc:961] model_pruner failed: INVALID_ARGUMENT: Graph does not contain terminal node Adam/AssignAddVariableOp.\n"
     ]
    },
    {
     "name": "stdout",
     "output_type": "stream",
     "text": [
      "182/182 [==============================] - 2s 9ms/step - loss: 0.6018 - val_loss: 0.3650\n",
      "Epoch 2/70\n",
      "182/182 [==============================] - 1s 8ms/step - loss: 0.3836 - val_loss: 0.3643\n",
      "Epoch 3/70\n",
      "182/182 [==============================] - 1s 8ms/step - loss: 0.3650 - val_loss: 0.3279\n",
      "Epoch 4/70\n",
      "182/182 [==============================] - 2s 8ms/step - loss: 0.3558 - val_loss: 0.3636\n",
      "Epoch 5/70\n",
      "182/182 [==============================] - 1s 8ms/step - loss: 0.3425 - val_loss: 0.3194\n",
      "Epoch 6/70\n",
      "182/182 [==============================] - 1s 8ms/step - loss: 0.3314 - val_loss: 0.3117\n",
      "Epoch 7/70\n",
      "182/182 [==============================] - 1s 8ms/step - loss: 0.3334 - val_loss: 0.3100\n",
      "Epoch 8/70\n",
      "182/182 [==============================] - 2s 9ms/step - loss: 0.3279 - val_loss: 0.3139\n",
      "Epoch 9/70\n",
      "182/182 [==============================] - 1s 8ms/step - loss: 0.3242 - val_loss: 0.2976\n",
      "Epoch 10/70\n",
      "182/182 [==============================] - 1s 7ms/step - loss: 0.3204 - val_loss: 0.3005\n",
      "Epoch 11/70\n",
      "182/182 [==============================] - 1s 7ms/step - loss: 0.3092 - val_loss: 0.3000\n",
      "Epoch 12/70\n",
      "182/182 [==============================] - 1s 7ms/step - loss: 0.3094 - val_loss: 0.3149\n",
      "Epoch 13/70\n",
      "182/182 [==============================] - 1s 7ms/step - loss: 0.3064 - val_loss: 0.3078\n",
      "Epoch 14/70\n",
      "182/182 [==============================] - 1s 7ms/step - loss: 0.2996 - val_loss: 0.2880\n",
      "Epoch 15/70\n",
      "182/182 [==============================] - 1s 7ms/step - loss: 0.3013 - val_loss: 0.2877\n",
      "Epoch 16/70\n",
      "182/182 [==============================] - 1s 7ms/step - loss: 0.2953 - val_loss: 0.2838\n",
      "Epoch 17/70\n",
      "182/182 [==============================] - 1s 7ms/step - loss: 0.2910 - val_loss: 0.2879\n",
      "Epoch 18/70\n",
      "182/182 [==============================] - 1s 7ms/step - loss: 0.2923 - val_loss: 0.2858\n",
      "Epoch 19/70\n",
      "182/182 [==============================] - 1s 8ms/step - loss: 0.2899 - val_loss: 0.2811\n",
      "Epoch 20/70\n",
      "182/182 [==============================] - 1s 7ms/step - loss: 0.2853 - val_loss: 0.2746\n",
      "Epoch 21/70\n",
      "182/182 [==============================] - 1s 7ms/step - loss: 0.2808 - val_loss: 0.2803\n",
      "Epoch 22/70\n",
      "182/182 [==============================] - 1s 8ms/step - loss: 0.2808 - val_loss: 0.2802\n",
      "Epoch 23/70\n",
      "182/182 [==============================] - 2s 8ms/step - loss: 0.2824 - val_loss: 0.2763\n",
      "Epoch 24/70\n",
      "182/182 [==============================] - 2s 9ms/step - loss: 0.2782 - val_loss: 0.2813\n",
      "Epoch 25/70\n",
      "182/182 [==============================] - 2s 8ms/step - loss: 0.2744 - val_loss: 0.2790\n",
      "Epoch 26/70\n",
      "182/182 [==============================] - 1s 8ms/step - loss: 0.2721 - val_loss: 0.2713\n",
      "Epoch 27/70\n",
      "182/182 [==============================] - 1s 8ms/step - loss: 0.2730 - val_loss: 0.2601\n",
      "Epoch 28/70\n",
      "182/182 [==============================] - 1s 8ms/step - loss: 0.2678 - val_loss: 0.2773\n",
      "Epoch 29/70\n",
      "182/182 [==============================] - 1s 8ms/step - loss: 0.2697 - val_loss: 0.2654\n",
      "Epoch 30/70\n",
      "182/182 [==============================] - 1s 8ms/step - loss: 0.2656 - val_loss: 0.2758\n",
      "Epoch 31/70\n",
      "182/182 [==============================] - 1s 8ms/step - loss: 0.2648 - val_loss: 0.2648\n",
      "Epoch 32/70\n",
      "182/182 [==============================] - 1s 8ms/step - loss: 0.2620 - val_loss: 0.2977\n",
      "Epoch 33/70\n",
      "182/182 [==============================] - 1s 8ms/step - loss: 0.2638 - val_loss: 0.2737\n",
      "Epoch 34/70\n",
      "182/182 [==============================] - 1s 8ms/step - loss: 0.2613 - val_loss: 0.2753\n",
      "Epoch 35/70\n",
      "182/182 [==============================] - 1s 8ms/step - loss: 0.2594 - val_loss: 0.2588\n",
      "Epoch 36/70\n",
      "182/182 [==============================] - 1s 8ms/step - loss: 0.2607 - val_loss: 0.2709\n",
      "Epoch 37/70\n",
      "182/182 [==============================] - 1s 8ms/step - loss: 0.2580 - val_loss: 0.2817\n",
      "Epoch 38/70\n",
      "182/182 [==============================] - 1s 8ms/step - loss: 0.2553 - val_loss: 0.2819\n",
      "Epoch 39/70\n",
      "182/182 [==============================] - 1s 8ms/step - loss: 0.2537 - val_loss: 0.3117\n",
      "Epoch 40/70\n",
      "182/182 [==============================] - 1s 8ms/step - loss: 0.2569 - val_loss: 0.2639\n",
      "Epoch 41/70\n",
      "182/182 [==============================] - 1s 8ms/step - loss: 0.2592 - val_loss: 0.2632\n",
      "Epoch 42/70\n",
      "182/182 [==============================] - 1s 8ms/step - loss: 0.2553 - val_loss: 0.2614\n",
      "Epoch 43/70\n",
      "182/182 [==============================] - 1s 8ms/step - loss: 0.2588 - val_loss: 0.2660\n",
      "Epoch 44/70\n",
      "182/182 [==============================] - 1s 8ms/step - loss: 0.2502 - val_loss: 0.2716\n",
      "Epoch 45/70\n",
      "182/182 [==============================] - 1s 8ms/step - loss: 0.2537 - val_loss: 0.2661\n",
      "Epoch 46/70\n",
      "182/182 [==============================] - 1s 8ms/step - loss: 0.2479 - val_loss: 0.2696\n",
      "Epoch 47/70\n",
      "182/182 [==============================] - 1s 8ms/step - loss: 0.2521 - val_loss: 0.2554\n",
      "Epoch 48/70\n",
      "182/182 [==============================] - 1s 8ms/step - loss: 0.2510 - val_loss: 0.2562\n",
      "Epoch 49/70\n",
      "182/182 [==============================] - 1s 8ms/step - loss: 0.2468 - val_loss: 0.2702\n",
      "Epoch 50/70\n",
      "182/182 [==============================] - 1s 8ms/step - loss: 0.2483 - val_loss: 0.2678\n",
      "Epoch 51/70\n",
      "182/182 [==============================] - 1s 8ms/step - loss: 0.2501 - val_loss: 0.2686\n",
      "Epoch 52/70\n",
      "182/182 [==============================] - 1s 8ms/step - loss: 0.2438 - val_loss: 0.2689\n",
      "Epoch 53/70\n",
      "182/182 [==============================] - 1s 8ms/step - loss: 0.2423 - val_loss: 0.2554\n",
      "Epoch 54/70\n",
      "182/182 [==============================] - 1s 8ms/step - loss: 0.2426 - val_loss: 0.2631\n",
      "Epoch 55/70\n",
      "182/182 [==============================] - 1s 8ms/step - loss: 0.2434 - val_loss: 0.2763\n",
      "Epoch 56/70\n",
      "182/182 [==============================] - 1s 8ms/step - loss: 0.2457 - val_loss: 0.2691\n",
      "Epoch 57/70\n",
      "182/182 [==============================] - 1s 8ms/step - loss: 0.2406 - val_loss: 0.2613\n",
      "Epoch 58/70\n",
      "182/182 [==============================] - 1s 8ms/step - loss: 0.2415 - val_loss: 0.2750\n",
      "Epoch 59/70\n",
      "182/182 [==============================] - 1s 8ms/step - loss: 0.2405 - val_loss: 0.2714\n",
      "Epoch 60/70\n",
      "182/182 [==============================] - 1s 8ms/step - loss: 0.2375 - val_loss: 0.2660\n",
      "Epoch 61/70\n",
      "182/182 [==============================] - 1s 8ms/step - loss: 0.2376 - val_loss: 0.2595\n",
      "Epoch 62/70\n",
      "182/182 [==============================] - 1s 8ms/step - loss: 0.2324 - val_loss: 0.2694\n",
      "Epoch 63/70\n",
      "182/182 [==============================] - 1s 8ms/step - loss: 0.2352 - val_loss: 0.2631\n",
      "Epoch 64/70\n",
      "182/182 [==============================] - 1s 8ms/step - loss: 0.2321 - val_loss: 0.2593\n",
      "Epoch 65/70\n",
      "182/182 [==============================] - 1s 8ms/step - loss: 0.2338 - val_loss: 0.2557\n",
      "Epoch 66/70\n",
      "182/182 [==============================] - 1s 8ms/step - loss: 0.2300 - val_loss: 0.2680\n",
      "Epoch 67/70\n",
      "182/182 [==============================] - 1s 8ms/step - loss: 0.2343 - val_loss: 0.2636\n",
      "Epoch 68/70\n",
      "182/182 [==============================] - 1s 8ms/step - loss: 0.2335 - val_loss: 0.2597\n",
      "Epoch 69/70\n",
      "182/182 [==============================] - 1s 8ms/step - loss: 0.2295 - val_loss: 0.2592\n",
      "Epoch 70/70\n",
      "182/182 [==============================] - 1s 8ms/step - loss: 0.2278 - val_loss: 0.2532\n"
     ]
    }
   ],
   "source": [
    "history = model.fit(X_train_scaled, y_train, epochs=70,\n",
    "                    validation_data=(X_valid_scaled, y_valid),\n",
    "                    batch_size=64)"
   ]
  },
  {
   "cell_type": "code",
   "execution_count": 69,
   "metadata": {},
   "outputs": [
    {
     "data": {
      "text/plain": [
       "<Axes: >"
      ]
     },
     "execution_count": 69,
     "metadata": {},
     "output_type": "execute_result"
    },
    {
     "data": {
      "image/png": "[encoded data removed]",
      "text/plain": [
       "<Figure size 640x480 with 1 Axes>"
      ]
     },
     "metadata": {},
     "output_type": "display_data"
    }
   ],
   "source": [
    "learning_curves = pd.DataFrame(history.history)\n",
    "learning_curves.plot()"
   ]
  },
  {
   "cell_type": "code",
   "execution_count": 70,
   "metadata": {},
   "outputs": [
    {
     "name": "stdout",
     "output_type": "stream",
     "text": [
      "162/162 [==============================] - 1s 3ms/step - loss: 0.2582\n"
     ]
    },
    {
     "data": {
      "text/plain": [
       "0.2582196593284607"
      ]
     },
     "execution_count": 70,
     "metadata": {},
     "output_type": "execute_result"
    }
   ],
   "source": [
    "X_test_scaled = scaler.transform(X_test)\n",
    "model.evaluate(X_test_scaled, y_test)"
   ]
  },
  {
   "cell_type": "code",
   "execution_count": 71,
   "metadata": {},
   "outputs": [
    {
     "name": "stdout",
     "output_type": "stream",
     "text": [
      "1/1 [==============================] - 0s 56ms/step\n"
     ]
    },
    {
     "data": {
      "text/plain": [
       "array([[3.67],\n",
       "       [3.74],\n",
       "       [3.78]], dtype=float32)"
      ]
     },
     "execution_count": 71,
     "metadata": {},
     "output_type": "execute_result"
    }
   ],
   "source": [
    "X_new = X_test[:3]\n",
    "y_proba = model.predict(X_new)\n",
    "y_proba.round(2)"
   ]
  },
  {
   "cell_type": "code",
   "execution_count": 72,
   "metadata": {},
   "outputs": [
    {
     "name": "stderr",
     "output_type": "stream",
     "text": [
      "/var/folders/fd/8p6y3p9d67l9ms3hzwcf97vm0000gn/T/ipykernel_56770/4241093735.py:1: UserWarning: You are saving your model as an HDF5 file via `model.save()`. This file format is considered legacy. We recommend using instead the native Keras format, e.g. `model.save('my_model.keras')`.\n",
      "  save_model(model, \"ModelCAV5.h5\")\n"
     ]
    }
   ],
   "source": [
    "save_model(model, \"ModelCAV5.h5\")"
   ]
  },
  {
   "cell_type": "code",
   "execution_count": null,
   "metadata": {},
   "outputs": [],
   "source": [
    "load_model()"
   ]
  }
 ],
 "metadata": {
  "kernelspec": {
   "display_name": "tensorflow",
   "language": "python",
   "name": "python3"
  },
  "language_info": {
   "codemirror_mode": {
    "name": "ipython",
    "version": 3
   },
   "file_extension": ".py",
   "mimetype": "text/x-python",
   "name": "python",
   "nbconvert_exporter": "python",
   "pygments_lexer": "ipython3",
   "version": "3.11.7"
  }
 },
 "nbformat": 4,
 "nbformat_minor": 2
}
