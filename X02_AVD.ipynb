{
 "cells": [
  {
   "cell_type": "markdown",
   "metadata": {},
   "source": [
    "#### Aprendizaje Profundo - 2do Examen Parcial \n",
    "*Daniel Agraz Vallejo*"
   ]
  },
  {
   "cell_type": "code",
   "execution_count": 27,
   "metadata": {},
   "outputs": [],
   "source": [
    "import numpy as np\n",
    "import pandas as pd\n",
    "import seaborn as sns\n",
    "import tensorflow as tf\n",
    "from sklearn import datasets\n",
    "import matplotlib.pyplot as plt\n",
    "from sklearn.preprocessing import LabelEncoder\n",
    "from sklearn.preprocessing import StandardScaler\n",
    "from sklearn.model_selection import train_test_split"
   ]
  },
  {
   "cell_type": "markdown",
   "metadata": {},
   "source": [
    "### 1. **[80%]** Implementar una red neuronal profunda (DNN) para clasificar el conjunto de datos de flores Iris. \n",
    "\n",
    "El conjunto de datos Iris contiene la longitud y el ancho del sépalo y pétalo (4 características) de 150 flores (instancias) de tres especies diferentes: Setosa, Versicolor y Virginica.  \n",
    "\n",
    "a. Utilizar el modelo secuencial `tf.keras.Sequential()`.\n",
    "  \n",
    "b. Definir claramente las diferentes fases: carga y distribución del conjunto de datos, creación del modelo, compilación, entrenamiento y evaluación del modelo, desplegar la arquitectura final con el método `summary()`.  \n",
    "\n",
    "c. Graficar las curvas de aprendizaje, considerando la información de la pérdida y la precisión que se calcularon al final de cada época en el conjunto de entrenamiento y en el conjunto de validación.  \n",
    "\n",
    "d. Realizar la evaluación de su modelo empleando el método evaluate().  \n",
    "\n",
    "e. Realizar pruebas del modelo ajustado, deberá desplegar el ejemplo, la etiqueta real, la predicción"
   ]
  },
  {
   "cell_type": "markdown",
   "metadata": {},
   "source": [
    "#### **b. Fases del Modelo**"
   ]
  },
  {
   "cell_type": "markdown",
   "metadata": {},
   "source": [
    "##### 1) Carga y Distribución del Conjunto de Datos"
   ]
  },
  {
   "cell_type": "code",
   "execution_count": 53,
   "metadata": {},
   "outputs": [],
   "source": [
    "iris = datasets.load_iris()\n",
    "X = iris.data[:,:]\n",
    "y = np.reshape(iris.target, newshape=(-1,1))"
   ]
  },
  {
   "cell_type": "code",
   "execution_count": 10,
   "metadata": {},
   "outputs": [
    {
     "name": "stdout",
     "output_type": "stream",
     "text": [
      "X SHAPE: (150, 4)\n",
      "y SHAPE: (150, 1)\n"
     ]
    }
   ],
   "source": [
    "print(f\"X SHAPE: {X.shape}\\ny SHAPE: {y.shape}\")"
   ]
  },
  {
   "cell_type": "code",
   "execution_count": 54,
   "metadata": {},
   "outputs": [
    {
     "name": "stdout",
     "output_type": "stream",
     "text": [
      "X_train_full: (112, 4) | y_train_full: (112, 1)\n",
      "X_test: (38, 4) | y_test: (38, 1)\n"
     ]
    }
   ],
   "source": [
    "X_train_full, X_test, y_train_full, y_test = train_test_split(\n",
    "    X, y, random_state=42)\n",
    "print(f\"X_train_full: {X_train_full.shape} | y_train_full: {y_train_full.shape}\")\n",
    "print(f\"X_test: {X_test.shape} | y_test: {y_test.shape}\")"
   ]
  },
  {
   "cell_type": "code",
   "execution_count": 55,
   "metadata": {},
   "outputs": [
    {
     "name": "stdout",
     "output_type": "stream",
     "text": [
      "X_train: (84, 4) | y_train: (84, 1)\n",
      "X_valid: (28, 4) | y_valid: (28, 1)\n"
     ]
    }
   ],
   "source": [
    "X_train, X_valid, y_train, y_valid = train_test_split(\n",
    "    X_train_full, y_train_full, random_state=42)\n",
    "print(f\"X_train: {X_train.shape} | y_train: {y_train.shape}\")\n",
    "print(f\"X_valid: {X_valid.shape} | y_valid: {y_valid.shape}\")"
   ]
  },
  {
   "cell_type": "code",
   "execution_count": 5,
   "metadata": {},
   "outputs": [],
   "source": [
    "scaler = StandardScaler()\n",
    "X_train_scaled = scaler.fit_transform(X_train)\n",
    "X_valid_scaled = scaler.fit_transform(X_valid)\n",
    "X_test_scaled = scaler.fit_transform(X_test)"
   ]
  },
  {
   "cell_type": "code",
   "execution_count": 56,
   "metadata": {},
   "outputs": [
    {
     "data": {
      "text/plain": [
       "(array([5.2, 2.7, 3.9, 1.4]), array([1]))"
      ]
     },
     "execution_count": 56,
     "metadata": {},
     "output_type": "execute_result"
    }
   ],
   "source": [
    "X_train[0,:], y_train[0]"
   ]
  },
  {
   "cell_type": "markdown",
   "metadata": {},
   "source": [
    "**Label Encoder for DNN Output**"
   ]
  },
  {
   "cell_type": "code",
   "execution_count": 57,
   "metadata": {},
   "outputs": [
    {
     "data": {
      "text/plain": [
       "array([1, 2, 0, 0, 1, 2, 0, 2, 0, 1, 2, 0, 1, 0, 1, 2, 2, 2, 2, 1, 1, 0,\n",
       "       0, 2, 0, 0, 2, 0, 0, 2, 0, 0, 2, 1, 0, 1, 1, 2, 2, 0, 1, 0, 2, 1,\n",
       "       0, 1, 1, 0, 2, 2, 0, 1, 0, 2, 2, 1, 2, 2, 2, 0, 0, 2, 1, 2, 2, 0,\n",
       "       1, 1, 2, 0, 1, 1, 1, 0, 1, 2, 0, 2, 1, 0, 1, 2, 1, 1])"
      ]
     },
     "execution_count": 57,
     "metadata": {},
     "output_type": "execute_result"
    }
   ],
   "source": [
    "encoder =  LabelEncoder()\n",
    "y_train_hot = encoder.fit_transform(np.ravel(y_train))\n",
    "y_valid_hot = encoder.transform(np.ravel(y_valid))\n",
    "y_test_hot = encoder.transform(np.ravel(y_test))\n",
    "y_train_hot"
   ]
  },
  {
   "cell_type": "code",
   "execution_count": 58,
   "metadata": {},
   "outputs": [
    {
     "data": {
      "text/plain": [
       "array([[False,  True, False],\n",
       "       [False, False,  True],\n",
       "       [ True, False, False],\n",
       "       [ True, False, False],\n",
       "       [False,  True, False],\n",
       "       [False, False,  True],\n",
       "       [ True, False, False],\n",
       "       [False, False,  True],\n",
       "       [ True, False, False],\n",
       "       [False,  True, False],\n",
       "       [False, False,  True],\n",
       "       [ True, False, False],\n",
       "       [False,  True, False],\n",
       "       [ True, False, False],\n",
       "       [False,  True, False],\n",
       "       [False, False,  True],\n",
       "       [False, False,  True],\n",
       "       [False, False,  True],\n",
       "       [False, False,  True],\n",
       "       [False,  True, False],\n",
       "       [False,  True, False],\n",
       "       [ True, False, False],\n",
       "       [ True, False, False],\n",
       "       [False, False,  True],\n",
       "       [ True, False, False],\n",
       "       [ True, False, False],\n",
       "       [False, False,  True],\n",
       "       [ True, False, False],\n",
       "       [ True, False, False],\n",
       "       [False, False,  True],\n",
       "       [ True, False, False],\n",
       "       [ True, False, False],\n",
       "       [False, False,  True],\n",
       "       [False,  True, False],\n",
       "       [ True, False, False],\n",
       "       [False,  True, False],\n",
       "       [False,  True, False],\n",
       "       [False, False,  True],\n",
       "       [False, False,  True],\n",
       "       [ True, False, False],\n",
       "       [False,  True, False],\n",
       "       [ True, False, False],\n",
       "       [False, False,  True],\n",
       "       [False,  True, False],\n",
       "       [ True, False, False],\n",
       "       [False,  True, False],\n",
       "       [False,  True, False],\n",
       "       [ True, False, False],\n",
       "       [False, False,  True],\n",
       "       [False, False,  True],\n",
       "       [ True, False, False],\n",
       "       [False,  True, False],\n",
       "       [ True, False, False],\n",
       "       [False, False,  True],\n",
       "       [False, False,  True],\n",
       "       [False,  True, False],\n",
       "       [False, False,  True],\n",
       "       [False, False,  True],\n",
       "       [False, False,  True],\n",
       "       [ True, False, False],\n",
       "       [ True, False, False],\n",
       "       [False, False,  True],\n",
       "       [False,  True, False],\n",
       "       [False, False,  True],\n",
       "       [False, False,  True],\n",
       "       [ True, False, False],\n",
       "       [False,  True, False],\n",
       "       [False,  True, False],\n",
       "       [False, False,  True],\n",
       "       [ True, False, False],\n",
       "       [False,  True, False],\n",
       "       [False,  True, False],\n",
       "       [False,  True, False],\n",
       "       [ True, False, False],\n",
       "       [False,  True, False],\n",
       "       [False, False,  True],\n",
       "       [ True, False, False],\n",
       "       [False, False,  True],\n",
       "       [False,  True, False],\n",
       "       [ True, False, False],\n",
       "       [False,  True, False],\n",
       "       [False, False,  True],\n",
       "       [False,  True, False],\n",
       "       [False,  True, False]])"
      ]
     },
     "execution_count": 58,
     "metadata": {},
     "output_type": "execute_result"
    }
   ],
   "source": [
    "y_train = pd.get_dummies(y_train_hot).values\n",
    "y_valid = pd.get_dummies(y_valid_hot).values\n",
    "y_test = pd.get_dummies(y_test_hot).values\n",
    "y_train"
   ]
  },
  {
   "cell_type": "markdown",
   "metadata": {},
   "source": [
    "##### 2) Creación del Modelo"
   ]
  },
  {
   "cell_type": "code",
   "execution_count": 9,
   "metadata": {},
   "outputs": [],
   "source": [
    "tf.keras.backend.clear_session()"
   ]
  },
  {
   "cell_type": "markdown",
   "metadata": {},
   "source": [
    "**a. Utilizar el modelo Sequential de Tensorflow**"
   ]
  },
  {
   "cell_type": "code",
   "execution_count": 14,
   "metadata": {},
   "outputs": [],
   "source": [
    "tf.random.set_seed(42)\n",
    "model = tf.keras.Sequential([\n",
    "    tf.keras.layers.Dense(100, activation=\"tanh\"),\n",
    "    tf.keras.layers.Dense(3, activation=\"softmax\")\n",
    "])\n",
    "model.build((None,4))"
   ]
  },
  {
   "cell_type": "code",
   "execution_count": 15,
   "metadata": {},
   "outputs": [
    {
     "name": "stdout",
     "output_type": "stream",
     "text": [
      "Model: \"sequential_2\"\n",
      "_________________________________________________________________\n",
      " Layer (type)                Output Shape              Param #   \n",
      "=================================================================\n",
      " dense_4 (Dense)             (None, 100)               500       \n",
      "                                                                 \n",
      " dense_5 (Dense)             (None, 3)                 303       \n",
      "                                                                 \n",
      "=================================================================\n",
      "Total params: 803 (3.14 KB)\n",
      "Trainable params: 803 (3.14 KB)\n",
      "Non-trainable params: 0 (0.00 Byte)\n",
      "_________________________________________________________________\n"
     ]
    }
   ],
   "source": [
    "model.summary()"
   ]
  },
  {
   "cell_type": "markdown",
   "metadata": {},
   "source": [
    "##### 3) Compilación de Modelo"
   ]
  },
  {
   "cell_type": "code",
   "execution_count": 61,
   "metadata": {},
   "outputs": [],
   "source": [
    "model.compile(loss=\"categorical_crossentropy\",\n",
    "              optimizer=\"sgd\",\n",
    "              metrics=[\"accuracy\"])"
   ]
  },
  {
   "cell_type": "code",
   "execution_count": 62,
   "metadata": {},
   "outputs": [
    {
     "name": "stdout",
     "output_type": "stream",
     "text": [
      "Epoch 1/100\n",
      "2/2 [==============================] - 0s 145ms/step - loss: 0.5162 - accuracy: 0.9167 - val_loss: 0.5590 - val_accuracy: 0.9643\n",
      "Epoch 2/100\n",
      "2/2 [==============================] - 0s 37ms/step - loss: 0.5273 - accuracy: 0.8095 - val_loss: 0.5501 - val_accuracy: 0.9643\n",
      "Epoch 3/100\n",
      "2/2 [==============================] - 0s 35ms/step - loss: 0.5138 - accuracy: 0.9643 - val_loss: 0.5494 - val_accuracy: 0.9643\n",
      "Epoch 4/100\n",
      "2/2 [==============================] - 0s 35ms/step - loss: 0.5068 - accuracy: 0.9524 - val_loss: 0.5497 - val_accuracy: 0.9643\n",
      "Epoch 5/100\n",
      "2/2 [==============================] - 0s 40ms/step - loss: 0.5028 - accuracy: 0.9524 - val_loss: 0.5492 - val_accuracy: 0.9286\n",
      "Epoch 6/100\n",
      "2/2 [==============================] - 0s 36ms/step - loss: 0.4997 - accuracy: 0.9048 - val_loss: 0.5474 - val_accuracy: 0.8929\n",
      "Epoch 7/100\n",
      "2/2 [==============================] - 0s 38ms/step - loss: 0.4964 - accuracy: 0.8810 - val_loss: 0.5443 - val_accuracy: 0.8929\n",
      "Epoch 8/100\n",
      "2/2 [==============================] - 0s 37ms/step - loss: 0.4943 - accuracy: 0.8929 - val_loss: 0.5431 - val_accuracy: 0.8571\n",
      "Epoch 9/100\n",
      "2/2 [==============================] - 0s 35ms/step - loss: 0.4913 - accuracy: 0.8810 - val_loss: 0.5401 - val_accuracy: 0.8929\n",
      "Epoch 10/100\n",
      "2/2 [==============================] - 0s 35ms/step - loss: 0.4907 - accuracy: 0.9048 - val_loss: 0.5408 - val_accuracy: 0.8214\n",
      "Epoch 11/100\n",
      "2/2 [==============================] - 0s 35ms/step - loss: 0.4872 - accuracy: 0.8571 - val_loss: 0.5374 - val_accuracy: 0.8214\n",
      "Epoch 12/100\n",
      "2/2 [==============================] - 0s 35ms/step - loss: 0.4835 - accuracy: 0.8571 - val_loss: 0.5298 - val_accuracy: 0.8929\n",
      "Epoch 13/100\n",
      "2/2 [==============================] - 0s 46ms/step - loss: 0.4821 - accuracy: 0.9167 - val_loss: 0.5305 - val_accuracy: 0.8214\n",
      "Epoch 14/100\n",
      "2/2 [==============================] - 0s 54ms/step - loss: 0.4784 - accuracy: 0.8810 - val_loss: 0.5219 - val_accuracy: 0.9286\n",
      "Epoch 15/100\n",
      "2/2 [==============================] - 0s 47ms/step - loss: 0.4751 - accuracy: 0.9286 - val_loss: 0.5185 - val_accuracy: 0.9643\n",
      "Epoch 16/100\n",
      "2/2 [==============================] - 0s 40ms/step - loss: 0.4731 - accuracy: 0.9405 - val_loss: 0.5190 - val_accuracy: 0.9286\n",
      "Epoch 17/100\n",
      "2/2 [==============================] - 0s 43ms/step - loss: 0.4702 - accuracy: 0.9048 - val_loss: 0.5153 - val_accuracy: 0.9286\n",
      "Epoch 18/100\n",
      "2/2 [==============================] - 0s 44ms/step - loss: 0.4708 - accuracy: 0.9405 - val_loss: 0.5180 - val_accuracy: 0.8929\n",
      "Epoch 19/100\n",
      "2/2 [==============================] - 0s 49ms/step - loss: 0.4712 - accuracy: 0.9167 - val_loss: 0.5196 - val_accuracy: 0.8214\n",
      "Epoch 20/100\n",
      "2/2 [==============================] - 0s 47ms/step - loss: 0.4716 - accuracy: 0.9048 - val_loss: 0.5207 - val_accuracy: 0.7857\n",
      "Epoch 21/100\n",
      "2/2 [==============================] - 0s 37ms/step - loss: 0.4653 - accuracy: 0.8214 - val_loss: 0.5034 - val_accuracy: 0.9643\n",
      "Epoch 22/100\n",
      "2/2 [==============================] - 0s 36ms/step - loss: 0.4586 - accuracy: 0.9286 - val_loss: 0.5016 - val_accuracy: 0.9643\n",
      "Epoch 23/100\n",
      "2/2 [==============================] - 0s 33ms/step - loss: 0.4621 - accuracy: 0.9048 - val_loss: 0.4935 - val_accuracy: 0.9643\n",
      "Epoch 24/100\n",
      "2/2 [==============================] - 0s 39ms/step - loss: 0.4550 - accuracy: 0.9643 - val_loss: 0.4942 - val_accuracy: 0.9643\n",
      "Epoch 25/100\n",
      "2/2 [==============================] - 0s 34ms/step - loss: 0.4563 - accuracy: 0.9643 - val_loss: 0.4999 - val_accuracy: 0.8929\n",
      "Epoch 26/100\n",
      "2/2 [==============================] - 0s 36ms/step - loss: 0.4515 - accuracy: 0.8929 - val_loss: 0.4909 - val_accuracy: 0.9643\n",
      "Epoch 27/100\n",
      "2/2 [==============================] - 0s 37ms/step - loss: 0.4496 - accuracy: 0.9286 - val_loss: 0.4865 - val_accuracy: 0.9643\n",
      "Epoch 28/100\n",
      "2/2 [==============================] - 0s 35ms/step - loss: 0.4463 - accuracy: 0.9643 - val_loss: 0.4875 - val_accuracy: 0.9643\n",
      "Epoch 29/100\n",
      "2/2 [==============================] - 0s 37ms/step - loss: 0.4446 - accuracy: 0.9524 - val_loss: 0.4880 - val_accuracy: 0.9286\n",
      "Epoch 30/100\n",
      "2/2 [==============================] - 0s 35ms/step - loss: 0.4419 - accuracy: 0.9286 - val_loss: 0.4838 - val_accuracy: 0.9643\n",
      "Epoch 31/100\n",
      "2/2 [==============================] - 0s 33ms/step - loss: 0.4473 - accuracy: 0.9286 - val_loss: 0.4908 - val_accuracy: 0.8929\n",
      "Epoch 32/100\n",
      "2/2 [==============================] - 0s 40ms/step - loss: 0.4403 - accuracy: 0.8810 - val_loss: 0.4785 - val_accuracy: 0.9643\n",
      "Epoch 33/100\n",
      "2/2 [==============================] - 0s 35ms/step - loss: 0.4362 - accuracy: 0.9405 - val_loss: 0.4774 - val_accuracy: 0.9643\n",
      "Epoch 34/100\n",
      "2/2 [==============================] - 0s 42ms/step - loss: 0.4376 - accuracy: 0.9286 - val_loss: 0.4806 - val_accuracy: 0.9286\n",
      "Epoch 35/100\n",
      "2/2 [==============================] - 0s 47ms/step - loss: 0.4349 - accuracy: 0.8810 - val_loss: 0.4704 - val_accuracy: 0.9643\n",
      "Epoch 36/100\n",
      "2/2 [==============================] - 0s 38ms/step - loss: 0.4323 - accuracy: 0.9524 - val_loss: 0.4732 - val_accuracy: 0.9643\n",
      "Epoch 37/100\n",
      "2/2 [==============================] - 0s 40ms/step - loss: 0.4299 - accuracy: 0.9286 - val_loss: 0.4667 - val_accuracy: 0.9643\n",
      "Epoch 38/100\n",
      "2/2 [==============================] - 0s 41ms/step - loss: 0.4283 - accuracy: 0.9524 - val_loss: 0.4692 - val_accuracy: 0.9643\n",
      "Epoch 39/100\n",
      "2/2 [==============================] - 0s 52ms/step - loss: 0.4255 - accuracy: 0.9286 - val_loss: 0.4644 - val_accuracy: 0.9643\n",
      "Epoch 40/100\n",
      "2/2 [==============================] - 0s 44ms/step - loss: 0.4236 - accuracy: 0.9524 - val_loss: 0.4634 - val_accuracy: 0.9643\n",
      "Epoch 41/100\n",
      "2/2 [==============================] - 0s 42ms/step - loss: 0.4239 - accuracy: 0.9405 - val_loss: 0.4576 - val_accuracy: 0.9643\n",
      "Epoch 42/100\n",
      "2/2 [==============================] - 0s 86ms/step - loss: 0.4205 - accuracy: 0.9643 - val_loss: 0.4592 - val_accuracy: 0.9643\n",
      "Epoch 43/100\n",
      "2/2 [==============================] - 0s 45ms/step - loss: 0.4185 - accuracy: 0.9524 - val_loss: 0.4579 - val_accuracy: 0.9643\n",
      "Epoch 44/100\n",
      "2/2 [==============================] - 0s 49ms/step - loss: 0.4190 - accuracy: 0.9524 - val_loss: 0.4601 - val_accuracy: 0.9286\n",
      "Epoch 45/100\n",
      "2/2 [==============================] - 0s 36ms/step - loss: 0.4187 - accuracy: 0.9167 - val_loss: 0.4503 - val_accuracy: 0.9643\n",
      "Epoch 46/100\n",
      "2/2 [==============================] - 0s 35ms/step - loss: 0.4140 - accuracy: 0.9643 - val_loss: 0.4513 - val_accuracy: 0.9643\n",
      "Epoch 47/100\n",
      "2/2 [==============================] - 0s 33ms/step - loss: 0.4118 - accuracy: 0.9524 - val_loss: 0.4494 - val_accuracy: 0.9643\n",
      "Epoch 48/100\n",
      "2/2 [==============================] - 0s 35ms/step - loss: 0.4112 - accuracy: 0.9524 - val_loss: 0.4504 - val_accuracy: 0.9643\n",
      "Epoch 49/100\n",
      "2/2 [==============================] - 0s 35ms/step - loss: 0.4088 - accuracy: 0.9405 - val_loss: 0.4461 - val_accuracy: 0.9643\n",
      "Epoch 50/100\n",
      "2/2 [==============================] - 0s 41ms/step - loss: 0.4108 - accuracy: 0.9405 - val_loss: 0.4400 - val_accuracy: 0.9643\n",
      "Epoch 51/100\n",
      "2/2 [==============================] - 0s 36ms/step - loss: 0.4061 - accuracy: 0.9643 - val_loss: 0.4415 - val_accuracy: 0.9643\n",
      "Epoch 52/100\n",
      "2/2 [==============================] - 0s 43ms/step - loss: 0.4098 - accuracy: 0.9524 - val_loss: 0.4483 - val_accuracy: 0.9286\n",
      "Epoch 53/100\n",
      "2/2 [==============================] - 0s 42ms/step - loss: 0.4036 - accuracy: 0.9286 - val_loss: 0.4399 - val_accuracy: 0.9643\n",
      "Epoch 54/100\n",
      "2/2 [==============================] - 0s 45ms/step - loss: 0.4013 - accuracy: 0.9524 - val_loss: 0.4388 - val_accuracy: 0.9643\n",
      "Epoch 55/100\n",
      "2/2 [==============================] - 0s 38ms/step - loss: 0.4034 - accuracy: 0.9286 - val_loss: 0.4318 - val_accuracy: 0.9643\n",
      "Epoch 56/100\n",
      "2/2 [==============================] - 0s 43ms/step - loss: 0.3989 - accuracy: 0.9643 - val_loss: 0.4315 - val_accuracy: 0.9643\n",
      "Epoch 57/100\n",
      "2/2 [==============================] - 0s 35ms/step - loss: 0.4018 - accuracy: 0.9524 - val_loss: 0.4272 - val_accuracy: 0.9643\n",
      "Epoch 58/100\n",
      "2/2 [==============================] - 0s 35ms/step - loss: 0.3966 - accuracy: 0.9762 - val_loss: 0.4303 - val_accuracy: 0.9643\n",
      "Epoch 59/100\n",
      "2/2 [==============================] - 0s 36ms/step - loss: 0.3938 - accuracy: 0.9524 - val_loss: 0.4287 - val_accuracy: 0.9643\n",
      "Epoch 60/100\n",
      "2/2 [==============================] - 0s 38ms/step - loss: 0.3948 - accuracy: 0.9405 - val_loss: 0.4242 - val_accuracy: 0.9643\n",
      "Epoch 61/100\n",
      "2/2 [==============================] - 0s 35ms/step - loss: 0.3945 - accuracy: 0.9524 - val_loss: 0.4213 - val_accuracy: 0.9643\n",
      "Epoch 62/100\n",
      "2/2 [==============================] - 0s 37ms/step - loss: 0.3920 - accuracy: 0.9643 - val_loss: 0.4204 - val_accuracy: 0.9643\n",
      "Epoch 63/100\n",
      "2/2 [==============================] - 0s 35ms/step - loss: 0.3897 - accuracy: 0.9762 - val_loss: 0.4196 - val_accuracy: 0.9643\n",
      "Epoch 64/100\n",
      "2/2 [==============================] - 0s 35ms/step - loss: 0.3873 - accuracy: 0.9762 - val_loss: 0.4196 - val_accuracy: 0.9643\n",
      "Epoch 65/100\n",
      "2/2 [==============================] - 0s 34ms/step - loss: 0.3857 - accuracy: 0.9643 - val_loss: 0.4189 - val_accuracy: 0.9643\n",
      "Epoch 66/100\n",
      "2/2 [==============================] - 0s 41ms/step - loss: 0.3845 - accuracy: 0.9643 - val_loss: 0.4168 - val_accuracy: 0.9643\n",
      "Epoch 67/100\n",
      "2/2 [==============================] - 0s 36ms/step - loss: 0.3832 - accuracy: 0.9643 - val_loss: 0.4171 - val_accuracy: 0.9643\n",
      "Epoch 68/100\n",
      "2/2 [==============================] - 0s 35ms/step - loss: 0.3818 - accuracy: 0.9524 - val_loss: 0.4164 - val_accuracy: 0.9643\n",
      "Epoch 69/100\n",
      "2/2 [==============================] - 0s 38ms/step - loss: 0.3820 - accuracy: 0.9524 - val_loss: 0.4109 - val_accuracy: 0.9643\n",
      "Epoch 70/100\n",
      "2/2 [==============================] - 0s 37ms/step - loss: 0.3794 - accuracy: 0.9762 - val_loss: 0.4121 - val_accuracy: 0.9643\n",
      "Epoch 71/100\n",
      "2/2 [==============================] - 0s 37ms/step - loss: 0.3796 - accuracy: 0.9643 - val_loss: 0.4144 - val_accuracy: 0.9643\n",
      "Epoch 72/100\n",
      "2/2 [==============================] - 0s 37ms/step - loss: 0.3823 - accuracy: 0.9405 - val_loss: 0.4052 - val_accuracy: 0.9643\n",
      "Epoch 73/100\n",
      "2/2 [==============================] - 0s 37ms/step - loss: 0.3761 - accuracy: 0.9643 - val_loss: 0.4048 - val_accuracy: 0.9643\n",
      "Epoch 74/100\n",
      "2/2 [==============================] - 0s 37ms/step - loss: 0.3743 - accuracy: 0.9762 - val_loss: 0.4059 - val_accuracy: 0.9643\n",
      "Epoch 75/100\n",
      "2/2 [==============================] - 0s 41ms/step - loss: 0.3767 - accuracy: 0.9524 - val_loss: 0.4011 - val_accuracy: 0.9643\n",
      "Epoch 76/100\n",
      "2/2 [==============================] - 0s 37ms/step - loss: 0.3726 - accuracy: 0.9762 - val_loss: 0.4007 - val_accuracy: 0.9643\n",
      "Epoch 77/100\n",
      "2/2 [==============================] - 0s 35ms/step - loss: 0.3706 - accuracy: 0.9762 - val_loss: 0.4017 - val_accuracy: 0.9643\n",
      "Epoch 78/100\n",
      "2/2 [==============================] - 0s 37ms/step - loss: 0.3696 - accuracy: 0.9524 - val_loss: 0.3995 - val_accuracy: 0.9643\n",
      "Epoch 79/100\n",
      "2/2 [==============================] - 0s 35ms/step - loss: 0.3723 - accuracy: 0.9643 - val_loss: 0.3953 - val_accuracy: 0.9643\n",
      "Epoch 80/100\n",
      "2/2 [==============================] - 0s 37ms/step - loss: 0.3674 - accuracy: 0.9762 - val_loss: 0.3964 - val_accuracy: 0.9643\n",
      "Epoch 81/100\n",
      "2/2 [==============================] - 0s 34ms/step - loss: 0.3679 - accuracy: 0.9524 - val_loss: 0.3937 - val_accuracy: 0.9643\n",
      "Epoch 82/100\n",
      "2/2 [==============================] - 0s 34ms/step - loss: 0.3654 - accuracy: 0.9643 - val_loss: 0.3927 - val_accuracy: 0.9643\n",
      "Epoch 83/100\n",
      "2/2 [==============================] - 0s 36ms/step - loss: 0.3637 - accuracy: 0.9762 - val_loss: 0.3942 - val_accuracy: 0.9643\n",
      "Epoch 84/100\n",
      "2/2 [==============================] - 0s 36ms/step - loss: 0.3672 - accuracy: 0.9524 - val_loss: 0.3887 - val_accuracy: 0.9643\n",
      "Epoch 85/100\n",
      "2/2 [==============================] - 0s 36ms/step - loss: 0.3619 - accuracy: 0.9762 - val_loss: 0.3889 - val_accuracy: 0.9643\n",
      "Epoch 86/100\n",
      "2/2 [==============================] - 0s 34ms/step - loss: 0.3601 - accuracy: 0.9762 - val_loss: 0.3887 - val_accuracy: 0.9643\n",
      "Epoch 87/100\n",
      "2/2 [==============================] - 0s 35ms/step - loss: 0.3587 - accuracy: 0.9643 - val_loss: 0.3877 - val_accuracy: 0.9643\n",
      "Epoch 88/100\n",
      "2/2 [==============================] - 0s 35ms/step - loss: 0.3575 - accuracy: 0.9643 - val_loss: 0.3872 - val_accuracy: 0.9643\n",
      "Epoch 89/100\n",
      "2/2 [==============================] - 0s 38ms/step - loss: 0.3616 - accuracy: 0.9405 - val_loss: 0.3819 - val_accuracy: 0.9643\n",
      "Epoch 90/100\n",
      "2/2 [==============================] - 0s 36ms/step - loss: 0.3574 - accuracy: 0.9762 - val_loss: 0.3859 - val_accuracy: 0.9643\n",
      "Epoch 91/100\n",
      "2/2 [==============================] - 0s 35ms/step - loss: 0.3548 - accuracy: 0.9524 - val_loss: 0.3821 - val_accuracy: 0.9643\n",
      "Epoch 92/100\n",
      "2/2 [==============================] - 0s 34ms/step - loss: 0.3567 - accuracy: 0.9643 - val_loss: 0.3786 - val_accuracy: 0.9643\n",
      "Epoch 93/100\n",
      "2/2 [==============================] - 0s 35ms/step - loss: 0.3530 - accuracy: 0.9762 - val_loss: 0.3812 - val_accuracy: 0.9643\n",
      "Epoch 94/100\n",
      "2/2 [==============================] - 0s 35ms/step - loss: 0.3509 - accuracy: 0.9643 - val_loss: 0.3796 - val_accuracy: 0.9643\n",
      "Epoch 95/100\n",
      "2/2 [==============================] - 0s 37ms/step - loss: 0.3501 - accuracy: 0.9643 - val_loss: 0.3775 - val_accuracy: 0.9643\n",
      "Epoch 96/100\n",
      "2/2 [==============================] - 0s 35ms/step - loss: 0.3494 - accuracy: 0.9643 - val_loss: 0.3788 - val_accuracy: 0.9643\n",
      "Epoch 97/100\n",
      "2/2 [==============================] - 0s 34ms/step - loss: 0.3501 - accuracy: 0.9643 - val_loss: 0.3807 - val_accuracy: 0.9643\n",
      "Epoch 98/100\n",
      "2/2 [==============================] - 0s 34ms/step - loss: 0.3472 - accuracy: 0.9524 - val_loss: 0.3761 - val_accuracy: 0.9643\n",
      "Epoch 99/100\n",
      "2/2 [==============================] - 0s 35ms/step - loss: 0.3459 - accuracy: 0.9524 - val_loss: 0.3732 - val_accuracy: 0.9643\n",
      "Epoch 100/100\n",
      "2/2 [==============================] - 0s 36ms/step - loss: 0.3469 - accuracy: 0.9643 - val_loss: 0.3763 - val_accuracy: 0.9643\n"
     ]
    }
   ],
   "source": [
    "history = model.fit(X_train, y_train, epochs=100,\n",
    "                    batch_size=50,\n",
    "                    validation_data=(X_valid, y_valid))"
   ]
  },
  {
   "cell_type": "markdown",
   "metadata": {},
   "source": [
    "##### 4) Entrenamiento y Evaluación del Modelo"
   ]
  },
  {
   "cell_type": "code",
   "execution_count": 63,
   "metadata": {},
   "outputs": [
    {
     "name": "stdout",
     "output_type": "stream",
     "text": [
      "2/2 [==============================] - 0s 211ms/step - loss: 0.3137 - accuracy: 0.9737\n"
     ]
    },
    {
     "data": {
      "text/plain": [
       "[0.3136843740940094, 0.9736841917037964]"
      ]
     },
     "execution_count": 63,
     "metadata": {},
     "output_type": "execute_result"
    }
   ],
   "source": [
    "model.evaluate(X_test, y_test)"
   ]
  },
  {
   "cell_type": "code",
   "execution_count": 64,
   "metadata": {},
   "outputs": [
    {
     "name": "stdout",
     "output_type": "stream",
     "text": [
      "1/1 [==============================] - 0s 251ms/step\n"
     ]
    }
   ],
   "source": [
    "miniX_test = X_test[:3]\n",
    "y_pred = model.predict(miniX_test)"
   ]
  },
  {
   "cell_type": "code",
   "execution_count": 65,
   "metadata": {},
   "outputs": [
    {
     "name": "stdout",
     "output_type": "stream",
     "text": [
      "1/1 [==============================] - 0s 17ms/step\n"
     ]
    },
    {
     "data": {
      "text/plain": [
       "array([1, 0, 2])"
      ]
     },
     "execution_count": 65,
     "metadata": {},
     "output_type": "execute_result"
    }
   ],
   "source": [
    "y_pred = np.argmax(model.predict(miniX_test), axis=1)\n",
    "y_pred"
   ]
  },
  {
   "cell_type": "code",
   "execution_count": 66,
   "metadata": {},
   "outputs": [
    {
     "data": {
      "text/plain": [
       "array([[False,  True, False],\n",
       "       [ True, False, False],\n",
       "       [False, False,  True]])"
      ]
     },
     "execution_count": 66,
     "metadata": {},
     "output_type": "execute_result"
    }
   ],
   "source": []
  },
  {
   "cell_type": "markdown",
   "metadata": {},
   "source": [
    "#### **c. Gráficar Curvas de Aprendizaje**"
   ]
  },
  {
   "cell_type": "code",
   "execution_count": 68,
   "metadata": {},
   "outputs": [
    {
     "data": {
      "text/html": [
       "<div>\n",
       "<style scoped>\n",
       "    .dataframe tbody tr th:only-of-type {\n",
       "        vertical-align: middle;\n",
       "    }\n",
       "\n",
       "    .dataframe tbody tr th {\n",
       "        vertical-align: top;\n",
       "    }\n",
       "\n",
       "    .dataframe thead th {\n",
       "        text-align: right;\n",
       "    }\n",
       "</style>\n",
       "<table border=\"1\" class=\"dataframe\">\n",
       "  <thead>\n",
       "    <tr style=\"text-align: right;\">\n",
       "      <th></th>\n",
       "      <th>loss</th>\n",
       "      <th>accuracy</th>\n",
       "      <th>val_loss</th>\n",
       "      <th>val_accuracy</th>\n",
       "    </tr>\n",
       "  </thead>\n",
       "  <tbody>\n",
       "    <tr>\n",
       "      <th>0</th>\n",
       "      <td>0.516194</td>\n",
       "      <td>0.916667</td>\n",
       "      <td>0.559007</td>\n",
       "      <td>0.964286</td>\n",
       "    </tr>\n",
       "    <tr>\n",
       "      <th>1</th>\n",
       "      <td>0.527316</td>\n",
       "      <td>0.809524</td>\n",
       "      <td>0.550129</td>\n",
       "      <td>0.964286</td>\n",
       "    </tr>\n",
       "    <tr>\n",
       "      <th>2</th>\n",
       "      <td>0.513783</td>\n",
       "      <td>0.964286</td>\n",
       "      <td>0.549392</td>\n",
       "      <td>0.964286</td>\n",
       "    </tr>\n",
       "    <tr>\n",
       "      <th>3</th>\n",
       "      <td>0.506757</td>\n",
       "      <td>0.952381</td>\n",
       "      <td>0.549697</td>\n",
       "      <td>0.964286</td>\n",
       "    </tr>\n",
       "    <tr>\n",
       "      <th>4</th>\n",
       "      <td>0.502776</td>\n",
       "      <td>0.952381</td>\n",
       "      <td>0.549238</td>\n",
       "      <td>0.928571</td>\n",
       "    </tr>\n",
       "    <tr>\n",
       "      <th>...</th>\n",
       "      <td>...</td>\n",
       "      <td>...</td>\n",
       "      <td>...</td>\n",
       "      <td>...</td>\n",
       "    </tr>\n",
       "    <tr>\n",
       "      <th>95</th>\n",
       "      <td>0.349432</td>\n",
       "      <td>0.964286</td>\n",
       "      <td>0.378750</td>\n",
       "      <td>0.964286</td>\n",
       "    </tr>\n",
       "    <tr>\n",
       "      <th>96</th>\n",
       "      <td>0.350078</td>\n",
       "      <td>0.964286</td>\n",
       "      <td>0.380738</td>\n",
       "      <td>0.964286</td>\n",
       "    </tr>\n",
       "    <tr>\n",
       "      <th>97</th>\n",
       "      <td>0.347179</td>\n",
       "      <td>0.952381</td>\n",
       "      <td>0.376071</td>\n",
       "      <td>0.964286</td>\n",
       "    </tr>\n",
       "    <tr>\n",
       "      <th>98</th>\n",
       "      <td>0.345851</td>\n",
       "      <td>0.952381</td>\n",
       "      <td>0.373230</td>\n",
       "      <td>0.964286</td>\n",
       "    </tr>\n",
       "    <tr>\n",
       "      <th>99</th>\n",
       "      <td>0.346900</td>\n",
       "      <td>0.964286</td>\n",
       "      <td>0.376312</td>\n",
       "      <td>0.964286</td>\n",
       "    </tr>\n",
       "  </tbody>\n",
       "</table>\n",
       "<p>100 rows × 4 columns</p>\n",
       "</div>"
      ],
      "text/plain": [
       "        loss  accuracy  val_loss  val_accuracy\n",
       "0   0.516194  0.916667  0.559007      0.964286\n",
       "1   0.527316  0.809524  0.550129      0.964286\n",
       "2   0.513783  0.964286  0.549392      0.964286\n",
       "3   0.506757  0.952381  0.549697      0.964286\n",
       "4   0.502776  0.952381  0.549238      0.928571\n",
       "..       ...       ...       ...           ...\n",
       "95  0.349432  0.964286  0.378750      0.964286\n",
       "96  0.350078  0.964286  0.380738      0.964286\n",
       "97  0.347179  0.952381  0.376071      0.964286\n",
       "98  0.345851  0.952381  0.373230      0.964286\n",
       "99  0.346900  0.964286  0.376312      0.964286\n",
       "\n",
       "[100 rows x 4 columns]"
      ]
     },
     "execution_count": 68,
     "metadata": {},
     "output_type": "execute_result"
    }
   ],
   "source": [
    "learning_curves = pd.DataFrame(history.history)\n",
    "learning_curves"
   ]
  },
  {
   "cell_type": "code",
   "execution_count": 75,
   "metadata": {},
   "outputs": [
    {
     "data": {
      "text/plain": [
       "<Axes: >"
      ]
     },
     "execution_count": 75,
     "metadata": {},
     "output_type": "execute_result"
    },
    {
     "data": {
      "image/png": "[encoded data removed]",
      "text/plain": [
       "<Figure size 640x480 with 1 Axes>"
      ]
     },
     "metadata": {},
     "output_type": "display_data"
    }
   ],
   "source": [
    "learning_curves[['loss', 'val_loss']].plot()"
   ]
  },
  {
   "cell_type": "code",
   "execution_count": 76,
   "metadata": {},
   "outputs": [
    {
     "data": {
      "text/plain": [
       "<Axes: >"
      ]
     },
     "execution_count": 76,
     "metadata": {},
     "output_type": "execute_result"
    },
    {
     "data": {
      "image/png": "[encoded data removed]",
      "text/plain": [
       "<Figure size 640x480 with 1 Axes>"
      ]
     },
     "metadata": {},
     "output_type": "display_data"
    }
   ],
   "source": [
    "learning_curves[['accuracy', 'val_accuracy']].plot()"
   ]
  },
  {
   "cell_type": "markdown",
   "metadata": {},
   "source": [
    "#### **d. Realizar evaluación del modelo**"
   ]
  },
  {
   "cell_type": "code",
   "execution_count": 77,
   "metadata": {},
   "outputs": [
    {
     "name": "stdout",
     "output_type": "stream",
     "text": [
      "2/2 [==============================] - 0s 25ms/step - loss: 0.3137 - accuracy: 0.9737\n"
     ]
    },
    {
     "data": {
      "text/plain": [
       "[0.3136843740940094, 0.9736841917037964]"
      ]
     },
     "execution_count": 77,
     "metadata": {},
     "output_type": "execute_result"
    }
   ],
   "source": [
    "model.evaluate(X_test, y_test)"
   ]
  },
  {
   "cell_type": "markdown",
   "metadata": {},
   "source": [
    "#### **e. Realizar pruebas del modelo ajustado**"
   ]
  },
  {
   "cell_type": "code",
   "execution_count": 78,
   "metadata": {},
   "outputs": [
    {
     "name": "stdout",
     "output_type": "stream",
     "text": [
      "1/1 [==============================] - 0s 18ms/step\n"
     ]
    }
   ],
   "source": [
    "miniX_test = X_test[:3]\n",
    "y_pred = model.predict(miniX_test)"
   ]
  },
  {
   "cell_type": "code",
   "execution_count": 79,
   "metadata": {},
   "outputs": [
    {
     "name": "stdout",
     "output_type": "stream",
     "text": [
      "1/1 [==============================] - 0s 14ms/step\n"
     ]
    },
    {
     "data": {
      "text/plain": [
       "array([1, 0, 2])"
      ]
     },
     "execution_count": 79,
     "metadata": {},
     "output_type": "execute_result"
    }
   ],
   "source": [
    "y_pred = np.argmax(model.predict(miniX_test), axis=1)\n",
    "y_pred"
   ]
  },
  {
   "cell_type": "code",
   "execution_count": 81,
   "metadata": {},
   "outputs": [
    {
     "data": {
      "text/plain": [
       "array([[0, 1, 0],\n",
       "       [1, 0, 0],\n",
       "       [0, 0, 1]])"
      ]
     },
     "execution_count": 81,
     "metadata": {},
     "output_type": "execute_result"
    }
   ],
   "source": [
    "y_test[:3].astype(int)"
   ]
  },
  {
   "cell_type": "markdown",
   "metadata": {},
   "source": [
    "### 2.**[10%]** Suponga que tiene un MLP compuesto por una capa de entrada con 10 neuronas de paso, seguida de una capa oculta con 50 neuronas artificiales y, finalmente, una capa de salida con 3 neuronas artificiales. Todas las neuronas artificiales utilizan la función de activación ReLU.\n",
    " "
   ]
  },
  {
   "cell_type": "markdown",
   "metadata": {},
   "source": [
    "**a**. ¿Cuál es la forma de la matriz de entrada $X$ ? "
   ]
  },
  {
   "cell_type": "markdown",
   "metadata": {},
   "source": [
    "Dimensiones $X - (10 \\times 1)$"
   ]
  },
  {
   "cell_type": "markdown",
   "metadata": {},
   "source": [
    "**b.** ¿Cuáles son las dimensiones del vector de peso $W_{h}$ de la capa oculta y su vector de sesgo $b_{h}$ ?\n",
    "\n",
    "Dimensiones $W_{h} - (50 \\times 10)$  \n",
    "Dimensiones $b_{h} - (50 \\times 1)$"
   ]
  },
  {
   "cell_type": "markdown",
   "metadata": {},
   "source": [
    "**c.** ¿Cuáles son las formas del vector de peso $W_{0}$ de la capa de salida y su vector de sesgo $b_{0}$ ?\n",
    "\n",
    "Dimensiones $W_{0} - (1 \\times 50)$  \n",
    "Dimensiones $b_{0} - (1 \\times 1)$"
   ]
  },
  {
   "cell_type": "markdown",
   "metadata": {},
   "source": [
    "**d.** ¿Cuál es la forma de la matriz de salida $Y$ de la red?  \n",
    "\n",
    "Dimensiones $Y$ - $(3 \\times 1)$"
   ]
  },
  {
   "cell_type": "markdown",
   "metadata": {},
   "source": [
    "**e.** Escriba la ecuación que calcula la matriz de salida 𝐘 de la red en función de $X$ , $W_{h}$ , $b_{h}$ , $W_{0}$ y $b_{0}$ .\n",
    "\n",
    "$Y = relu(X \\cdot W_{h}^{T} + b_{h})$"
   ]
  },
  {
   "cell_type": "markdown",
   "metadata": {},
   "source": [
    "### 3. **[10%]** ¿Cuántas neuronas se necesitan en la capa de salida y que función de activación se debe emplear para los siguientes casos?:"
   ]
  },
  {
   "cell_type": "markdown",
   "metadata": {},
   "source": [
    "**a.** Clasificar el correo electrónico como spam o ham. \n",
    "\n",
    "**Neuronas en Capa de Salida:**  1  \n",
    "**Función de Activación:**  $\\sigma$"
   ]
  },
  {
   "cell_type": "markdown",
   "metadata": {},
   "source": [
    "**b.** Clasificar dígitos escritos a mano del conjunto de datos MNIST.  \n",
    "\n",
    "**Neuronas en Capa de Salida:**  10  \n",
    "**Función de Activación:**  $softmax()$"
   ]
  },
  {
   "cell_type": "markdown",
   "metadata": {},
   "source": [
    "c. Realizar la predicción del precio de venta de una vivienda.\n",
    "\n",
    "**Neuronas en Capa de Salida:**  1  \n",
    "**Función de Activación:**  $relu()\\;,\\;tanh()$"
   ]
  }
 ],
 "metadata": {
  "kernelspec": {
   "display_name": "tensorflow",
   "language": "python",
   "name": "python3"
  },
  "language_info": {
   "codemirror_mode": {
    "name": "ipython",
    "version": 3
   },
   "file_extension": ".py",
   "mimetype": "text/x-python",
   "name": "python",
   "nbconvert_exporter": "python",
   "pygments_lexer": "ipython3",
   "version": "3.11.7"
  }
 },
 "nbformat": 4,
 "nbformat_minor": 2
}
