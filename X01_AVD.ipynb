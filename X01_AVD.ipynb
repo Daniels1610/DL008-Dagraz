{
 "cells": [
  {
   "cell_type": "markdown",
   "metadata": {},
   "source": [
    "#### Aprendizaje Profundo - 1er Examen Parcial \n",
    "*Daniel Agraz Vallejo*"
   ]
  },
  {
   "cell_type": "code",
   "execution_count": 3,
   "metadata": {},
   "outputs": [],
   "source": [
    "import tensorflow as tf\n",
    "import numpy as np\n",
    "import pandas as pd\n",
    "import seaborn as sns\n",
    "import matplotlib.pyplot as plt\n",
    "from sklearn import datasets\n",
    "from sklearn.neural_network import MLPClassifier"
   ]
  },
  {
   "cell_type": "markdown",
   "metadata": {},
   "source": [
    "#### 1.**[25%]** \n",
    "Considere el modelo de red: \n",
    "$f(x;W,c,w,b) =w^{T}\\; max\\left \\{0,W^{T}\\cdot x + c  \\right \\}+ b$  \n",
    "\n",
    "En donde, **W** es la matriz de pesos de la primera capa, **c** es el vector de sesgo de la primera capa, 𝒘 es el vector de pesos de la segunda capa y **b** es el sesgo de la segunda capa. La función de activación está definida por **g(z) = max{0,z}**. Podemos especificar la solución para el problema del clasificador XOR como:\n",
    "\n",
    "$W = \\begin{bmatrix} 1 & 1\\\\ 1 & 1 \\end{bmatrix}, \n",
    "c = \\begin{bmatrix}0 \\\\ -1 \\end{bmatrix},\n",
    "w = \\begin{bmatrix}1 \\\\ -2 \\end{bmatrix},\n",
    "b = 0$\n",
    "\n",
    "Sea **X** la matriz que contiene los cuatro puntos para el problema XOR en el espacio de entrada binario, con un ejemplo por fila:\n",
    "$X =  \\begin{bmatrix} 0 & 0\\\\ 0 & 1 \\\\ 1 & 0 \\\\ 1 & 1\\end{bmatrix}$\n",
    "\n",
    "Realizar la implementación utilizando funciones básicas de TensorFlow (evaluar la función $f(x;W,c,w,b)$  y especificar su salida. Todos los arreglos deberán ser **tf.constant()**."
   ]
  },
  {
   "cell_type": "code",
   "execution_count": 2,
   "metadata": {},
   "outputs": [],
   "source": [
    "def input_x() -> tuple:\n",
    "    # Input binary values\n",
    "    while True:\n",
    "        try:\n",
    "            input_x1 = int(input(\"Enter x1 bits: \"), 2)\n",
    "            input_x2 = int(input(\"Enter x2 bits: \"), 2)\n",
    "            break\n",
    "        except ValueError:\n",
    "            print(\"Invalid bit. Input only binary values\")\n",
    "    return input_x1, input_x2\n",
    "\n",
    "def init_params() -> tuple:\n",
    "    w1 = tf.constant([1, 1])\n",
    "    w2 = tf.constant([1, -2])\n",
    "    b1 = tf.constant([0, -1])\n",
    "    b2 = tf.constant([0])\n",
    "    return w1, w2, b1, b2\n",
    "\n",
    "def forward_prop(w, x, b) -> tf.int32:\n",
    "    return tf.reduce_sum(tf.multiply(w,x)) + b\n",
    "\n",
    "def ReLU(z:np.int32) -> np.int32:\n",
    "    return np.maximum(z, 0)"
   ]
  },
  {
   "cell_type": "code",
   "execution_count": 3,
   "metadata": {},
   "outputs": [
    {
     "name": "stdout",
     "output_type": "stream",
     "text": [
      "x1: 1\n",
      "x2: 0\n",
      "y: 1\n"
     ]
    },
    {
     "name": "stderr",
     "output_type": "stream",
     "text": [
      "2024-02-22 17:05:16.529000: I metal_plugin/src/device/metal_device.cc:1154] Metal device set to: Apple M1\n",
      "2024-02-22 17:05:16.529043: I metal_plugin/src/device/metal_device.cc:296] systemMemory: 8.00 GB\n",
      "2024-02-22 17:05:16.529068: I metal_plugin/src/device/metal_device.cc:313] maxCacheSize: 2.67 GB\n",
      "2024-02-22 17:05:16.529379: I tensorflow/core/common_runtime/pluggable_device/pluggable_device_factory.cc:306] Could not identify NUMA node of platform GPU ID 0, defaulting to 0. Your kernel may not have been built with NUMA support.\n",
      "2024-02-22 17:05:16.529907: I tensorflow/core/common_runtime/pluggable_device/pluggable_device_factory.cc:272] Created TensorFlow device (/job:localhost/replica:0/task:0/device:GPU:0 with 0 MB memory) -> physical PluggableDevice (device: 0, name: METAL, pci bus id: <undefined>)\n"
     ]
    }
   ],
   "source": [
    "def main1():\n",
    "    x1, x2 = input_x()\n",
    "    w1, w2, b1, b2 = init_params()\n",
    "    z11 = forward_prop(w1, tf.constant([x1, x2]), b1[0])\n",
    "    z12 = forward_prop(w1, tf.constant([x1, x2]), b1[1])\n",
    "    # print(f'Z1: {z11} | Z2: {z12}')\n",
    "\n",
    "    # Activation 1st Layer\n",
    "    a11, a21 = ReLU(z11), ReLU(z12)\n",
    "    # print(f'A11: {a11}, A21: {a21}')\n",
    "\n",
    "    # Activation 2nd Layer\n",
    "    z21 = forward_prop(w2, tf.constant([a11, a21]), b2)[0]\n",
    "    # print(f'Z21: {z21}')\n",
    "\n",
    "    y = ReLU(z21) \n",
    "\n",
    "    print(f'x1: {x1}')\n",
    "    print(f'x2: {x2}')\n",
    "    print(f'y: {y}')\n",
    "\n",
    "main1()"
   ]
  },
  {
   "cell_type": "markdown",
   "metadata": {},
   "source": [
    "#### 2. **[25%]** \n",
    "Implementar el modelo de regresión lineal mediante la ecuación normal $\\theta=(X^{T}X) − 1 \\cdot (X^{T}y)$ utilizando funciones básicas de TensorFlow para el conjunto de datos **(data.csv)** el cual es una relación del producto interno bruto per cápita del país (GDP per capita) y la satisfacción de vida (Life satisfaction). Realizar:  \n",
    "\n",
    "a. El diagrama de dispersión de los datos.  \n",
    "b. La estimación de los parámetros del modelo.  \n",
    "c. La estimación de satisfacción de vida para un producto interno bruto per cápita de 22,587."
   ]
  },
  {
   "cell_type": "code",
   "execution_count": 4,
   "metadata": {},
   "outputs": [
    {
     "data": {
      "text/html": [
       "<div>\n",
       "<style scoped>\n",
       "    .dataframe tbody tr th:only-of-type {\n",
       "        vertical-align: middle;\n",
       "    }\n",
       "\n",
       "    .dataframe tbody tr th {\n",
       "        vertical-align: top;\n",
       "    }\n",
       "\n",
       "    .dataframe thead th {\n",
       "        text-align: right;\n",
       "    }\n",
       "</style>\n",
       "<table border=\"1\" class=\"dataframe\">\n",
       "  <thead>\n",
       "    <tr style=\"text-align: right;\">\n",
       "      <th></th>\n",
       "      <th>GDP per capita</th>\n",
       "      <th>Life satisfaction</th>\n",
       "    </tr>\n",
       "  </thead>\n",
       "  <tbody>\n",
       "    <tr>\n",
       "      <th>0</th>\n",
       "      <td>9054.914</td>\n",
       "      <td>6.0</td>\n",
       "    </tr>\n",
       "    <tr>\n",
       "      <th>1</th>\n",
       "      <td>9437.372</td>\n",
       "      <td>5.6</td>\n",
       "    </tr>\n",
       "    <tr>\n",
       "      <th>2</th>\n",
       "      <td>12239.894</td>\n",
       "      <td>4.9</td>\n",
       "    </tr>\n",
       "    <tr>\n",
       "      <th>3</th>\n",
       "      <td>12495.334</td>\n",
       "      <td>5.8</td>\n",
       "    </tr>\n",
       "    <tr>\n",
       "      <th>4</th>\n",
       "      <td>15991.736</td>\n",
       "      <td>6.1</td>\n",
       "    </tr>\n",
       "  </tbody>\n",
       "</table>\n",
       "</div>"
      ],
      "text/plain": [
       "   GDP per capita  Life satisfaction\n",
       "0        9054.914                6.0\n",
       "1        9437.372                5.6\n",
       "2       12239.894                4.9\n",
       "3       12495.334                5.8\n",
       "4       15991.736                6.1"
      ]
     },
     "execution_count": 4,
     "metadata": {},
     "output_type": "execute_result"
    }
   ],
   "source": [
    "# Load CSV file\n",
    "data = pd.read_csv('datasets/data.csv')\n",
    "data.head()"
   ]
  },
  {
   "cell_type": "code",
   "execution_count": 5,
   "metadata": {},
   "outputs": [
    {
     "data": {
      "text/plain": [
       "(<tf.Tensor: shape=(29, 1), dtype=float64, numpy=\n",
       " array([[ 9054.914],\n",
       "        [ 9437.372],\n",
       "        [12239.894],\n",
       "        [12495.334],\n",
       "        [15991.736],\n",
       "        [17288.083],\n",
       "        [18064.288],\n",
       "        [19121.592],\n",
       "        [20732.482],\n",
       "        [25864.721],\n",
       "        [27195.197],\n",
       "        [29866.581],\n",
       "        [32485.545],\n",
       "        [35343.336],\n",
       "        [37044.891],\n",
       "        [37675.006],\n",
       "        [40106.632],\n",
       "        [40996.511],\n",
       "        [41973.988],\n",
       "        [43331.961],\n",
       "        [43603.115],\n",
       "        [43724.031],\n",
       "        [43770.688],\n",
       "        [49866.266],\n",
       "        [50854.583],\n",
       "        [50961.865],\n",
       "        [51350.744],\n",
       "        [52114.165],\n",
       "        [55805.204]])>,\n",
       " <tf.Tensor: shape=(29, 1), dtype=float64, numpy=\n",
       " array([[6. ],\n",
       "        [5.6],\n",
       "        [4.9],\n",
       "        [5.8],\n",
       "        [6.1],\n",
       "        [5.6],\n",
       "        [4.8],\n",
       "        [5.1],\n",
       "        [5.7],\n",
       "        [6.5],\n",
       "        [5.8],\n",
       "        [6. ],\n",
       "        [5.9],\n",
       "        [7.4],\n",
       "        [7.3],\n",
       "        [6.5],\n",
       "        [6.9],\n",
       "        [7. ],\n",
       "        [7.4],\n",
       "        [7.3],\n",
       "        [7.3],\n",
       "        [6.9],\n",
       "        [6.8],\n",
       "        [7.2],\n",
       "        [7.5],\n",
       "        [7.3],\n",
       "        [7. ],\n",
       "        [7.5],\n",
       "        [7.2]])>)"
      ]
     },
     "execution_count": 5,
     "metadata": {},
     "output_type": "execute_result"
    }
   ],
   "source": [
    "X = tf.reshape(tf.convert_to_tensor(data['GDP per capita'].to_numpy()), [data.shape[0],1])\n",
    "y = tf.reshape(tf.convert_to_tensor(data['Life satisfaction'].to_numpy()), [data.shape[0],1])\n",
    "X, y"
   ]
  },
  {
   "cell_type": "code",
   "execution_count": 6,
   "metadata": {},
   "outputs": [],
   "source": [
    "# Normal Equation Implementation\n",
    "def NE(X: tf.Tensor, y: tf.Tensor) -> tf.Tensor:\n",
    "    X_transpose = tf.transpose(X)\n",
    "    return tf.matmul(tf.linalg.inv(tf.matmul(X_transpose, X)), tf.matmul(X_transpose,y))\n",
    "\n",
    "# Ordinary Least Squares (OLS) Regression - 1 feature\n",
    "def OLS(theta, x):\n",
    "    return theta * x + 1"
   ]
  },
  {
   "cell_type": "markdown",
   "metadata": {},
   "source": [
    "**a. Diagrama de Dispersión de Datos**"
   ]
  },
  {
   "cell_type": "code",
   "execution_count": 7,
   "metadata": {},
   "outputs": [
    {
     "data": {
      "image/png": "[encoded data removed]",
      "text/plain": [
       "<Figure size 640x480 with 1 Axes>"
      ]
     },
     "metadata": {},
     "output_type": "display_data"
    }
   ],
   "source": [
    "sns.scatterplot(\n",
    "    x='GDP per capita', \n",
    "    y='Life satisfaction', \n",
    "    data=data, \n",
    "    markers='o',\n",
    "    alpha=0.9,\n",
    "    fc='purple', \n",
    "    s=25)\n",
    "plt.grid()\n",
    "plt.show()"
   ]
  },
  {
   "cell_type": "markdown",
   "metadata": {},
   "source": [
    "**b. Estimación de los parámetros del modelo**"
   ]
  },
  {
   "cell_type": "code",
   "execution_count": 8,
   "metadata": {},
   "outputs": [],
   "source": [
    "# Get theta coeficcient for OLS\n",
    "theta = NE(X, y)"
   ]
  },
  {
   "cell_type": "markdown",
   "metadata": {},
   "source": [
    "**c. Estimación de satisfacción de vida para un producto interno bruto per cápita de $22,587$**"
   ]
  },
  {
   "cell_type": "code",
   "execution_count": 9,
   "metadata": {},
   "outputs": [
    {
     "name": "stdout",
     "output_type": "stream",
     "text": [
      "tf.Tensor([[4.87761743]], shape=(1, 1), dtype=float64)\n"
     ]
    }
   ],
   "source": [
    "# Get y prediction on a single observation\n",
    "print(OLS(theta, 22587))"
   ]
  },
  {
   "cell_type": "markdown",
   "metadata": {},
   "source": [
    "#### 3. **[25%]** \n",
    "Implementar la operación lógica OR exclusiva (XOR). Utilizar solamente las operaciones básicas AND, OR, y NOT de TensorFlow. Las entradas (x1, x2) como la salida (z) deberán ser **tf.constant()** de tipo booleano."
   ]
  },
  {
   "cell_type": "code",
   "execution_count": 10,
   "metadata": {},
   "outputs": [],
   "source": [
    "def bool_input():\n",
    "    def get_bool(prompt):\n",
    "        while True:\n",
    "            user_input = input(prompt).capitalize()\n",
    "            if user_input == 'True':\n",
    "                return True\n",
    "            elif user_input == 'False':\n",
    "                return False\n",
    "            else:\n",
    "                print(\"Enter True or False\")\n",
    "\n",
    "    bool1 = get_bool(f\"Enter the x1 bool: \")\n",
    "    bool2 = get_bool(f\"Enter the x2 bool: \")\n",
    "    return bool1, bool2"
   ]
  },
  {
   "cell_type": "code",
   "execution_count": 11,
   "metadata": {},
   "outputs": [
    {
     "name": "stdout",
     "output_type": "stream",
     "text": [
      "x1: True\n",
      "x2: False\n",
      "y: True\n"
     ]
    }
   ],
   "source": [
    "def main3():\n",
    "    x1, x2 = bool_input()\n",
    "    print(f'x1: {x1}'); print(f'x2: {x2}')\n",
    "    x = tf.constant([x1, x2], dtype=tf.bool)\n",
    "    z = tf.logical_and(tf.logical_not(tf.logical_and(x[0], x[1])), tf.logical_or(x[0],x[1]))\n",
    "    return z\n",
    "\n",
    "xor_result = main3()\n",
    "print(f'y: {xor_result}')"
   ]
  },
  {
   "cell_type": "markdown",
   "metadata": {},
   "source": [
    "#### 4. **[25%]** \n",
    "Implementar un perceptrón multicapa empleando el **MLPClassifier** de **scikit-learn** como clasificador para el conjunto de datos Iris, el cual contiene la longitud y el ancho del sépalo y pétalo (4 características) de 150 flores (muestras) de tres especies diferentes: Setosa (0), Versicolor (1) y Virginica (2).  \n",
    "\n",
    "a. Imprimir la puntuación (score).  \n",
    "\n",
    "b. Imprimir la predicción (clase) con el siguiente conjunto de prueba:\n",
    "\n",
    "$\\begin{bmatrix} 5.1 & 3.5 & 1.4 & 0.2\\\\ \n",
    "6.4 & 3.5 & 1.4 & 0.2\\\\ \n",
    "5.9 & 3.0 & 5.0 & 1.8 \n",
    "\\end{bmatrix}$"
   ]
  },
  {
   "cell_type": "code",
   "execution_count": 4,
   "metadata": {},
   "outputs": [
    {
     "data": {
      "text/html": [
       "<div>\n",
       "<style scoped>\n",
       "    .dataframe tbody tr th:only-of-type {\n",
       "        vertical-align: middle;\n",
       "    }\n",
       "\n",
       "    .dataframe tbody tr th {\n",
       "        vertical-align: top;\n",
       "    }\n",
       "\n",
       "    .dataframe thead th {\n",
       "        text-align: right;\n",
       "    }\n",
       "</style>\n",
       "<table border=\"1\" class=\"dataframe\">\n",
       "  <thead>\n",
       "    <tr style=\"text-align: right;\">\n",
       "      <th></th>\n",
       "      <th>sepal length (cm)</th>\n",
       "      <th>sepal width (cm)</th>\n",
       "      <th>petal length (cm)</th>\n",
       "      <th>petal width (cm)</th>\n",
       "      <th>class label</th>\n",
       "    </tr>\n",
       "  </thead>\n",
       "  <tbody>\n",
       "    <tr>\n",
       "      <th>0</th>\n",
       "      <td>5.1</td>\n",
       "      <td>3.5</td>\n",
       "      <td>1.4</td>\n",
       "      <td>0.2</td>\n",
       "      <td>0</td>\n",
       "    </tr>\n",
       "    <tr>\n",
       "      <th>1</th>\n",
       "      <td>4.9</td>\n",
       "      <td>3.0</td>\n",
       "      <td>1.4</td>\n",
       "      <td>0.2</td>\n",
       "      <td>0</td>\n",
       "    </tr>\n",
       "    <tr>\n",
       "      <th>2</th>\n",
       "      <td>4.7</td>\n",
       "      <td>3.2</td>\n",
       "      <td>1.3</td>\n",
       "      <td>0.2</td>\n",
       "      <td>0</td>\n",
       "    </tr>\n",
       "    <tr>\n",
       "      <th>3</th>\n",
       "      <td>4.6</td>\n",
       "      <td>3.1</td>\n",
       "      <td>1.5</td>\n",
       "      <td>0.2</td>\n",
       "      <td>0</td>\n",
       "    </tr>\n",
       "    <tr>\n",
       "      <th>4</th>\n",
       "      <td>5.0</td>\n",
       "      <td>3.6</td>\n",
       "      <td>1.4</td>\n",
       "      <td>0.2</td>\n",
       "      <td>0</td>\n",
       "    </tr>\n",
       "    <tr>\n",
       "      <th>...</th>\n",
       "      <td>...</td>\n",
       "      <td>...</td>\n",
       "      <td>...</td>\n",
       "      <td>...</td>\n",
       "      <td>...</td>\n",
       "    </tr>\n",
       "    <tr>\n",
       "      <th>145</th>\n",
       "      <td>6.7</td>\n",
       "      <td>3.0</td>\n",
       "      <td>5.2</td>\n",
       "      <td>2.3</td>\n",
       "      <td>2</td>\n",
       "    </tr>\n",
       "    <tr>\n",
       "      <th>146</th>\n",
       "      <td>6.3</td>\n",
       "      <td>2.5</td>\n",
       "      <td>5.0</td>\n",
       "      <td>1.9</td>\n",
       "      <td>2</td>\n",
       "    </tr>\n",
       "    <tr>\n",
       "      <th>147</th>\n",
       "      <td>6.5</td>\n",
       "      <td>3.0</td>\n",
       "      <td>5.2</td>\n",
       "      <td>2.0</td>\n",
       "      <td>2</td>\n",
       "    </tr>\n",
       "    <tr>\n",
       "      <th>148</th>\n",
       "      <td>6.2</td>\n",
       "      <td>3.4</td>\n",
       "      <td>5.4</td>\n",
       "      <td>2.3</td>\n",
       "      <td>2</td>\n",
       "    </tr>\n",
       "    <tr>\n",
       "      <th>149</th>\n",
       "      <td>5.9</td>\n",
       "      <td>3.0</td>\n",
       "      <td>5.1</td>\n",
       "      <td>1.8</td>\n",
       "      <td>2</td>\n",
       "    </tr>\n",
       "  </tbody>\n",
       "</table>\n",
       "<p>150 rows × 5 columns</p>\n",
       "</div>"
      ],
      "text/plain": [
       "     sepal length (cm)  sepal width (cm)  petal length (cm)  petal width (cm)  \\\n",
       "0                  5.1               3.5                1.4               0.2   \n",
       "1                  4.9               3.0                1.4               0.2   \n",
       "2                  4.7               3.2                1.3               0.2   \n",
       "3                  4.6               3.1                1.5               0.2   \n",
       "4                  5.0               3.6                1.4               0.2   \n",
       "..                 ...               ...                ...               ...   \n",
       "145                6.7               3.0                5.2               2.3   \n",
       "146                6.3               2.5                5.0               1.9   \n",
       "147                6.5               3.0                5.2               2.0   \n",
       "148                6.2               3.4                5.4               2.3   \n",
       "149                5.9               3.0                5.1               1.8   \n",
       "\n",
       "     class label  \n",
       "0              0  \n",
       "1              0  \n",
       "2              0  \n",
       "3              0  \n",
       "4              0  \n",
       "..           ...  \n",
       "145            2  \n",
       "146            2  \n",
       "147            2  \n",
       "148            2  \n",
       "149            2  \n",
       "\n",
       "[150 rows x 5 columns]"
      ]
     },
     "execution_count": 4,
     "metadata": {},
     "output_type": "execute_result"
    }
   ],
   "source": [
    "iris = datasets.load_iris()\n",
    "df_iris = pd.DataFrame(iris.data, columns=iris.feature_names)\n",
    "df_iris.insert(4, 'class label', iris.target.reshape(-1,1))\n",
    "df_iris"
   ]
  },
  {
   "cell_type": "code",
   "execution_count": 5,
   "metadata": {},
   "outputs": [
    {
     "data": {
      "text/plain": [
       "array([0, 0, 0, 0, 0, 0, 0, 0, 0, 0, 0, 0, 0, 0, 0, 0, 0, 0, 0, 0, 0, 0,\n",
       "       0, 0, 0, 0, 0, 0, 0, 0, 0, 0, 0, 0, 0, 0, 0, 0, 0, 0, 0, 0, 0, 0,\n",
       "       0, 0, 0, 0, 0, 0, 1, 1, 1, 1, 1, 1, 1, 1, 1, 1, 1, 1, 1, 1, 1, 1,\n",
       "       1, 1, 1, 1, 1, 1, 1, 1, 1, 1, 1, 1, 1, 1, 1, 1, 1, 1, 1, 1, 1, 1,\n",
       "       1, 1, 1, 1, 1, 1, 1, 1, 1, 1, 1, 1, 2, 2, 2, 2, 2, 2, 2, 2, 2, 2,\n",
       "       2, 2, 2, 2, 2, 2, 2, 2, 2, 2, 2, 2, 2, 2, 2, 2, 2, 2, 2, 2, 2, 2,\n",
       "       2, 2, 2, 2, 2, 2, 2, 2, 2, 2, 2, 2, 2, 2, 2, 2, 2, 2])"
      ]
     },
     "execution_count": 5,
     "metadata": {},
     "output_type": "execute_result"
    }
   ],
   "source": [
    "X = iris.data\n",
    "y = iris.target\n",
    "y"
   ]
  },
  {
   "cell_type": "markdown",
   "metadata": {},
   "source": [
    "**a. Imprimir la puntuación (score)**"
   ]
  },
  {
   "cell_type": "code",
   "execution_count": 14,
   "metadata": {},
   "outputs": [
    {
     "name": "stdout",
     "output_type": "stream",
     "text": [
      "0.980\n"
     ]
    },
    {
     "name": "stderr",
     "output_type": "stream",
     "text": [
      "/Users/kekaz16/miniconda3/envs/tensorflow/lib/python3.11/site-packages/sklearn/neural_network/_multilayer_perceptron.py:686: ConvergenceWarning: Stochastic Optimizer: Maximum iterations (500) reached and the optimization hasn't converged yet.\n",
      "  warnings.warn(\n"
     ]
    }
   ],
   "source": [
    "model = MLPClassifier(\n",
    "    random_state=5,\n",
    "    activation='relu',\n",
    "    solver='adam',\n",
    "    alpha=0.0001,\n",
    "    learning_rate='constant',\n",
    "    max_iter=500,\n",
    "    verbose=False)\n",
    "model.fit(X, y)\n",
    "print(\"%0.3f\" % model.score(X,y))"
   ]
  },
  {
   "cell_type": "markdown",
   "metadata": {},
   "source": [
    "**b. Imprimir la predicción (clase) con el siguiente conjunto de prueba:**  \n",
    "\n",
    "$\\begin{bmatrix} 5.1 & 3.5 & 1.4 & 0.2\\\\ \n",
    "6.4 & 3.5 & 1.4 & 0.2\\\\ \n",
    "5.9 & 3.0 & 5.0 & 1.8 \n",
    "\\end{bmatrix}$"
   ]
  },
  {
   "cell_type": "code",
   "execution_count": 15,
   "metadata": {},
   "outputs": [
    {
     "data": {
      "text/plain": [
       "array([0, 0, 2])"
      ]
     },
     "execution_count": 15,
     "metadata": {},
     "output_type": "execute_result"
    }
   ],
   "source": [
    "X_test = np.array([[5.1, 3.5, 1.4, 0.2],\n",
    "                   [6.4, 3.5, 1.4, 0.2],\n",
    "                   [5.9, 3.0, 5.0, 1.8]])\n",
    "\n",
    "model.predict(X_test)"
   ]
  }
 ],
 "metadata": {
  "kernelspec": {
   "display_name": "tensorflow",
   "language": "python",
   "name": "python3"
  },
  "language_info": {
   "codemirror_mode": {
    "name": "ipython",
    "version": 3
   },
   "file_extension": ".py",
   "mimetype": "text/x-python",
   "name": "python",
   "nbconvert_exporter": "python",
   "pygments_lexer": "ipython3",
   "version": "3.11.7"
  }
 },
 "nbformat": 4,
 "nbformat_minor": 2
}
