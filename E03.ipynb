{
 "cells": [
  {
   "cell_type": "markdown",
   "metadata": {},
   "source": [
    "## E03 Convolutional Neural Networks (CNN)"
   ]
  },
  {
   "cell_type": "code",
   "execution_count": 69,
   "metadata": {},
   "outputs": [],
   "source": [
    "import numpy as np\n",
    "import pandas as pd\n",
    "\n",
    "IMG_DIMS = (7,7)\n",
    "FILTER_DIMS = (3,3)"
   ]
  },
  {
   "cell_type": "markdown",
   "metadata": {},
   "source": [
    "## **E3.02**"
   ]
  },
  {
   "cell_type": "code",
   "execution_count": 162,
   "metadata": {},
   "outputs": [
    {
     "name": "stdout",
     "output_type": "stream",
     "text": [
      "[5, 5]\n",
      "[5, 7]\n"
     ]
    }
   ],
   "source": [
    "def get_feature_map(img:tuple, f:tuple) -> tuple:\n",
    "    feature_dims = list((0,0))\n",
    "    for i in range(img[0]):\n",
    "        i += f[0] - 1\n",
    "        if (i < img[0]) : feature_dims[0] += 1\n",
    "    for j in range(img[1]):\n",
    "        j += f[1] - 1\n",
    "        if (j < img[1]): feature_dims[1] += 1\n",
    "    return feature_dims\n",
    "            \n",
    "print(get_feature_map(IMG_DIMS, FILTER_DIMS))\n",
    "print(get_feature_map((7,9), (3,3)))"
   ]
  },
  {
   "cell_type": "markdown",
   "metadata": {},
   "source": [
    "## **E3.04**"
   ]
  },
  {
   "cell_type": "markdown",
   "metadata": {},
   "source": [
    "Mejorar la implementación del `E3.02`. Realizar  \n",
    "una función que reciba como parámetros de entrada las  \n",
    "dimensiones de la **Imagen**, las dimensiones del **Filtro** y el  \n",
    "tamaño del paso (stride). La función deberá regresar como resultado"
   ]
  },
  {
   "cell_type": "code",
   "execution_count": 160,
   "metadata": {},
   "outputs": [
    {
     "name": "stdout",
     "output_type": "stream",
     "text": [
      "(5.0, 5.0)\n",
      "(3.0, 3.0)\n"
     ]
    }
   ],
   "source": [
    "def get_fm(img:tuple, f:tuple, stride:np.int8) -> tuple:\n",
    "    feature_dims = np.empty(2)\n",
    "    feature_dims[0] = ((img[0] - f[0]) / stride) + 1\n",
    "    feature_dims[1] = ((img[1] - f[1]) / stride) + 1\n",
    "    return tuple(feature_dims)\n",
    "            \n",
    "print(get_fm(IMG_DIMS, FILTER_DIMS, 1))\n",
    "print(get_fm(IMG_DIMS, FILTER_DIMS, 2))"
   ]
  },
  {
   "cell_type": "markdown",
   "metadata": {},
   "source": [
    "**Resultados:**  \n",
    "$7,7,3,3,2 | 3,3$  \n",
    "$7,7,3,3,1 | 5,5$"
   ]
  },
  {
   "cell_type": "markdown",
   "metadata": {},
   "source": [
    "## **E3.06:**\n",
    "Mejorar la implementación del ejercicio 3.04. Realizar  \n",
    "una función que reciba como parámetros de entrada las  \n",
    "dimensiones de la **Imagen**, las dimensiones del **Filtro** y el  \n",
    "tamaño del paso **(stride)**. La función deberá regresar  \n",
    "como resultado (Salida) las dimensiones del mapa de  \n",
    "características y deberá **validar** que el filtro se\n",
    "pueda ajustar."
   ]
  },
  {
   "cell_type": "code",
   "execution_count": 158,
   "metadata": {},
   "outputs": [
    {
     "name": "stdout",
     "output_type": "stream",
     "text": [
      "(5.0, 5.0)\n",
      "(3.0, 3.0)\n",
      "Operation is not valid!\n"
     ]
    }
   ],
   "source": [
    "def get_fm(img:tuple, f:tuple, stride:np.int8) -> tuple:\n",
    "    feature_dims = np.empty(2)\n",
    "    if (((img[0] - f[0]) % stride != 0) or ((img[1] - f[1]) % stride != 0)):\n",
    "        return \"Operation is not valid!\"\n",
    "    else:\n",
    "        feature_dims[0] = ((img[0] - f[0]) / stride) + 1\n",
    "        feature_dims[1] = ((img[1] - f[1]) / stride) + 1\n",
    "    return tuple(feature_dims)\n",
    "\n",
    "print(get_fm(IMG_DIMS, FILTER_DIMS, 1))\n",
    "print(get_fm(IMG_DIMS, FILTER_DIMS, 2))\n",
    "print(get_fm(IMG_DIMS, FILTER_DIMS, 3))"
   ]
  }
 ],
 "metadata": {
  "kernelspec": {
   "display_name": "Python 3.9 (tensorflow)",
   "language": "python",
   "name": "tensorflow"
  },
  "language_info": {
   "codemirror_mode": {
    "name": "ipython",
    "version": 3
   },
   "file_extension": ".py",
   "mimetype": "text/x-python",
   "name": "python",
   "nbconvert_exporter": "python",
   "pygments_lexer": "ipython3",
   "version": "3.11.7"
  }
 },
 "nbformat": 4,
 "nbformat_minor": 2
}
